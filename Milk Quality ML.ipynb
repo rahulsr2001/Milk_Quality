{
 "cells": [
  {
   "cell_type": "markdown",
   "id": "d06e47b6-eae5-4987-8d7a-334a71e32992",
   "metadata": {},
   "source": [
    "# MILK QUALITY DATA"
   ]
  },
  {
   "cell_type": "code",
   "execution_count": 1,
   "id": "fbd37dc3-b748-40c5-a6d7-528af854c4b1",
   "metadata": {},
   "outputs": [],
   "source": [
    "import numpy as np\n",
    "import pandas as pd\n",
    "import matplotlib.pyplot as plt\n",
    "import seaborn as sns"
   ]
  },
  {
   "cell_type": "code",
   "execution_count": 2,
   "id": "3e39a9f7-e3fe-4d6b-a946-899dcf17ceef",
   "metadata": {},
   "outputs": [],
   "source": [
    "df=pd.read_csv(r\"C:\\Users\\Asus\\Downloads\\milknew.csv\")"
   ]
  },
  {
   "cell_type": "markdown",
   "id": "8996b2fe-342c-4953-ab32-50d07bd1f1a5",
   "metadata": {},
   "source": [
    "# DATA ANALYSING"
   ]
  },
  {
   "cell_type": "code",
   "execution_count": 3,
   "id": "56c65462-93f5-46f1-97ef-fbec92efecff",
   "metadata": {},
   "outputs": [
    {
     "data": {
      "text/html": [
       "<div>\n",
       "<style scoped>\n",
       "    .dataframe tbody tr th:only-of-type {\n",
       "        vertical-align: middle;\n",
       "    }\n",
       "\n",
       "    .dataframe tbody tr th {\n",
       "        vertical-align: top;\n",
       "    }\n",
       "\n",
       "    .dataframe thead th {\n",
       "        text-align: right;\n",
       "    }\n",
       "</style>\n",
       "<table border=\"1\" class=\"dataframe\">\n",
       "  <thead>\n",
       "    <tr style=\"text-align: right;\">\n",
       "      <th></th>\n",
       "      <th>pH</th>\n",
       "      <th>Temprature</th>\n",
       "      <th>Taste</th>\n",
       "      <th>Odor</th>\n",
       "      <th>Fat</th>\n",
       "      <th>Turbidity</th>\n",
       "      <th>Colour</th>\n",
       "      <th>Grade</th>\n",
       "    </tr>\n",
       "  </thead>\n",
       "  <tbody>\n",
       "    <tr>\n",
       "      <th>0</th>\n",
       "      <td>6.6</td>\n",
       "      <td>35</td>\n",
       "      <td>1</td>\n",
       "      <td>0</td>\n",
       "      <td>1</td>\n",
       "      <td>0</td>\n",
       "      <td>254</td>\n",
       "      <td>high</td>\n",
       "    </tr>\n",
       "    <tr>\n",
       "      <th>1</th>\n",
       "      <td>6.6</td>\n",
       "      <td>36</td>\n",
       "      <td>0</td>\n",
       "      <td>1</td>\n",
       "      <td>0</td>\n",
       "      <td>1</td>\n",
       "      <td>253</td>\n",
       "      <td>high</td>\n",
       "    </tr>\n",
       "    <tr>\n",
       "      <th>2</th>\n",
       "      <td>8.5</td>\n",
       "      <td>70</td>\n",
       "      <td>1</td>\n",
       "      <td>1</td>\n",
       "      <td>1</td>\n",
       "      <td>1</td>\n",
       "      <td>246</td>\n",
       "      <td>low</td>\n",
       "    </tr>\n",
       "    <tr>\n",
       "      <th>3</th>\n",
       "      <td>9.5</td>\n",
       "      <td>34</td>\n",
       "      <td>1</td>\n",
       "      <td>1</td>\n",
       "      <td>0</td>\n",
       "      <td>1</td>\n",
       "      <td>255</td>\n",
       "      <td>low</td>\n",
       "    </tr>\n",
       "    <tr>\n",
       "      <th>4</th>\n",
       "      <td>6.6</td>\n",
       "      <td>37</td>\n",
       "      <td>0</td>\n",
       "      <td>0</td>\n",
       "      <td>0</td>\n",
       "      <td>0</td>\n",
       "      <td>255</td>\n",
       "      <td>medium</td>\n",
       "    </tr>\n",
       "    <tr>\n",
       "      <th>...</th>\n",
       "      <td>...</td>\n",
       "      <td>...</td>\n",
       "      <td>...</td>\n",
       "      <td>...</td>\n",
       "      <td>...</td>\n",
       "      <td>...</td>\n",
       "      <td>...</td>\n",
       "      <td>...</td>\n",
       "    </tr>\n",
       "    <tr>\n",
       "      <th>1054</th>\n",
       "      <td>6.7</td>\n",
       "      <td>45</td>\n",
       "      <td>1</td>\n",
       "      <td>1</td>\n",
       "      <td>0</td>\n",
       "      <td>0</td>\n",
       "      <td>247</td>\n",
       "      <td>medium</td>\n",
       "    </tr>\n",
       "    <tr>\n",
       "      <th>1055</th>\n",
       "      <td>6.7</td>\n",
       "      <td>38</td>\n",
       "      <td>1</td>\n",
       "      <td>0</td>\n",
       "      <td>1</td>\n",
       "      <td>0</td>\n",
       "      <td>255</td>\n",
       "      <td>high</td>\n",
       "    </tr>\n",
       "    <tr>\n",
       "      <th>1056</th>\n",
       "      <td>3.0</td>\n",
       "      <td>40</td>\n",
       "      <td>1</td>\n",
       "      <td>1</td>\n",
       "      <td>1</td>\n",
       "      <td>1</td>\n",
       "      <td>255</td>\n",
       "      <td>low</td>\n",
       "    </tr>\n",
       "    <tr>\n",
       "      <th>1057</th>\n",
       "      <td>6.8</td>\n",
       "      <td>43</td>\n",
       "      <td>1</td>\n",
       "      <td>0</td>\n",
       "      <td>1</td>\n",
       "      <td>0</td>\n",
       "      <td>250</td>\n",
       "      <td>high</td>\n",
       "    </tr>\n",
       "    <tr>\n",
       "      <th>1058</th>\n",
       "      <td>8.6</td>\n",
       "      <td>55</td>\n",
       "      <td>0</td>\n",
       "      <td>1</td>\n",
       "      <td>1</td>\n",
       "      <td>1</td>\n",
       "      <td>255</td>\n",
       "      <td>low</td>\n",
       "    </tr>\n",
       "  </tbody>\n",
       "</table>\n",
       "<p>1059 rows × 8 columns</p>\n",
       "</div>"
      ],
      "text/plain": [
       "       pH  Temprature  Taste  Odor  Fat   Turbidity  Colour   Grade\n",
       "0     6.6          35      1     0     1          0     254    high\n",
       "1     6.6          36      0     1     0          1     253    high\n",
       "2     8.5          70      1     1     1          1     246     low\n",
       "3     9.5          34      1     1     0          1     255     low\n",
       "4     6.6          37      0     0     0          0     255  medium\n",
       "...   ...         ...    ...   ...   ...        ...     ...     ...\n",
       "1054  6.7          45      1     1     0          0     247  medium\n",
       "1055  6.7          38      1     0     1          0     255    high\n",
       "1056  3.0          40      1     1     1          1     255     low\n",
       "1057  6.8          43      1     0     1          0     250    high\n",
       "1058  8.6          55      0     1     1          1     255     low\n",
       "\n",
       "[1059 rows x 8 columns]"
      ]
     },
     "execution_count": 3,
     "metadata": {},
     "output_type": "execute_result"
    }
   ],
   "source": [
    "df"
   ]
  },
  {
   "cell_type": "code",
   "execution_count": 4,
   "id": "d18a8a9d-2aac-4148-8927-8b73d03315f6",
   "metadata": {},
   "outputs": [
    {
     "data": {
      "text/html": [
       "<div>\n",
       "<style scoped>\n",
       "    .dataframe tbody tr th:only-of-type {\n",
       "        vertical-align: middle;\n",
       "    }\n",
       "\n",
       "    .dataframe tbody tr th {\n",
       "        vertical-align: top;\n",
       "    }\n",
       "\n",
       "    .dataframe thead th {\n",
       "        text-align: right;\n",
       "    }\n",
       "</style>\n",
       "<table border=\"1\" class=\"dataframe\">\n",
       "  <thead>\n",
       "    <tr style=\"text-align: right;\">\n",
       "      <th></th>\n",
       "      <th>pH</th>\n",
       "      <th>Temprature</th>\n",
       "      <th>Taste</th>\n",
       "      <th>Odor</th>\n",
       "      <th>Fat</th>\n",
       "      <th>Turbidity</th>\n",
       "      <th>Colour</th>\n",
       "      <th>Grade</th>\n",
       "    </tr>\n",
       "  </thead>\n",
       "  <tbody>\n",
       "    <tr>\n",
       "      <th>0</th>\n",
       "      <td>6.6</td>\n",
       "      <td>35</td>\n",
       "      <td>1</td>\n",
       "      <td>0</td>\n",
       "      <td>1</td>\n",
       "      <td>0</td>\n",
       "      <td>254</td>\n",
       "      <td>high</td>\n",
       "    </tr>\n",
       "    <tr>\n",
       "      <th>1</th>\n",
       "      <td>6.6</td>\n",
       "      <td>36</td>\n",
       "      <td>0</td>\n",
       "      <td>1</td>\n",
       "      <td>0</td>\n",
       "      <td>1</td>\n",
       "      <td>253</td>\n",
       "      <td>high</td>\n",
       "    </tr>\n",
       "    <tr>\n",
       "      <th>2</th>\n",
       "      <td>8.5</td>\n",
       "      <td>70</td>\n",
       "      <td>1</td>\n",
       "      <td>1</td>\n",
       "      <td>1</td>\n",
       "      <td>1</td>\n",
       "      <td>246</td>\n",
       "      <td>low</td>\n",
       "    </tr>\n",
       "    <tr>\n",
       "      <th>3</th>\n",
       "      <td>9.5</td>\n",
       "      <td>34</td>\n",
       "      <td>1</td>\n",
       "      <td>1</td>\n",
       "      <td>0</td>\n",
       "      <td>1</td>\n",
       "      <td>255</td>\n",
       "      <td>low</td>\n",
       "    </tr>\n",
       "    <tr>\n",
       "      <th>4</th>\n",
       "      <td>6.6</td>\n",
       "      <td>37</td>\n",
       "      <td>0</td>\n",
       "      <td>0</td>\n",
       "      <td>0</td>\n",
       "      <td>0</td>\n",
       "      <td>255</td>\n",
       "      <td>medium</td>\n",
       "    </tr>\n",
       "  </tbody>\n",
       "</table>\n",
       "</div>"
      ],
      "text/plain": [
       "    pH  Temprature  Taste  Odor  Fat   Turbidity  Colour   Grade\n",
       "0  6.6          35      1     0     1          0     254    high\n",
       "1  6.6          36      0     1     0          1     253    high\n",
       "2  8.5          70      1     1     1          1     246     low\n",
       "3  9.5          34      1     1     0          1     255     low\n",
       "4  6.6          37      0     0     0          0     255  medium"
      ]
     },
     "execution_count": 4,
     "metadata": {},
     "output_type": "execute_result"
    }
   ],
   "source": [
    "df.head()"
   ]
  },
  {
   "cell_type": "code",
   "execution_count": 5,
   "id": "5241a68b-bc40-4ca1-881b-0afcad349aae",
   "metadata": {},
   "outputs": [
    {
     "data": {
      "text/html": [
       "<div>\n",
       "<style scoped>\n",
       "    .dataframe tbody tr th:only-of-type {\n",
       "        vertical-align: middle;\n",
       "    }\n",
       "\n",
       "    .dataframe tbody tr th {\n",
       "        vertical-align: top;\n",
       "    }\n",
       "\n",
       "    .dataframe thead th {\n",
       "        text-align: right;\n",
       "    }\n",
       "</style>\n",
       "<table border=\"1\" class=\"dataframe\">\n",
       "  <thead>\n",
       "    <tr style=\"text-align: right;\">\n",
       "      <th></th>\n",
       "      <th>pH</th>\n",
       "      <th>Temprature</th>\n",
       "      <th>Taste</th>\n",
       "      <th>Odor</th>\n",
       "      <th>Fat</th>\n",
       "      <th>Turbidity</th>\n",
       "      <th>Colour</th>\n",
       "      <th>Grade</th>\n",
       "    </tr>\n",
       "  </thead>\n",
       "  <tbody>\n",
       "    <tr>\n",
       "      <th>1054</th>\n",
       "      <td>6.7</td>\n",
       "      <td>45</td>\n",
       "      <td>1</td>\n",
       "      <td>1</td>\n",
       "      <td>0</td>\n",
       "      <td>0</td>\n",
       "      <td>247</td>\n",
       "      <td>medium</td>\n",
       "    </tr>\n",
       "    <tr>\n",
       "      <th>1055</th>\n",
       "      <td>6.7</td>\n",
       "      <td>38</td>\n",
       "      <td>1</td>\n",
       "      <td>0</td>\n",
       "      <td>1</td>\n",
       "      <td>0</td>\n",
       "      <td>255</td>\n",
       "      <td>high</td>\n",
       "    </tr>\n",
       "    <tr>\n",
       "      <th>1056</th>\n",
       "      <td>3.0</td>\n",
       "      <td>40</td>\n",
       "      <td>1</td>\n",
       "      <td>1</td>\n",
       "      <td>1</td>\n",
       "      <td>1</td>\n",
       "      <td>255</td>\n",
       "      <td>low</td>\n",
       "    </tr>\n",
       "    <tr>\n",
       "      <th>1057</th>\n",
       "      <td>6.8</td>\n",
       "      <td>43</td>\n",
       "      <td>1</td>\n",
       "      <td>0</td>\n",
       "      <td>1</td>\n",
       "      <td>0</td>\n",
       "      <td>250</td>\n",
       "      <td>high</td>\n",
       "    </tr>\n",
       "    <tr>\n",
       "      <th>1058</th>\n",
       "      <td>8.6</td>\n",
       "      <td>55</td>\n",
       "      <td>0</td>\n",
       "      <td>1</td>\n",
       "      <td>1</td>\n",
       "      <td>1</td>\n",
       "      <td>255</td>\n",
       "      <td>low</td>\n",
       "    </tr>\n",
       "  </tbody>\n",
       "</table>\n",
       "</div>"
      ],
      "text/plain": [
       "       pH  Temprature  Taste  Odor  Fat   Turbidity  Colour   Grade\n",
       "1054  6.7          45      1     1     0          0     247  medium\n",
       "1055  6.7          38      1     0     1          0     255    high\n",
       "1056  3.0          40      1     1     1          1     255     low\n",
       "1057  6.8          43      1     0     1          0     250    high\n",
       "1058  8.6          55      0     1     1          1     255     low"
      ]
     },
     "execution_count": 5,
     "metadata": {},
     "output_type": "execute_result"
    }
   ],
   "source": [
    "df.tail()"
   ]
  },
  {
   "cell_type": "code",
   "execution_count": 6,
   "id": "195f960f-769b-456e-8671-e7a3df011b6d",
   "metadata": {},
   "outputs": [
    {
     "data": {
      "text/plain": [
       "(1059, 8)"
      ]
     },
     "execution_count": 6,
     "metadata": {},
     "output_type": "execute_result"
    }
   ],
   "source": [
    "df.shape"
   ]
  },
  {
   "cell_type": "code",
   "execution_count": 7,
   "id": "4f3c9a4d-898e-4a09-aa4e-db795c88c1b4",
   "metadata": {},
   "outputs": [
    {
     "data": {
      "text/plain": [
       "Index(['pH', 'Temprature', 'Taste', 'Odor', 'Fat ', 'Turbidity', 'Colour',\n",
       "       'Grade'],\n",
       "      dtype='object')"
      ]
     },
     "execution_count": 7,
     "metadata": {},
     "output_type": "execute_result"
    }
   ],
   "source": [
    "df.columns"
   ]
  },
  {
   "cell_type": "code",
   "execution_count": 8,
   "id": "739213cb-c7ca-4f84-b464-454ce053b4bf",
   "metadata": {},
   "outputs": [
    {
     "data": {
      "text/plain": [
       "pH            float64\n",
       "Temprature      int64\n",
       "Taste           int64\n",
       "Odor            int64\n",
       "Fat             int64\n",
       "Turbidity       int64\n",
       "Colour          int64\n",
       "Grade          object\n",
       "dtype: object"
      ]
     },
     "execution_count": 8,
     "metadata": {},
     "output_type": "execute_result"
    }
   ],
   "source": [
    "df.dtypes"
   ]
  },
  {
   "cell_type": "code",
   "execution_count": 9,
   "id": "b84ffa37-d853-4ceb-998c-837c4a4b351f",
   "metadata": {},
   "outputs": [
    {
     "data": {
      "text/plain": [
       "pH            0\n",
       "Temprature    0\n",
       "Taste         0\n",
       "Odor          0\n",
       "Fat           0\n",
       "Turbidity     0\n",
       "Colour        0\n",
       "Grade         0\n",
       "dtype: int64"
      ]
     },
     "execution_count": 9,
     "metadata": {},
     "output_type": "execute_result"
    }
   ],
   "source": [
    "df.isnull().sum()"
   ]
  },
  {
   "cell_type": "markdown",
   "id": "ba91f07b-2fe2-48b9-8ab8-e6cb83cf3437",
   "metadata": {},
   "source": [
    "# DATA CLEANING"
   ]
  },
  {
   "cell_type": "code",
   "execution_count": 10,
   "id": "8090c0e8-e70e-4471-92f2-0aad6df48990",
   "metadata": {},
   "outputs": [
    {
     "data": {
      "text/plain": [
       "Text(0.5, 1.0, 'ph')"
      ]
     },
     "execution_count": 10,
     "metadata": {},
     "output_type": "execute_result"
    },
    {
     "data": {
      "image/png": "[encoded data removed]",
      "text/plain": [
       "<Figure size 640x480 with 1 Axes>"
      ]
     },
     "metadata": {},
     "output_type": "display_data"
    }
   ],
   "source": [
    "plt.boxplot(df['pH'])\n",
    "plt.title('ph')"
   ]
  },
  {
   "cell_type": "code",
   "execution_count": 11,
   "id": "91f63aac-af54-42d7-afd2-b750595661ef",
   "metadata": {},
   "outputs": [
    {
     "data": {
      "text/plain": [
       "Text(0.5, 1.0, \"['Temprature']\")"
      ]
     },
     "execution_count": 11,
     "metadata": {},
     "output_type": "execute_result"
    },
    {
     "data": {
      "image/png": "[encoded data removed]",
      "text/plain": [
       "<Figure size 640x480 with 1 Axes>"
      ]
     },
     "metadata": {},
     "output_type": "display_data"
    }
   ],
   "source": [
    "plt.boxplot(df['Temprature'])\n",
    "plt.title(['Temprature'])"
   ]
  },
  {
   "cell_type": "code",
   "execution_count": 12,
   "id": "7a158f5a-ccd2-4ba2-9cef-28adbf6faca6",
   "metadata": {},
   "outputs": [
    {
     "name": "stdout",
     "output_type": "stream",
     "text": [
      "6.5\n",
      "6.7\n",
      "6.8\n"
     ]
    }
   ],
   "source": [
    "Q1=np.percentile(df['pH'],25,interpolation='midpoint')\n",
    "Q2=np.percentile(df['pH'],50,interpolation='midpoint')\n",
    "Q3=np.percentile(df['pH'],75,interpolation='midpoint')\n",
    "print(Q1)\n",
    "print(Q2)\n",
    "print(Q3)"
   ]
  },
  {
   "cell_type": "code",
   "execution_count": 13,
   "id": "40ee1ffa-3991-41dc-b2a2-1cbcc29ecbf4",
   "metadata": {},
   "outputs": [
    {
     "name": "stdout",
     "output_type": "stream",
     "text": [
      "0.2999999999999998\n"
     ]
    }
   ],
   "source": [
    "IQR=Q3-Q1\n",
    "print(IQR)"
   ]
  },
  {
   "cell_type": "code",
   "execution_count": 14,
   "id": "f31aec4a-2ed1-47fe-af37-24fbe2d8d420",
   "metadata": {},
   "outputs": [
    {
     "name": "stdout",
     "output_type": "stream",
     "text": [
      "7.25\n",
      "6.050000000000001\n"
     ]
    }
   ],
   "source": [
    "upper_limit=Q3+1.5*IQR\n",
    "lower_limit=Q1-1.5*IQR\n",
    "print(upper_limit)\n",
    "print(lower_limit)"
   ]
  },
  {
   "cell_type": "code",
   "execution_count": 15,
   "id": "a2804a68-7889-4579-bfc7-70002cd7df39",
   "metadata": {},
   "outputs": [
    {
     "data": {
      "text/plain": [
       "[6.6,\n",
       " 6.6,\n",
       " 8.5,\n",
       " 9.5,\n",
       " 6.6,\n",
       " 6.6,\n",
       " 8.1,\n",
       " 6.7,\n",
       " 6.7,\n",
       " 8.6,\n",
       " 7.4,\n",
       " 6.8,\n",
       " 6.5,\n",
       " 9.0,\n",
       " 6.8,\n",
       " 6.6,\n",
       " 6.5,\n",
       " 6.6,\n",
       " 6.8,\n",
       " 6.5,\n",
       " 8.5,\n",
       " 6.6,\n",
       " 6.5,\n",
       " 6.6,\n",
       " 6.4,\n",
       " 6.5,\n",
       " 6.8,\n",
       " 6.7,\n",
       " 6.7,\n",
       " 6.8,\n",
       " 8.6,\n",
       " 7.4,\n",
       " 6.8,\n",
       " 6.5,\n",
       " 6.8,\n",
       " 9.0,\n",
       " 6.8,\n",
       " 6.6,\n",
       " 6.5,\n",
       " 6.6,\n",
       " 6.8,\n",
       " 9.5,\n",
       " 6.5,\n",
       " 6.6,\n",
       " 8.1,\n",
       " 6.7,\n",
       " 6.7,\n",
       " 8.6,\n",
       " 7.4,\n",
       " 6.8,\n",
       " 6.5,\n",
       " 6.7,\n",
       " 9.0,\n",
       " 8.6,\n",
       " 6.8,\n",
       " 6.8,\n",
       " 6.5,\n",
       " 9.0,\n",
       " 6.8,\n",
       " 6.6,\n",
       " 6.5,\n",
       " 6.8,\n",
       " 6.5,\n",
       " 6.8,\n",
       " 8.5,\n",
       " 6.8,\n",
       " 6.5,\n",
       " 6.6,\n",
       " 6.8,\n",
       " 7.4,\n",
       " 6.8,\n",
       " 6.5,\n",
       " 6.6,\n",
       " 9.0,\n",
       " 6.8,\n",
       " 6.6,\n",
       " 6.5,\n",
       " 6.6,\n",
       " 6.8,\n",
       " 9.5,\n",
       " 6.5,\n",
       " 9.5,\n",
       " 6.5,\n",
       " 6.6,\n",
       " 8.1,\n",
       " 6.7,\n",
       " 6.7,\n",
       " 6.6,\n",
       " 7.4,\n",
       " 6.8,\n",
       " 6.5,\n",
       " 6.7,\n",
       " 6.6,\n",
       " 8.6,\n",
       " 6.8,\n",
       " 6.8,\n",
       " 6.5,\n",
       " 6.6,\n",
       " 9.0,\n",
       " 6.8,\n",
       " 6.6,\n",
       " 6.5,\n",
       " 6.6,\n",
       " 6.8,\n",
       " 6.5,\n",
       " 6.8,\n",
       " 8.5,\n",
       " 6.8,\n",
       " 6.6,\n",
       " 6.5,\n",
       " 6.8,\n",
       " 6.5,\n",
       " 6.8,\n",
       " 8.5,\n",
       " 6.8,\n",
       " 6.5,\n",
       " 6.6,\n",
       " 6.8,\n",
       " 7.4,\n",
       " 6.8,\n",
       " 6.5,\n",
       " 6.6,\n",
       " 9.0,\n",
       " 6.8,\n",
       " 6.6,\n",
       " 6.5,\n",
       " 6.6,\n",
       " 6.8,\n",
       " 9.5,\n",
       " 6.5,\n",
       " 9.5,\n",
       " 6.5,\n",
       " 6.6,\n",
       " 8.1,\n",
       " 6.7,\n",
       " 6.7,\n",
       " 6.6,\n",
       " 7.4,\n",
       " 6.8,\n",
       " 6.5,\n",
       " 6.7,\n",
       " 6.7,\n",
       " 6.8,\n",
       " 8.6,\n",
       " 7.4,\n",
       " 6.8,\n",
       " 6.5,\n",
       " 6.8,\n",
       " 9.0,\n",
       " 6.8,\n",
       " 6.6,\n",
       " 6.5,\n",
       " 6.6,\n",
       " 6.8,\n",
       " 9.5,\n",
       " 6.5,\n",
       " 6.6,\n",
       " 8.1,\n",
       " 6.7,\n",
       " 6.7,\n",
       " 8.6,\n",
       " 7.4,\n",
       " 6.8,\n",
       " 6.5,\n",
       " 6.7,\n",
       " 9.0,\n",
       " 8.6,\n",
       " 6.8,\n",
       " 6.8,\n",
       " 6.5,\n",
       " 9.0,\n",
       " 6.8,\n",
       " 6.5,\n",
       " 6.6,\n",
       " 8.1,\n",
       " 6.7,\n",
       " 6.7,\n",
       " 8.6,\n",
       " 7.4,\n",
       " 6.8,\n",
       " 6.5,\n",
       " 6.7,\n",
       " 9.0,\n",
       " 8.6,\n",
       " 6.8,\n",
       " 6.8,\n",
       " 6.5,\n",
       " 9.0,\n",
       " 6.8,\n",
       " 6.6,\n",
       " 6.5,\n",
       " 6.8,\n",
       " 6.5,\n",
       " 6.8,\n",
       " 8.5,\n",
       " 6.8,\n",
       " 6.5,\n",
       " 6.6,\n",
       " 6.8,\n",
       " 7.4,\n",
       " 6.8,\n",
       " 6.5,\n",
       " 6.6,\n",
       " 9.0,\n",
       " 6.5,\n",
       " 6.7,\n",
       " 6.6,\n",
       " 8.6,\n",
       " 6.8,\n",
       " 6.8,\n",
       " 6.5,\n",
       " 6.6,\n",
       " 9.0,\n",
       " 6.8,\n",
       " 6.6,\n",
       " 6.5,\n",
       " 6.6,\n",
       " 6.8,\n",
       " 6.5,\n",
       " 6.8,\n",
       " 8.5,\n",
       " 6.8,\n",
       " 6.6,\n",
       " 6.5,\n",
       " 6.8,\n",
       " 6.5,\n",
       " 6.8,\n",
       " 8.5,\n",
       " 6.8,\n",
       " 9.0,\n",
       " 6.8,\n",
       " 6.6,\n",
       " 6.5,\n",
       " 6.6,\n",
       " 6.8,\n",
       " 9.5,\n",
       " 6.5,\n",
       " 9.5,\n",
       " 6.5,\n",
       " 6.6,\n",
       " 8.1,\n",
       " 6.7,\n",
       " 6.7,\n",
       " 6.6,\n",
       " 7.4,\n",
       " 6.8,\n",
       " 6.5,\n",
       " 6.7,\n",
       " 6.7,\n",
       " 6.8,\n",
       " 8.6,\n",
       " 7.4,\n",
       " 6.8,\n",
       " 6.5,\n",
       " 6.8,\n",
       " 9.0,\n",
       " 6.8,\n",
       " 6.6,\n",
       " 6.5,\n",
       " 6.6,\n",
       " 6.8,\n",
       " 9.5,\n",
       " 6.5,\n",
       " 6.6,\n",
       " 8.1,\n",
       " 6.7,\n",
       " 6.7,\n",
       " 8.6,\n",
       " 7.4,\n",
       " 6.8,\n",
       " 6.5,\n",
       " 6.7,\n",
       " 9.0,\n",
       " 8.6,\n",
       " 6.8,\n",
       " 6.8,\n",
       " 6.5,\n",
       " 9.0,\n",
       " 6.8,\n",
       " 6.5,\n",
       " 6.6,\n",
       " 8.1,\n",
       " 6.7,\n",
       " 6.7,\n",
       " 8.6,\n",
       " 7.4,\n",
       " 6.8,\n",
       " 6.5,\n",
       " 6.7,\n",
       " 9.0,\n",
       " 8.6,\n",
       " 6.8,\n",
       " 6.8,\n",
       " 6.5,\n",
       " 9.0,\n",
       " 6.8,\n",
       " 6.6,\n",
       " 6.5,\n",
       " 6.8,\n",
       " 6.5,\n",
       " 6.8,\n",
       " 8.5,\n",
       " 6.8,\n",
       " 6.5,\n",
       " 6.6,\n",
       " 6.8,\n",
       " 7.4,\n",
       " 6.8,\n",
       " 6.5,\n",
       " 6.6,\n",
       " 9.0,\n",
       " 6.5,\n",
       " 6.7,\n",
       " 6.6,\n",
       " 8.6,\n",
       " 6.8,\n",
       " 6.8,\n",
       " 6.5,\n",
       " 6.6,\n",
       " 9.0,\n",
       " 6.8,\n",
       " 6.6,\n",
       " 6.5,\n",
       " 6.8,\n",
       " 6.5,\n",
       " 9.0,\n",
       " 6.8,\n",
       " 6.6,\n",
       " 6.5,\n",
       " 6.8,\n",
       " 6.5,\n",
       " 6.8,\n",
       " 8.5,\n",
       " 6.8,\n",
       " 6.5,\n",
       " 6.6,\n",
       " 6.8,\n",
       " 7.4,\n",
       " 6.8,\n",
       " 6.5,\n",
       " 6.6,\n",
       " 9.0,\n",
       " 6.8,\n",
       " 6.6,\n",
       " 6.5,\n",
       " 6.6,\n",
       " 6.8,\n",
       " 9.5,\n",
       " 6.5,\n",
       " 9.5,\n",
       " 6.5,\n",
       " 6.6,\n",
       " 8.1,\n",
       " 6.7,\n",
       " 6.7,\n",
       " 6.6,\n",
       " 7.4,\n",
       " 6.8,\n",
       " 6.5,\n",
       " 6.7,\n",
       " 6.6,\n",
       " 8.6,\n",
       " 6.8,\n",
       " 6.8,\n",
       " 6.5,\n",
       " 6.6,\n",
       " 9.0,\n",
       " 6.8,\n",
       " 6.6,\n",
       " 6.5,\n",
       " 6.6,\n",
       " 6.8,\n",
       " 6.5,\n",
       " 6.8,\n",
       " 8.5,\n",
       " 6.8,\n",
       " 6.6,\n",
       " 6.5,\n",
       " 6.8,\n",
       " 6.5,\n",
       " 6.8,\n",
       " 8.5,\n",
       " 6.6,\n",
       " 6.8,\n",
       " 9.5,\n",
       " 6.5,\n",
       " 9.5,\n",
       " 6.5,\n",
       " 6.6,\n",
       " 8.1,\n",
       " 6.7,\n",
       " 6.7,\n",
       " 6.6,\n",
       " 7.4,\n",
       " 6.8,\n",
       " 6.5,\n",
       " 6.7,\n",
       " 6.6,\n",
       " 8.6,\n",
       " 6.8,\n",
       " 6.8,\n",
       " 6.5,\n",
       " 6.6,\n",
       " 9.0,\n",
       " 6.8,\n",
       " 6.6,\n",
       " 6.5,\n",
       " 6.6,\n",
       " 6.8,\n",
       " 6.5,\n",
       " 6.8,\n",
       " 8.5,\n",
       " 6.8,\n",
       " 6.6,\n",
       " 6.5,\n",
       " 6.8,\n",
       " 6.5,\n",
       " 6.8,\n",
       " 8.5,\n",
       " 6.8,\n",
       " 6.5,\n",
       " 6.6,\n",
       " 6.8,\n",
       " 7.4,\n",
       " 6.8,\n",
       " 6.5,\n",
       " 6.6,\n",
       " 9.0,\n",
       " 6.8,\n",
       " 6.6,\n",
       " 6.5,\n",
       " 6.6,\n",
       " 6.8,\n",
       " 9.5,\n",
       " 6.5,\n",
       " 9.5,\n",
       " 6.5,\n",
       " 6.6,\n",
       " 8.1,\n",
       " 6.7,\n",
       " 6.7,\n",
       " 6.6,\n",
       " 7.4,\n",
       " 6.8,\n",
       " 6.5,\n",
       " 6.7,\n",
       " 6.7,\n",
       " 6.8,\n",
       " 6.6,\n",
       " 7.4,\n",
       " 6.8,\n",
       " 6.5,\n",
       " 6.8,\n",
       " 9.0,\n",
       " 6.8,\n",
       " 6.6,\n",
       " 6.5,\n",
       " 6.6,\n",
       " 6.8,\n",
       " 9.5,\n",
       " 6.5,\n",
       " 6.6,\n",
       " 6.5,\n",
       " 8.1,\n",
       " 6.7,\n",
       " 6.7,\n",
       " 6.8,\n",
       " 8.6,\n",
       " 6.8,\n",
       " 6.8,\n",
       " 6.5,\n",
       " 9.0,\n",
       " 6.8,\n",
       " 6.6,\n",
       " 6.5,\n",
       " 6.8,\n",
       " 6.5,\n",
       " 6.8,\n",
       " 8.5,\n",
       " 6.8,\n",
       " 6.5,\n",
       " 6.6,\n",
       " 6.8,\n",
       " 7.4,\n",
       " 6.8,\n",
       " 6.5,\n",
       " 6.6,\n",
       " 6.6,\n",
       " 9.0,\n",
       " 6.5,\n",
       " 6.7,\n",
       " 6.6,\n",
       " 6.8,\n",
       " 6.5,\n",
       " 6.6,\n",
       " 9.0,\n",
       " 6.8,\n",
       " 6.6,\n",
       " 6.5,\n",
       " 6.6,\n",
       " 6.8,\n",
       " 9.5,\n",
       " 6.5,\n",
       " 9.5,\n",
       " 6.5,\n",
       " 6.6,\n",
       " 8.1,\n",
       " 6.7,\n",
       " 6.7,\n",
       " 6.6,\n",
       " 7.4,\n",
       " 6.8,\n",
       " 6.5,\n",
       " 6.7,\n",
       " 6.7,\n",
       " 6.8,\n",
       " 6.6,\n",
       " 7.4,\n",
       " 6.8,\n",
       " 6.5,\n",
       " 6.8,\n",
       " 9.0,\n",
       " 6.8,\n",
       " 6.6,\n",
       " 6.5,\n",
       " 6.6,\n",
       " 6.8,\n",
       " 9.5,\n",
       " 6.5,\n",
       " 6.6,\n",
       " 6.5,\n",
       " 8.1,\n",
       " 6.7,\n",
       " 6.7,\n",
       " 6.8,\n",
       " 8.6,\n",
       " 6.8,\n",
       " 6.8,\n",
       " 6.5,\n",
       " 9.0,\n",
       " 6.8,\n",
       " 6.6,\n",
       " 6.5,\n",
       " 6.8,\n",
       " 6.5,\n",
       " 6.8,\n",
       " 8.5,\n",
       " 6.8,\n",
       " 6.5,\n",
       " 6.6,\n",
       " 6.8,\n",
       " 7.4,\n",
       " 6.8,\n",
       " 6.5,\n",
       " 6.6,\n",
       " 6.7,\n",
       " 9.0,\n",
       " 8.6,\n",
       " 6.8,\n",
       " 6.8,\n",
       " 6.5,\n",
       " 9.0,\n",
       " 6.8,\n",
       " 6.5,\n",
       " 6.6,\n",
       " 8.1,\n",
       " 6.7,\n",
       " 6.7,\n",
       " 8.6,\n",
       " 7.4,\n",
       " 6.8,\n",
       " 6.5,\n",
       " 6.7,\n",
       " 9.0,\n",
       " 8.6,\n",
       " 6.8,\n",
       " 6.8,\n",
       " 6.5,\n",
       " 9.0,\n",
       " 6.8,\n",
       " 6.6,\n",
       " 6.5,\n",
       " 6.8,\n",
       " 6.5,\n",
       " 6.8,\n",
       " 8.5,\n",
       " 6.8,\n",
       " 6.5,\n",
       " 6.6,\n",
       " 6.8,\n",
       " 7.4,\n",
       " 6.8,\n",
       " 6.5,\n",
       " 6.6,\n",
       " 9.0,\n",
       " 6.5,\n",
       " 6.7,\n",
       " 6.6,\n",
       " 8.6,\n",
       " 6.8,\n",
       " 6.8,\n",
       " 6.5,\n",
       " 6.6,\n",
       " 9.0,\n",
       " 6.8,\n",
       " 6.6,\n",
       " 6.5,\n",
       " 6.8,\n",
       " 6.5,\n",
       " 9.0,\n",
       " 6.8,\n",
       " 6.6,\n",
       " 6.5,\n",
       " 6.8,\n",
       " 8.1,\n",
       " 6.7,\n",
       " 6.7,\n",
       " 6.6,\n",
       " 7.4,\n",
       " 6.8,\n",
       " 6.5,\n",
       " 6.7,\n",
       " 6.7,\n",
       " 6.8,\n",
       " 8.6,\n",
       " 7.4,\n",
       " 6.8,\n",
       " 6.5,\n",
       " 6.8,\n",
       " 9.0,\n",
       " 6.8,\n",
       " 6.6,\n",
       " 6.5,\n",
       " 6.6,\n",
       " 6.8,\n",
       " 9.5,\n",
       " 6.5,\n",
       " 6.6,\n",
       " 8.1,\n",
       " 6.7,\n",
       " 6.7,\n",
       " 8.6,\n",
       " 7.4,\n",
       " 6.8,\n",
       " 6.5,\n",
       " 6.7,\n",
       " 9.0,\n",
       " 8.6,\n",
       " 6.8,\n",
       " 6.8,\n",
       " 6.5,\n",
       " 9.0,\n",
       " 6.8,\n",
       " 6.5,\n",
       " 6.6,\n",
       " 8.1,\n",
       " 6.7,\n",
       " 6.7,\n",
       " 8.6,\n",
       " 7.4,\n",
       " 6.8,\n",
       " 6.5,\n",
       " 6.7,\n",
       " 9.0,\n",
       " 8.6,\n",
       " 6.8,\n",
       " 6.8,\n",
       " 6.5,\n",
       " 9.0,\n",
       " 6.8,\n",
       " 6.6,\n",
       " 6.5,\n",
       " 6.8,\n",
       " 6.5,\n",
       " 6.8,\n",
       " 8.5,\n",
       " 6.8,\n",
       " 6.5,\n",
       " 6.6,\n",
       " 6.8,\n",
       " 7.4,\n",
       " 6.8,\n",
       " 6.5,\n",
       " 6.6,\n",
       " 9.0,\n",
       " 6.5,\n",
       " 6.7,\n",
       " 6.6,\n",
       " 6.6,\n",
       " 8.6,\n",
       " 6.8,\n",
       " 6.8,\n",
       " 6.5,\n",
       " 6.6,\n",
       " 9.0,\n",
       " 6.8,\n",
       " 6.6,\n",
       " 6.5,\n",
       " 6.8,\n",
       " 6.5,\n",
       " 9.0,\n",
       " 6.8,\n",
       " 6.6,\n",
       " 6.5,\n",
       " 6.8,\n",
       " 6.5,\n",
       " 6.8,\n",
       " 8.5,\n",
       " 6.8,\n",
       " 6.5,\n",
       " 6.6,\n",
       " 6.8,\n",
       " 7.4,\n",
       " 6.8,\n",
       " 6.5,\n",
       " 6.6,\n",
       " 9.0,\n",
       " 6.8,\n",
       " 6.6,\n",
       " 6.5,\n",
       " 6.6,\n",
       " 6.8,\n",
       " 6.6,\n",
       " 9.0,\n",
       " 6.8,\n",
       " 6.6,\n",
       " 6.5,\n",
       " 6.6,\n",
       " 6.8,\n",
       " 9.5,\n",
       " 6.5,\n",
       " 6.6,\n",
       " 6.5,\n",
       " 8.1,\n",
       " 6.7,\n",
       " 6.7,\n",
       " 6.8,\n",
       " 8.6,\n",
       " 6.8,\n",
       " 6.8,\n",
       " 6.5,\n",
       " 6.6,\n",
       " 9.0,\n",
       " 6.8,\n",
       " 6.6,\n",
       " 6.5,\n",
       " 6.8,\n",
       " 6.5,\n",
       " 6.6,\n",
       " 6.8,\n",
       " 7.4,\n",
       " 6.8,\n",
       " 6.5,\n",
       " 6.6,\n",
       " 6.7,\n",
       " 6.6,\n",
       " 8.6,\n",
       " 6.8,\n",
       " 6.8,\n",
       " 6.5,\n",
       " 9.0,\n",
       " 6.8,\n",
       " 6.5,\n",
       " 6.6,\n",
       " 6.5,\n",
       " 8.1,\n",
       " 6.7,\n",
       " 6.7,\n",
       " 8.6,\n",
       " 6.7,\n",
       " 6.7,\n",
       " 6.8,\n",
       " 8.6,\n",
       " 7.4,\n",
       " 6.8,\n",
       " 6.5,\n",
       " 6.8,\n",
       " 9.0,\n",
       " 6.8,\n",
       " 6.6,\n",
       " 6.5,\n",
       " 6.6,\n",
       " 6.8,\n",
       " 9.5,\n",
       " 6.5,\n",
       " 6.6,\n",
       " 8.1,\n",
       " 6.7,\n",
       " 6.7,\n",
       " 8.6,\n",
       " 6.6,\n",
       " 9.0,\n",
       " 6.8,\n",
       " 6.6,\n",
       " 6.5,\n",
       " 6.8,\n",
       " 6.5,\n",
       " 6.8,\n",
       " 8.5,\n",
       " 6.8,\n",
       " 6.5,\n",
       " 6.6,\n",
       " 6.8,\n",
       " 7.4,\n",
       " 6.8,\n",
       " 6.5,\n",
       " 6.6,\n",
       " 9.0,\n",
       " 6.5,\n",
       " 6.7,\n",
       " 6.6,\n",
       " 8.6,\n",
       " 6.5,\n",
       " 8.1,\n",
       " 6.7,\n",
       " 6.7,\n",
       " 6.8,\n",
       " 8.6,\n",
       " 6.8,\n",
       " 6.8,\n",
       " 6.5,\n",
       " 9.0,\n",
       " 6.8,\n",
       " 6.6,\n",
       " 6.5,\n",
       " 6.8,\n",
       " 6.5,\n",
       " 6.8,\n",
       " 8.5,\n",
       " 6.8,\n",
       " 6.5,\n",
       " 6.6,\n",
       " 6.8,\n",
       " 7.4,\n",
       " 6.8,\n",
       " 6.5,\n",
       " 6.6,\n",
       " 6.7,\n",
       " 6.6,\n",
       " 8.6,\n",
       " 6.8,\n",
       " 6.8,\n",
       " 6.5,\n",
       " 9.0,\n",
       " 6.8,\n",
       " 6.5,\n",
       " 9.0,\n",
       " 6.8,\n",
       " 6.6,\n",
       " 6.5,\n",
       " 6.8,\n",
       " 6.5,\n",
       " 9.0,\n",
       " 6.8,\n",
       " 6.6,\n",
       " 6.5,\n",
       " 6.8,\n",
       " 6.5,\n",
       " 6.8,\n",
       " 8.5,\n",
       " 6.8,\n",
       " 6.5,\n",
       " 6.6,\n",
       " 6.8,\n",
       " 7.4,\n",
       " 6.8,\n",
       " 6.5,\n",
       " 6.6,\n",
       " 9.0,\n",
       " 6.8,\n",
       " 6.6,\n",
       " 6.5,\n",
       " 6.6,\n",
       " 6.8,\n",
       " 6.6,\n",
       " 9.0,\n",
       " 6.8,\n",
       " 6.6,\n",
       " 6.5,\n",
       " 6.6,\n",
       " 6.8,\n",
       " 9.5,\n",
       " 6.5,\n",
       " 6.6,\n",
       " 6.5,\n",
       " 8.1,\n",
       " 6.7,\n",
       " 6.7,\n",
       " 6.8,\n",
       " 8.6]"
      ]
     },
     "execution_count": 15,
     "metadata": {},
     "output_type": "execute_result"
    }
   ],
   "source": [
    "outlier=[]\n",
    "for x in df['pH']:\n",
    "  if((x>upper_limit) or (x>lower_limit)):\n",
    "    outlier.append(x)\n",
    "outlier"
   ]
  },
  {
   "cell_type": "code",
   "execution_count": 16,
   "id": "ece267b8-4a87-47dc-8b62-123f0136a880",
   "metadata": {},
   "outputs": [
    {
     "name": "stdout",
     "output_type": "stream",
     "text": [
      "38.0\n",
      "41.0\n",
      "45.0\n"
     ]
    }
   ],
   "source": [
    "Q1=np.percentile(df['Temprature'],25,interpolation='midpoint')\n",
    "Q2=np.percentile(df['Temprature'],50,interpolation='midpoint')\n",
    "Q3=np.percentile(df['Temprature'],75,interpolation='midpoint')\n",
    "print(Q1)\n",
    "print(Q2)\n",
    "print(Q3)"
   ]
  },
  {
   "cell_type": "code",
   "execution_count": 17,
   "id": "c33e09c0-c6c3-4048-8bee-7a8d2dce2f95",
   "metadata": {},
   "outputs": [
    {
     "name": "stdout",
     "output_type": "stream",
     "text": [
      "7.0\n"
     ]
    }
   ],
   "source": [
    "IQR=Q3-Q1\n",
    "print(IQR)"
   ]
  },
  {
   "cell_type": "code",
   "execution_count": 18,
   "id": "c293f149-8a63-449a-9220-ae7f768bd4fb",
   "metadata": {},
   "outputs": [
    {
     "name": "stdout",
     "output_type": "stream",
     "text": [
      "55.5\n",
      "27.5\n"
     ]
    }
   ],
   "source": [
    "upper_limit=Q3+1.5*IQR\n",
    "lower_limit=Q1-1.5*IQR\n",
    "print(upper_limit)\n",
    "print(lower_limit)"
   ]
  },
  {
   "cell_type": "code",
   "execution_count": 19,
   "id": "9f42a9f5-b4de-4d73-8964-2d737ad892be",
   "metadata": {},
   "outputs": [
    {
     "data": {
      "text/plain": [
       "[35,\n",
       " 36,\n",
       " 70,\n",
       " 34,\n",
       " 37,\n",
       " 37,\n",
       " 45,\n",
       " 60,\n",
       " 66,\n",
       " 45,\n",
       " 45,\n",
       " 50,\n",
       " 55,\n",
       " 90,\n",
       " 45,\n",
       " 38,\n",
       " 38,\n",
       " 40,\n",
       " 43,\n",
       " 40,\n",
       " 45,\n",
       " 36,\n",
       " 38,\n",
       " 45,\n",
       " 35,\n",
       " 36,\n",
       " 70,\n",
       " 34,\n",
       " 37,\n",
       " 37,\n",
       " 45,\n",
       " 40,\n",
       " 42,\n",
       " 41,\n",
       " 50,\n",
       " 45,\n",
       " 55,\n",
       " 65,\n",
       " 41,\n",
       " 38,\n",
       " 38,\n",
       " 40,\n",
       " 43,\n",
       " 40,\n",
       " 45,\n",
       " 36,\n",
       " 38,\n",
       " 45,\n",
       " 34,\n",
       " 37,\n",
       " 37,\n",
       " 45,\n",
       " 60,\n",
       " 66,\n",
       " 45,\n",
       " 45,\n",
       " 50,\n",
       " 55,\n",
       " 90,\n",
       " 45,\n",
       " 38,\n",
       " 38,\n",
       " 40,\n",
       " 43,\n",
       " 55,\n",
       " 45,\n",
       " 45,\n",
       " 38,\n",
       " 38,\n",
       " 40,\n",
       " 43,\n",
       " 40,\n",
       " 45,\n",
       " 36,\n",
       " 38,\n",
       " 45,\n",
       " 35,\n",
       " 36,\n",
       " 70,\n",
       " 34,\n",
       " 37,\n",
       " 37,\n",
       " 45,\n",
       " 65,\n",
       " 41,\n",
       " 38,\n",
       " 38,\n",
       " 40,\n",
       " 43,\n",
       " 40,\n",
       " 50,\n",
       " 36,\n",
       " 50,\n",
       " 45,\n",
       " 34,\n",
       " 37,\n",
       " 34,\n",
       " 37,\n",
       " 37,\n",
       " 45,\n",
       " 60,\n",
       " 66,\n",
       " 45,\n",
       " 45,\n",
       " 50,\n",
       " 35,\n",
       " 90,\n",
       " 50,\n",
       " 38,\n",
       " 38,\n",
       " 40,\n",
       " 43,\n",
       " 55,\n",
       " 45,\n",
       " 45,\n",
       " 38,\n",
       " 38,\n",
       " 40,\n",
       " 43,\n",
       " 40,\n",
       " 45,\n",
       " 36,\n",
       " 38,\n",
       " 45,\n",
       " 55,\n",
       " 36,\n",
       " 70,\n",
       " 40,\n",
       " 45,\n",
       " 36,\n",
       " 38,\n",
       " 45,\n",
       " 35,\n",
       " 36,\n",
       " 70,\n",
       " 34,\n",
       " 37,\n",
       " 37,\n",
       " 45,\n",
       " 65,\n",
       " 41,\n",
       " 38,\n",
       " 38,\n",
       " 40,\n",
       " 43,\n",
       " 40,\n",
       " 50,\n",
       " 36,\n",
       " 50,\n",
       " 45,\n",
       " 34,\n",
       " 37,\n",
       " 34,\n",
       " 37,\n",
       " 37,\n",
       " 45,\n",
       " 60,\n",
       " 66,\n",
       " 45,\n",
       " 45,\n",
       " 50,\n",
       " 35,\n",
       " 90,\n",
       " 50,\n",
       " 38,\n",
       " 41,\n",
       " 50,\n",
       " 45,\n",
       " 55,\n",
       " 65,\n",
       " 41,\n",
       " 38,\n",
       " 38,\n",
       " 40,\n",
       " 43,\n",
       " 40,\n",
       " 45,\n",
       " 36,\n",
       " 38,\n",
       " 45,\n",
       " 34,\n",
       " 37,\n",
       " 37,\n",
       " 45,\n",
       " 60,\n",
       " 66,\n",
       " 45,\n",
       " 45,\n",
       " 50,\n",
       " 55,\n",
       " 90,\n",
       " 45,\n",
       " 38,\n",
       " 38,\n",
       " 40,\n",
       " 43,\n",
       " 55,\n",
       " 45,\n",
       " 45,\n",
       " 38,\n",
       " 38,\n",
       " 40,\n",
       " 43,\n",
       " 40,\n",
       " 37,\n",
       " 37,\n",
       " 45,\n",
       " 60,\n",
       " 66,\n",
       " 45,\n",
       " 45,\n",
       " 50,\n",
       " 55,\n",
       " 90,\n",
       " 45,\n",
       " 38,\n",
       " 38,\n",
       " 40,\n",
       " 43,\n",
       " 55,\n",
       " 45,\n",
       " 45,\n",
       " 38,\n",
       " 38,\n",
       " 40,\n",
       " 43,\n",
       " 40,\n",
       " 45,\n",
       " 36,\n",
       " 38,\n",
       " 45,\n",
       " 35,\n",
       " 36,\n",
       " 70,\n",
       " 34,\n",
       " 37,\n",
       " 37,\n",
       " 45,\n",
       " 65,\n",
       " 41,\n",
       " 38,\n",
       " 38,\n",
       " 40,\n",
       " 43,\n",
       " 38,\n",
       " 38,\n",
       " 40,\n",
       " 43,\n",
       " 55,\n",
       " 45,\n",
       " 45,\n",
       " 38,\n",
       " 38,\n",
       " 40,\n",
       " 43,\n",
       " 40,\n",
       " 45,\n",
       " 36,\n",
       " 38,\n",
       " 45,\n",
       " 55,\n",
       " 36,\n",
       " 70,\n",
       " 40,\n",
       " 45,\n",
       " 36,\n",
       " 38,\n",
       " 45,\n",
       " 35,\n",
       " 36,\n",
       " 70,\n",
       " 34,\n",
       " 43,\n",
       " 40,\n",
       " 50,\n",
       " 36,\n",
       " 50,\n",
       " 45,\n",
       " 34,\n",
       " 37,\n",
       " 34,\n",
       " 37,\n",
       " 37,\n",
       " 45,\n",
       " 60,\n",
       " 66,\n",
       " 45,\n",
       " 45,\n",
       " 50,\n",
       " 35,\n",
       " 90,\n",
       " 50,\n",
       " 38,\n",
       " 41,\n",
       " 50,\n",
       " 45,\n",
       " 55,\n",
       " 65,\n",
       " 41,\n",
       " 38,\n",
       " 38,\n",
       " 40,\n",
       " 43,\n",
       " 40,\n",
       " 45,\n",
       " 36,\n",
       " 38,\n",
       " 45,\n",
       " 34,\n",
       " 37,\n",
       " 37,\n",
       " 45,\n",
       " 60,\n",
       " 66,\n",
       " 45,\n",
       " 45,\n",
       " 50,\n",
       " 55,\n",
       " 90,\n",
       " 45,\n",
       " 38,\n",
       " 38,\n",
       " 40,\n",
       " 43,\n",
       " 55,\n",
       " 45,\n",
       " 45,\n",
       " 38,\n",
       " 38,\n",
       " 40,\n",
       " 43,\n",
       " 40,\n",
       " 37,\n",
       " 37,\n",
       " 45,\n",
       " 60,\n",
       " 66,\n",
       " 45,\n",
       " 45,\n",
       " 50,\n",
       " 55,\n",
       " 90,\n",
       " 45,\n",
       " 38,\n",
       " 38,\n",
       " 40,\n",
       " 43,\n",
       " 55,\n",
       " 45,\n",
       " 45,\n",
       " 38,\n",
       " 38,\n",
       " 40,\n",
       " 43,\n",
       " 40,\n",
       " 45,\n",
       " 36,\n",
       " 38,\n",
       " 45,\n",
       " 35,\n",
       " 36,\n",
       " 70,\n",
       " 34,\n",
       " 37,\n",
       " 37,\n",
       " 45,\n",
       " 65,\n",
       " 41,\n",
       " 38,\n",
       " 38,\n",
       " 40,\n",
       " 43,\n",
       " 38,\n",
       " 38,\n",
       " 40,\n",
       " 43,\n",
       " 55,\n",
       " 45,\n",
       " 45,\n",
       " 38,\n",
       " 38,\n",
       " 40,\n",
       " 43,\n",
       " 40,\n",
       " 45,\n",
       " 36,\n",
       " 45,\n",
       " 38,\n",
       " 38,\n",
       " 40,\n",
       " 43,\n",
       " 40,\n",
       " 45,\n",
       " 36,\n",
       " 38,\n",
       " 45,\n",
       " 35,\n",
       " 36,\n",
       " 70,\n",
       " 34,\n",
       " 37,\n",
       " 37,\n",
       " 45,\n",
       " 65,\n",
       " 41,\n",
       " 38,\n",
       " 38,\n",
       " 40,\n",
       " 43,\n",
       " 40,\n",
       " 50,\n",
       " 36,\n",
       " 50,\n",
       " 45,\n",
       " 34,\n",
       " 37,\n",
       " 34,\n",
       " 37,\n",
       " 37,\n",
       " 45,\n",
       " 60,\n",
       " 66,\n",
       " 45,\n",
       " 45,\n",
       " 50,\n",
       " 35,\n",
       " 90,\n",
       " 50,\n",
       " 38,\n",
       " 38,\n",
       " 40,\n",
       " 43,\n",
       " 55,\n",
       " 45,\n",
       " 45,\n",
       " 38,\n",
       " 38,\n",
       " 40,\n",
       " 43,\n",
       " 40,\n",
       " 45,\n",
       " 36,\n",
       " 38,\n",
       " 45,\n",
       " 55,\n",
       " 36,\n",
       " 70,\n",
       " 40,\n",
       " 45,\n",
       " 36,\n",
       " 38,\n",
       " 45,\n",
       " 35,\n",
       " 36,\n",
       " 70,\n",
       " 50,\n",
       " 45,\n",
       " 34,\n",
       " 37,\n",
       " 34,\n",
       " 37,\n",
       " 37,\n",
       " 45,\n",
       " 60,\n",
       " 66,\n",
       " 45,\n",
       " 45,\n",
       " 50,\n",
       " 35,\n",
       " 90,\n",
       " 50,\n",
       " 38,\n",
       " 38,\n",
       " 40,\n",
       " 43,\n",
       " 55,\n",
       " 45,\n",
       " 45,\n",
       " 38,\n",
       " 38,\n",
       " 40,\n",
       " 43,\n",
       " 40,\n",
       " 45,\n",
       " 36,\n",
       " 38,\n",
       " 45,\n",
       " 55,\n",
       " 36,\n",
       " 70,\n",
       " 40,\n",
       " 45,\n",
       " 36,\n",
       " 38,\n",
       " 45,\n",
       " 35,\n",
       " 36,\n",
       " 70,\n",
       " 34,\n",
       " 37,\n",
       " 37,\n",
       " 45,\n",
       " 65,\n",
       " 41,\n",
       " 38,\n",
       " 38,\n",
       " 40,\n",
       " 43,\n",
       " 40,\n",
       " 50,\n",
       " 36,\n",
       " 50,\n",
       " 45,\n",
       " 34,\n",
       " 37,\n",
       " 34,\n",
       " 37,\n",
       " 37,\n",
       " 45,\n",
       " 60,\n",
       " 66,\n",
       " 45,\n",
       " 45,\n",
       " 50,\n",
       " 35,\n",
       " 90,\n",
       " 50,\n",
       " 38,\n",
       " 41,\n",
       " 50,\n",
       " 45,\n",
       " 45,\n",
       " 65,\n",
       " 41,\n",
       " 38,\n",
       " 38,\n",
       " 40,\n",
       " 43,\n",
       " 40,\n",
       " 50,\n",
       " 36,\n",
       " 38,\n",
       " 45,\n",
       " 34,\n",
       " 37,\n",
       " 37,\n",
       " 45,\n",
       " 40,\n",
       " 66,\n",
       " 45,\n",
       " 38,\n",
       " 40,\n",
       " 43,\n",
       " 55,\n",
       " 55,\n",
       " 45,\n",
       " 38,\n",
       " 38,\n",
       " 40,\n",
       " 43,\n",
       " 40,\n",
       " 45,\n",
       " 36,\n",
       " 38,\n",
       " 45,\n",
       " 50,\n",
       " 36,\n",
       " 70,\n",
       " 34,\n",
       " 37,\n",
       " 37,\n",
       " 45,\n",
       " 65,\n",
       " 41,\n",
       " 38,\n",
       " 38,\n",
       " 40,\n",
       " 43,\n",
       " 38,\n",
       " 38,\n",
       " 40,\n",
       " 43,\n",
       " 41,\n",
       " 38,\n",
       " 38,\n",
       " 40,\n",
       " 43,\n",
       " 40,\n",
       " 50,\n",
       " 36,\n",
       " 50,\n",
       " 45,\n",
       " 34,\n",
       " 37,\n",
       " 34,\n",
       " 37,\n",
       " 37,\n",
       " 45,\n",
       " 60,\n",
       " 66,\n",
       " 45,\n",
       " 45,\n",
       " 50,\n",
       " 35,\n",
       " 90,\n",
       " 50,\n",
       " 38,\n",
       " 41,\n",
       " 50,\n",
       " 45,\n",
       " 45,\n",
       " 65,\n",
       " 41,\n",
       " 38,\n",
       " 38,\n",
       " 40,\n",
       " 43,\n",
       " 40,\n",
       " 50,\n",
       " 36,\n",
       " 38,\n",
       " 45,\n",
       " 34,\n",
       " 37,\n",
       " 37,\n",
       " 45,\n",
       " 40,\n",
       " 66,\n",
       " 45,\n",
       " 38,\n",
       " 40,\n",
       " 43,\n",
       " 55,\n",
       " 55,\n",
       " 45,\n",
       " 38,\n",
       " 38,\n",
       " 40,\n",
       " 43,\n",
       " 40,\n",
       " 45,\n",
       " 36,\n",
       " 38,\n",
       " 45,\n",
       " 50,\n",
       " 36,\n",
       " 70,\n",
       " 34,\n",
       " 37,\n",
       " 37,\n",
       " 45,\n",
       " 65,\n",
       " 41,\n",
       " 38,\n",
       " 38,\n",
       " 38,\n",
       " 40,\n",
       " 43,\n",
       " 55,\n",
       " 45,\n",
       " 45,\n",
       " 38,\n",
       " 38,\n",
       " 40,\n",
       " 43,\n",
       " 40,\n",
       " 37,\n",
       " 37,\n",
       " 45,\n",
       " 60,\n",
       " 66,\n",
       " 45,\n",
       " 45,\n",
       " 50,\n",
       " 55,\n",
       " 90,\n",
       " 45,\n",
       " 38,\n",
       " 38,\n",
       " 40,\n",
       " 43,\n",
       " 55,\n",
       " 45,\n",
       " 45,\n",
       " 38,\n",
       " 38,\n",
       " 40,\n",
       " 43,\n",
       " 40,\n",
       " 45,\n",
       " 36,\n",
       " 38,\n",
       " 45,\n",
       " 35,\n",
       " 36,\n",
       " 70,\n",
       " 34,\n",
       " 37,\n",
       " 37,\n",
       " 45,\n",
       " 65,\n",
       " 41,\n",
       " 38,\n",
       " 38,\n",
       " 40,\n",
       " 43,\n",
       " 38,\n",
       " 38,\n",
       " 40,\n",
       " 43,\n",
       " 55,\n",
       " 45,\n",
       " 45,\n",
       " 38,\n",
       " 38,\n",
       " 40,\n",
       " 43,\n",
       " 40,\n",
       " 45,\n",
       " 36,\n",
       " 45,\n",
       " 38,\n",
       " 38,\n",
       " 40,\n",
       " 43,\n",
       " 40,\n",
       " 45,\n",
       " 36,\n",
       " 38,\n",
       " 45,\n",
       " 45,\n",
       " 60,\n",
       " 66,\n",
       " 45,\n",
       " 45,\n",
       " 50,\n",
       " 35,\n",
       " 90,\n",
       " 50,\n",
       " 38,\n",
       " 41,\n",
       " 50,\n",
       " 45,\n",
       " 55,\n",
       " 65,\n",
       " 41,\n",
       " 38,\n",
       " 38,\n",
       " 40,\n",
       " 43,\n",
       " 40,\n",
       " 45,\n",
       " 36,\n",
       " 38,\n",
       " 45,\n",
       " 34,\n",
       " 37,\n",
       " 37,\n",
       " 45,\n",
       " 60,\n",
       " 66,\n",
       " 45,\n",
       " 45,\n",
       " 50,\n",
       " 55,\n",
       " 90,\n",
       " 45,\n",
       " 38,\n",
       " 38,\n",
       " 40,\n",
       " 43,\n",
       " 55,\n",
       " 45,\n",
       " 45,\n",
       " 38,\n",
       " 38,\n",
       " 40,\n",
       " 43,\n",
       " 40,\n",
       " 37,\n",
       " 37,\n",
       " 45,\n",
       " 60,\n",
       " 66,\n",
       " 45,\n",
       " 45,\n",
       " 50,\n",
       " 55,\n",
       " 90,\n",
       " 45,\n",
       " 38,\n",
       " 38,\n",
       " 40,\n",
       " 43,\n",
       " 55,\n",
       " 45,\n",
       " 45,\n",
       " 38,\n",
       " 38,\n",
       " 40,\n",
       " 43,\n",
       " 40,\n",
       " 45,\n",
       " 36,\n",
       " 38,\n",
       " 45,\n",
       " 35,\n",
       " 36,\n",
       " 70,\n",
       " 34,\n",
       " 37,\n",
       " 37,\n",
       " 45,\n",
       " 65,\n",
       " 41,\n",
       " 38,\n",
       " 38,\n",
       " 40,\n",
       " 43,\n",
       " 38,\n",
       " 38,\n",
       " 40,\n",
       " 43,\n",
       " 55,\n",
       " 45,\n",
       " 45,\n",
       " 38,\n",
       " 38,\n",
       " 40,\n",
       " 43,\n",
       " 40,\n",
       " 45,\n",
       " 36,\n",
       " 45,\n",
       " 38,\n",
       " 38,\n",
       " 40,\n",
       " 43,\n",
       " 40,\n",
       " 45,\n",
       " 36,\n",
       " 38,\n",
       " 45,\n",
       " 35,\n",
       " 36,\n",
       " 70,\n",
       " 34,\n",
       " 37,\n",
       " 37,\n",
       " 45,\n",
       " 65,\n",
       " 41,\n",
       " 38,\n",
       " 38,\n",
       " 40,\n",
       " 43,\n",
       " 40,\n",
       " 50,\n",
       " 36,\n",
       " 50,\n",
       " 45,\n",
       " 40,\n",
       " 43,\n",
       " 40,\n",
       " 50,\n",
       " 36,\n",
       " 38,\n",
       " 45,\n",
       " 34,\n",
       " 37,\n",
       " 37,\n",
       " 45,\n",
       " 40,\n",
       " 66,\n",
       " 45,\n",
       " 38,\n",
       " 40,\n",
       " 43,\n",
       " 55,\n",
       " 55,\n",
       " 45,\n",
       " 38,\n",
       " 38,\n",
       " 40,\n",
       " 43,\n",
       " 40,\n",
       " 45,\n",
       " 36,\n",
       " 38,\n",
       " 45,\n",
       " 50,\n",
       " 37,\n",
       " 45,\n",
       " 65,\n",
       " 41,\n",
       " 38,\n",
       " 38,\n",
       " 38,\n",
       " 40,\n",
       " 43,\n",
       " 55,\n",
       " 45,\n",
       " 45,\n",
       " 38,\n",
       " 38,\n",
       " 40,\n",
       " 43,\n",
       " 40,\n",
       " 37,\n",
       " 37,\n",
       " 45,\n",
       " 40,\n",
       " 66,\n",
       " 45,\n",
       " 45,\n",
       " 50,\n",
       " 55,\n",
       " 41,\n",
       " 50,\n",
       " 45,\n",
       " 55,\n",
       " 65,\n",
       " 41,\n",
       " 38,\n",
       " 38,\n",
       " 40,\n",
       " 43,\n",
       " 40,\n",
       " 45,\n",
       " 36,\n",
       " 38,\n",
       " 45,\n",
       " 34,\n",
       " 37,\n",
       " 37,\n",
       " 45,\n",
       " 60,\n",
       " 66,\n",
       " 45,\n",
       " 45,\n",
       " 50,\n",
       " 55,\n",
       " 45,\n",
       " 43,\n",
       " 40,\n",
       " 45,\n",
       " 36,\n",
       " 38,\n",
       " 45,\n",
       " 35,\n",
       " 36,\n",
       " 70,\n",
       " 34,\n",
       " 37,\n",
       " 37,\n",
       " 45,\n",
       " 65,\n",
       " 41,\n",
       " 38,\n",
       " 38,\n",
       " 40,\n",
       " 43,\n",
       " 38,\n",
       " 38,\n",
       " 40,\n",
       " 43,\n",
       " 55,\n",
       " 40,\n",
       " 66,\n",
       " 45,\n",
       " 38,\n",
       " 40,\n",
       " 43,\n",
       " 55,\n",
       " 55,\n",
       " 45,\n",
       " 38,\n",
       " 38,\n",
       " 40,\n",
       " 43,\n",
       " 40,\n",
       " 45,\n",
       " 36,\n",
       " 38,\n",
       " 45,\n",
       " 45,\n",
       " 36,\n",
       " 70,\n",
       " 34,\n",
       " 37,\n",
       " 37,\n",
       " 45,\n",
       " 65,\n",
       " 41,\n",
       " 38,\n",
       " 38,\n",
       " 38,\n",
       " 40,\n",
       " 43,\n",
       " 55,\n",
       " ...]"
      ]
     },
     "execution_count": 19,
     "metadata": {},
     "output_type": "execute_result"
    }
   ],
   "source": [
    "outlier=[]\n",
    "for x in df['Temprature']:\n",
    "  if((x>upper_limit) or (x>lower_limit)):\n",
    "    outlier.append(x)\n",
    "outlier"
   ]
  },
  {
   "cell_type": "code",
   "execution_count": 20,
   "id": "46af9970-225a-42fc-a057-b6f64825ee69",
   "metadata": {},
   "outputs": [],
   "source": [
    "# LOTS OF OUTLIERS REMOVAL OF THIS MAY CAUSES REDUCE IN THE DENSITY OF DATA"
   ]
  },
  {
   "cell_type": "markdown",
   "id": "d1702288-92ee-4c80-aef3-94aab2480e6b",
   "metadata": {},
   "source": [
    "# DATA TRANSFORMING"
   ]
  },
  {
   "cell_type": "code",
   "execution_count": 21,
   "id": "9b201669-d20a-44a6-9c7e-48b8a402795d",
   "metadata": {},
   "outputs": [
    {
     "data": {
      "text/html": [
       "<div>\n",
       "<style scoped>\n",
       "    .dataframe tbody tr th:only-of-type {\n",
       "        vertical-align: middle;\n",
       "    }\n",
       "\n",
       "    .dataframe tbody tr th {\n",
       "        vertical-align: top;\n",
       "    }\n",
       "\n",
       "    .dataframe thead th {\n",
       "        text-align: right;\n",
       "    }\n",
       "</style>\n",
       "<table border=\"1\" class=\"dataframe\">\n",
       "  <thead>\n",
       "    <tr style=\"text-align: right;\">\n",
       "      <th></th>\n",
       "      <th>pH</th>\n",
       "      <th>Temprature</th>\n",
       "      <th>Taste</th>\n",
       "      <th>Odor</th>\n",
       "      <th>Fat</th>\n",
       "      <th>Turbidity</th>\n",
       "      <th>Colour</th>\n",
       "      <th>Grade</th>\n",
       "    </tr>\n",
       "  </thead>\n",
       "  <tbody>\n",
       "    <tr>\n",
       "      <th>0</th>\n",
       "      <td>6.6</td>\n",
       "      <td>35</td>\n",
       "      <td>1</td>\n",
       "      <td>0</td>\n",
       "      <td>1</td>\n",
       "      <td>0</td>\n",
       "      <td>254</td>\n",
       "      <td>high</td>\n",
       "    </tr>\n",
       "    <tr>\n",
       "      <th>1</th>\n",
       "      <td>6.6</td>\n",
       "      <td>36</td>\n",
       "      <td>0</td>\n",
       "      <td>1</td>\n",
       "      <td>0</td>\n",
       "      <td>1</td>\n",
       "      <td>253</td>\n",
       "      <td>high</td>\n",
       "    </tr>\n",
       "    <tr>\n",
       "      <th>2</th>\n",
       "      <td>8.5</td>\n",
       "      <td>70</td>\n",
       "      <td>1</td>\n",
       "      <td>1</td>\n",
       "      <td>1</td>\n",
       "      <td>1</td>\n",
       "      <td>246</td>\n",
       "      <td>low</td>\n",
       "    </tr>\n",
       "    <tr>\n",
       "      <th>3</th>\n",
       "      <td>9.5</td>\n",
       "      <td>34</td>\n",
       "      <td>1</td>\n",
       "      <td>1</td>\n",
       "      <td>0</td>\n",
       "      <td>1</td>\n",
       "      <td>255</td>\n",
       "      <td>low</td>\n",
       "    </tr>\n",
       "    <tr>\n",
       "      <th>4</th>\n",
       "      <td>6.6</td>\n",
       "      <td>37</td>\n",
       "      <td>0</td>\n",
       "      <td>0</td>\n",
       "      <td>0</td>\n",
       "      <td>0</td>\n",
       "      <td>255</td>\n",
       "      <td>medium</td>\n",
       "    </tr>\n",
       "  </tbody>\n",
       "</table>\n",
       "</div>"
      ],
      "text/plain": [
       "    pH  Temprature  Taste  Odor  Fat   Turbidity  Colour   Grade\n",
       "0  6.6          35      1     0     1          0     254    high\n",
       "1  6.6          36      0     1     0          1     253    high\n",
       "2  8.5          70      1     1     1          1     246     low\n",
       "3  9.5          34      1     1     0          1     255     low\n",
       "4  6.6          37      0     0     0          0     255  medium"
      ]
     },
     "execution_count": 21,
     "metadata": {},
     "output_type": "execute_result"
    }
   ],
   "source": [
    "df.head()"
   ]
  },
  {
   "cell_type": "code",
   "execution_count": 22,
   "id": "dc505e40-b05a-4477-8e13-8f381e7072d2",
   "metadata": {},
   "outputs": [
    {
     "data": {
      "text/plain": [
       "pH            float64\n",
       "Temprature      int64\n",
       "Taste           int64\n",
       "Odor            int64\n",
       "Fat             int64\n",
       "Turbidity       int64\n",
       "Colour          int64\n",
       "Grade          object\n",
       "dtype: object"
      ]
     },
     "execution_count": 22,
     "metadata": {},
     "output_type": "execute_result"
    }
   ],
   "source": [
    "df.dtypes"
   ]
  },
  {
   "cell_type": "code",
   "execution_count": 23,
   "id": "5b2bd6fc-aafc-4595-90f6-4bb03208abf0",
   "metadata": {},
   "outputs": [],
   "source": [
    "from sklearn.preprocessing import LabelEncoder"
   ]
  },
  {
   "cell_type": "code",
   "execution_count": 24,
   "id": "abca9615-4d55-4de3-a6b5-830d9269fd2c",
   "metadata": {},
   "outputs": [],
   "source": [
    "le=LabelEncoder()"
   ]
  },
  {
   "cell_type": "code",
   "execution_count": 25,
   "id": "7b46e1d1-39b4-4ebf-852b-a4276eb44e40",
   "metadata": {},
   "outputs": [
    {
     "data": {
      "text/html": [
       "<div>\n",
       "<style scoped>\n",
       "    .dataframe tbody tr th:only-of-type {\n",
       "        vertical-align: middle;\n",
       "    }\n",
       "\n",
       "    .dataframe tbody tr th {\n",
       "        vertical-align: top;\n",
       "    }\n",
       "\n",
       "    .dataframe thead th {\n",
       "        text-align: right;\n",
       "    }\n",
       "</style>\n",
       "<table border=\"1\" class=\"dataframe\">\n",
       "  <thead>\n",
       "    <tr style=\"text-align: right;\">\n",
       "      <th></th>\n",
       "      <th>Grade</th>\n",
       "    </tr>\n",
       "  </thead>\n",
       "  <tbody>\n",
       "    <tr>\n",
       "      <th>0</th>\n",
       "      <td>high</td>\n",
       "    </tr>\n",
       "    <tr>\n",
       "      <th>1</th>\n",
       "      <td>high</td>\n",
       "    </tr>\n",
       "    <tr>\n",
       "      <th>2</th>\n",
       "      <td>low</td>\n",
       "    </tr>\n",
       "    <tr>\n",
       "      <th>3</th>\n",
       "      <td>low</td>\n",
       "    </tr>\n",
       "    <tr>\n",
       "      <th>4</th>\n",
       "      <td>medium</td>\n",
       "    </tr>\n",
       "    <tr>\n",
       "      <th>...</th>\n",
       "      <td>...</td>\n",
       "    </tr>\n",
       "    <tr>\n",
       "      <th>1054</th>\n",
       "      <td>medium</td>\n",
       "    </tr>\n",
       "    <tr>\n",
       "      <th>1055</th>\n",
       "      <td>high</td>\n",
       "    </tr>\n",
       "    <tr>\n",
       "      <th>1056</th>\n",
       "      <td>low</td>\n",
       "    </tr>\n",
       "    <tr>\n",
       "      <th>1057</th>\n",
       "      <td>high</td>\n",
       "    </tr>\n",
       "    <tr>\n",
       "      <th>1058</th>\n",
       "      <td>low</td>\n",
       "    </tr>\n",
       "  </tbody>\n",
       "</table>\n",
       "<p>1059 rows × 1 columns</p>\n",
       "</div>"
      ],
      "text/plain": [
       "       Grade\n",
       "0       high\n",
       "1       high\n",
       "2        low\n",
       "3        low\n",
       "4     medium\n",
       "...      ...\n",
       "1054  medium\n",
       "1055    high\n",
       "1056     low\n",
       "1057    high\n",
       "1058     low\n",
       "\n",
       "[1059 rows x 1 columns]"
      ]
     },
     "execution_count": 25,
     "metadata": {},
     "output_type": "execute_result"
    }
   ],
   "source": [
    "enc=df.select_dtypes(include=['object'])\n",
    "enc"
   ]
  },
  {
   "cell_type": "code",
   "execution_count": 26,
   "id": "f6bb925d-3e30-4d96-9657-4113157e720a",
   "metadata": {},
   "outputs": [],
   "source": [
    "for col in enc.columns:\n",
    "            df[col] = le.fit_transform(df[col])"
   ]
  },
  {
   "cell_type": "code",
   "execution_count": 27,
   "id": "7839052d-b8c3-4d15-a44b-cd6ee3470791",
   "metadata": {},
   "outputs": [
    {
     "data": {
      "text/html": [
       "<div>\n",
       "<style scoped>\n",
       "    .dataframe tbody tr th:only-of-type {\n",
       "        vertical-align: middle;\n",
       "    }\n",
       "\n",
       "    .dataframe tbody tr th {\n",
       "        vertical-align: top;\n",
       "    }\n",
       "\n",
       "    .dataframe thead th {\n",
       "        text-align: right;\n",
       "    }\n",
       "</style>\n",
       "<table border=\"1\" class=\"dataframe\">\n",
       "  <thead>\n",
       "    <tr style=\"text-align: right;\">\n",
       "      <th></th>\n",
       "      <th>pH</th>\n",
       "      <th>Temprature</th>\n",
       "      <th>Taste</th>\n",
       "      <th>Odor</th>\n",
       "      <th>Fat</th>\n",
       "      <th>Turbidity</th>\n",
       "      <th>Colour</th>\n",
       "      <th>Grade</th>\n",
       "    </tr>\n",
       "  </thead>\n",
       "  <tbody>\n",
       "    <tr>\n",
       "      <th>0</th>\n",
       "      <td>6.6</td>\n",
       "      <td>35</td>\n",
       "      <td>1</td>\n",
       "      <td>0</td>\n",
       "      <td>1</td>\n",
       "      <td>0</td>\n",
       "      <td>254</td>\n",
       "      <td>0</td>\n",
       "    </tr>\n",
       "    <tr>\n",
       "      <th>1</th>\n",
       "      <td>6.6</td>\n",
       "      <td>36</td>\n",
       "      <td>0</td>\n",
       "      <td>1</td>\n",
       "      <td>0</td>\n",
       "      <td>1</td>\n",
       "      <td>253</td>\n",
       "      <td>0</td>\n",
       "    </tr>\n",
       "    <tr>\n",
       "      <th>2</th>\n",
       "      <td>8.5</td>\n",
       "      <td>70</td>\n",
       "      <td>1</td>\n",
       "      <td>1</td>\n",
       "      <td>1</td>\n",
       "      <td>1</td>\n",
       "      <td>246</td>\n",
       "      <td>1</td>\n",
       "    </tr>\n",
       "    <tr>\n",
       "      <th>3</th>\n",
       "      <td>9.5</td>\n",
       "      <td>34</td>\n",
       "      <td>1</td>\n",
       "      <td>1</td>\n",
       "      <td>0</td>\n",
       "      <td>1</td>\n",
       "      <td>255</td>\n",
       "      <td>1</td>\n",
       "    </tr>\n",
       "    <tr>\n",
       "      <th>4</th>\n",
       "      <td>6.6</td>\n",
       "      <td>37</td>\n",
       "      <td>0</td>\n",
       "      <td>0</td>\n",
       "      <td>0</td>\n",
       "      <td>0</td>\n",
       "      <td>255</td>\n",
       "      <td>2</td>\n",
       "    </tr>\n",
       "  </tbody>\n",
       "</table>\n",
       "</div>"
      ],
      "text/plain": [
       "    pH  Temprature  Taste  Odor  Fat   Turbidity  Colour  Grade\n",
       "0  6.6          35      1     0     1          0     254      0\n",
       "1  6.6          36      0     1     0          1     253      0\n",
       "2  8.5          70      1     1     1          1     246      1\n",
       "3  9.5          34      1     1     0          1     255      1\n",
       "4  6.6          37      0     0     0          0     255      2"
      ]
     },
     "execution_count": 27,
     "metadata": {},
     "output_type": "execute_result"
    }
   ],
   "source": [
    "df.head()"
   ]
  },
  {
   "cell_type": "code",
   "execution_count": 28,
   "id": "16857df0-5c9b-44d2-a17a-c7adf5a2b17e",
   "metadata": {},
   "outputs": [
    {
     "data": {
      "text/plain": [
       "pH            float64\n",
       "Temprature      int64\n",
       "Taste           int64\n",
       "Odor            int64\n",
       "Fat             int64\n",
       "Turbidity       int64\n",
       "Colour          int64\n",
       "Grade           int32\n",
       "dtype: object"
      ]
     },
     "execution_count": 28,
     "metadata": {},
     "output_type": "execute_result"
    }
   ],
   "source": [
    "df.dtypes"
   ]
  },
  {
   "cell_type": "markdown",
   "id": "580ab50e-45c0-47d4-965f-8ee6659fc95a",
   "metadata": {},
   "source": [
    "# DATA SCALING"
   ]
  },
  {
   "cell_type": "code",
   "execution_count": 29,
   "id": "50ff99e4-23c3-4de1-bf3d-1c7f74422010",
   "metadata": {},
   "outputs": [
    {
     "data": {
      "text/html": [
       "<div>\n",
       "<style scoped>\n",
       "    .dataframe tbody tr th:only-of-type {\n",
       "        vertical-align: middle;\n",
       "    }\n",
       "\n",
       "    .dataframe tbody tr th {\n",
       "        vertical-align: top;\n",
       "    }\n",
       "\n",
       "    .dataframe thead th {\n",
       "        text-align: right;\n",
       "    }\n",
       "</style>\n",
       "<table border=\"1\" class=\"dataframe\">\n",
       "  <thead>\n",
       "    <tr style=\"text-align: right;\">\n",
       "      <th></th>\n",
       "      <th>pH</th>\n",
       "      <th>Temprature</th>\n",
       "      <th>Taste</th>\n",
       "      <th>Odor</th>\n",
       "      <th>Fat</th>\n",
       "      <th>Turbidity</th>\n",
       "      <th>Colour</th>\n",
       "      <th>Grade</th>\n",
       "    </tr>\n",
       "  </thead>\n",
       "  <tbody>\n",
       "    <tr>\n",
       "      <th>0</th>\n",
       "      <td>6.6</td>\n",
       "      <td>35</td>\n",
       "      <td>1</td>\n",
       "      <td>0</td>\n",
       "      <td>1</td>\n",
       "      <td>0</td>\n",
       "      <td>254</td>\n",
       "      <td>0</td>\n",
       "    </tr>\n",
       "    <tr>\n",
       "      <th>1</th>\n",
       "      <td>6.6</td>\n",
       "      <td>36</td>\n",
       "      <td>0</td>\n",
       "      <td>1</td>\n",
       "      <td>0</td>\n",
       "      <td>1</td>\n",
       "      <td>253</td>\n",
       "      <td>0</td>\n",
       "    </tr>\n",
       "    <tr>\n",
       "      <th>2</th>\n",
       "      <td>8.5</td>\n",
       "      <td>70</td>\n",
       "      <td>1</td>\n",
       "      <td>1</td>\n",
       "      <td>1</td>\n",
       "      <td>1</td>\n",
       "      <td>246</td>\n",
       "      <td>1</td>\n",
       "    </tr>\n",
       "    <tr>\n",
       "      <th>3</th>\n",
       "      <td>9.5</td>\n",
       "      <td>34</td>\n",
       "      <td>1</td>\n",
       "      <td>1</td>\n",
       "      <td>0</td>\n",
       "      <td>1</td>\n",
       "      <td>255</td>\n",
       "      <td>1</td>\n",
       "    </tr>\n",
       "    <tr>\n",
       "      <th>4</th>\n",
       "      <td>6.6</td>\n",
       "      <td>37</td>\n",
       "      <td>0</td>\n",
       "      <td>0</td>\n",
       "      <td>0</td>\n",
       "      <td>0</td>\n",
       "      <td>255</td>\n",
       "      <td>2</td>\n",
       "    </tr>\n",
       "  </tbody>\n",
       "</table>\n",
       "</div>"
      ],
      "text/plain": [
       "    pH  Temprature  Taste  Odor  Fat   Turbidity  Colour  Grade\n",
       "0  6.6          35      1     0     1          0     254      0\n",
       "1  6.6          36      0     1     0          1     253      0\n",
       "2  8.5          70      1     1     1          1     246      1\n",
       "3  9.5          34      1     1     0          1     255      1\n",
       "4  6.6          37      0     0     0          0     255      2"
      ]
     },
     "execution_count": 29,
     "metadata": {},
     "output_type": "execute_result"
    }
   ],
   "source": [
    "df.head()"
   ]
  },
  {
   "cell_type": "code",
   "execution_count": 30,
   "id": "c24c7674-6374-4630-a113-fb56efe70ba5",
   "metadata": {},
   "outputs": [
    {
     "data": {
      "text/plain": [
       "Index(['pH', 'Temprature', 'Taste', 'Odor', 'Fat ', 'Turbidity', 'Colour',\n",
       "       'Grade'],\n",
       "      dtype='object')"
      ]
     },
     "execution_count": 30,
     "metadata": {},
     "output_type": "execute_result"
    }
   ],
   "source": [
    "df.columns"
   ]
  },
  {
   "cell_type": "code",
   "execution_count": 31,
   "id": "59ebe0ef-0807-469a-94ed-c2c0ae5009dd",
   "metadata": {},
   "outputs": [],
   "source": [
    "x=df.drop('Grade',axis=1)\n",
    "y=df['Grade']"
   ]
  },
  {
   "cell_type": "code",
   "execution_count": 32,
   "id": "83985284-6c65-49eb-8d89-ff90dfd6e07d",
   "metadata": {},
   "outputs": [
    {
     "data": {
      "text/html": [
       "<div>\n",
       "<style scoped>\n",
       "    .dataframe tbody tr th:only-of-type {\n",
       "        vertical-align: middle;\n",
       "    }\n",
       "\n",
       "    .dataframe tbody tr th {\n",
       "        vertical-align: top;\n",
       "    }\n",
       "\n",
       "    .dataframe thead th {\n",
       "        text-align: right;\n",
       "    }\n",
       "</style>\n",
       "<table border=\"1\" class=\"dataframe\">\n",
       "  <thead>\n",
       "    <tr style=\"text-align: right;\">\n",
       "      <th></th>\n",
       "      <th>pH</th>\n",
       "      <th>Temprature</th>\n",
       "      <th>Taste</th>\n",
       "      <th>Odor</th>\n",
       "      <th>Fat</th>\n",
       "      <th>Turbidity</th>\n",
       "      <th>Colour</th>\n",
       "    </tr>\n",
       "  </thead>\n",
       "  <tbody>\n",
       "    <tr>\n",
       "      <th>0</th>\n",
       "      <td>6.6</td>\n",
       "      <td>35</td>\n",
       "      <td>1</td>\n",
       "      <td>0</td>\n",
       "      <td>1</td>\n",
       "      <td>0</td>\n",
       "      <td>254</td>\n",
       "    </tr>\n",
       "    <tr>\n",
       "      <th>1</th>\n",
       "      <td>6.6</td>\n",
       "      <td>36</td>\n",
       "      <td>0</td>\n",
       "      <td>1</td>\n",
       "      <td>0</td>\n",
       "      <td>1</td>\n",
       "      <td>253</td>\n",
       "    </tr>\n",
       "    <tr>\n",
       "      <th>2</th>\n",
       "      <td>8.5</td>\n",
       "      <td>70</td>\n",
       "      <td>1</td>\n",
       "      <td>1</td>\n",
       "      <td>1</td>\n",
       "      <td>1</td>\n",
       "      <td>246</td>\n",
       "    </tr>\n",
       "    <tr>\n",
       "      <th>3</th>\n",
       "      <td>9.5</td>\n",
       "      <td>34</td>\n",
       "      <td>1</td>\n",
       "      <td>1</td>\n",
       "      <td>0</td>\n",
       "      <td>1</td>\n",
       "      <td>255</td>\n",
       "    </tr>\n",
       "    <tr>\n",
       "      <th>4</th>\n",
       "      <td>6.6</td>\n",
       "      <td>37</td>\n",
       "      <td>0</td>\n",
       "      <td>0</td>\n",
       "      <td>0</td>\n",
       "      <td>0</td>\n",
       "      <td>255</td>\n",
       "    </tr>\n",
       "  </tbody>\n",
       "</table>\n",
       "</div>"
      ],
      "text/plain": [
       "    pH  Temprature  Taste  Odor  Fat   Turbidity  Colour\n",
       "0  6.6          35      1     0     1          0     254\n",
       "1  6.6          36      0     1     0          1     253\n",
       "2  8.5          70      1     1     1          1     246\n",
       "3  9.5          34      1     1     0          1     255\n",
       "4  6.6          37      0     0     0          0     255"
      ]
     },
     "execution_count": 32,
     "metadata": {},
     "output_type": "execute_result"
    }
   ],
   "source": [
    "x.head()"
   ]
  },
  {
   "cell_type": "code",
   "execution_count": 33,
   "id": "b3966fac-ce59-48dd-abc8-54bc34968f1c",
   "metadata": {},
   "outputs": [
    {
     "data": {
      "text/plain": [
       "0       0\n",
       "1       0\n",
       "2       1\n",
       "3       1\n",
       "4       2\n",
       "       ..\n",
       "1054    2\n",
       "1055    0\n",
       "1056    1\n",
       "1057    0\n",
       "1058    1\n",
       "Name: Grade, Length: 1059, dtype: int32"
      ]
     },
     "execution_count": 33,
     "metadata": {},
     "output_type": "execute_result"
    }
   ],
   "source": [
    "y"
   ]
  },
  {
   "cell_type": "code",
   "execution_count": 34,
   "id": "f038266b-6c8a-4718-b17c-b8cf74114f78",
   "metadata": {},
   "outputs": [],
   "source": [
    "from sklearn.preprocessing import MinMaxScaler"
   ]
  },
  {
   "cell_type": "code",
   "execution_count": 35,
   "id": "dff4e243-0722-44a7-9c89-86c7d2c9b31d",
   "metadata": {},
   "outputs": [],
   "source": [
    "minmax=MinMaxScaler()"
   ]
  },
  {
   "cell_type": "code",
   "execution_count": 36,
   "id": "21000ee0-e620-4c0d-9037-f52bd140607c",
   "metadata": {},
   "outputs": [],
   "source": [
    "x=minmax.fit_transform(x)"
   ]
  },
  {
   "cell_type": "code",
   "execution_count": 37,
   "id": "8150abe7-df4c-4896-a81c-2a459beda844",
   "metadata": {},
   "outputs": [
    {
     "data": {
      "text/plain": [
       "array([[0.55384615, 0.01785714, 1.        , ..., 1.        , 0.        ,\n",
       "        0.93333333],\n",
       "       [0.55384615, 0.03571429, 0.        , ..., 0.        , 1.        ,\n",
       "        0.86666667],\n",
       "       [0.84615385, 0.64285714, 1.        , ..., 1.        , 1.        ,\n",
       "        0.4       ],\n",
       "       ...,\n",
       "       [0.        , 0.10714286, 1.        , ..., 1.        , 1.        ,\n",
       "        1.        ],\n",
       "       [0.58461538, 0.16071429, 1.        , ..., 1.        , 0.        ,\n",
       "        0.66666667],\n",
       "       [0.86153846, 0.375     , 0.        , ..., 1.        , 1.        ,\n",
       "        1.        ]])"
      ]
     },
     "execution_count": 37,
     "metadata": {},
     "output_type": "execute_result"
    }
   ],
   "source": [
    "x"
   ]
  },
  {
   "cell_type": "code",
   "execution_count": 38,
   "id": "96e8854f-b279-450e-b6fb-252cbf236344",
   "metadata": {},
   "outputs": [],
   "source": [
    "x=pd.DataFrame(x,columns=['pH', 'Temprature', 'Taste', 'Odor', 'Fat ', 'Turbidity', 'Colour'])"
   ]
  },
  {
   "cell_type": "code",
   "execution_count": 39,
   "id": "fabaad02-a76b-4b56-9cbc-ed456830fe59",
   "metadata": {},
   "outputs": [
    {
     "data": {
      "text/html": [
       "<div>\n",
       "<style scoped>\n",
       "    .dataframe tbody tr th:only-of-type {\n",
       "        vertical-align: middle;\n",
       "    }\n",
       "\n",
       "    .dataframe tbody tr th {\n",
       "        vertical-align: top;\n",
       "    }\n",
       "\n",
       "    .dataframe thead th {\n",
       "        text-align: right;\n",
       "    }\n",
       "</style>\n",
       "<table border=\"1\" class=\"dataframe\">\n",
       "  <thead>\n",
       "    <tr style=\"text-align: right;\">\n",
       "      <th></th>\n",
       "      <th>pH</th>\n",
       "      <th>Temprature</th>\n",
       "      <th>Taste</th>\n",
       "      <th>Odor</th>\n",
       "      <th>Fat</th>\n",
       "      <th>Turbidity</th>\n",
       "      <th>Colour</th>\n",
       "    </tr>\n",
       "  </thead>\n",
       "  <tbody>\n",
       "    <tr>\n",
       "      <th>0</th>\n",
       "      <td>0.553846</td>\n",
       "      <td>0.017857</td>\n",
       "      <td>1.0</td>\n",
       "      <td>0.0</td>\n",
       "      <td>1.0</td>\n",
       "      <td>0.0</td>\n",
       "      <td>0.933333</td>\n",
       "    </tr>\n",
       "    <tr>\n",
       "      <th>1</th>\n",
       "      <td>0.553846</td>\n",
       "      <td>0.035714</td>\n",
       "      <td>0.0</td>\n",
       "      <td>1.0</td>\n",
       "      <td>0.0</td>\n",
       "      <td>1.0</td>\n",
       "      <td>0.866667</td>\n",
       "    </tr>\n",
       "    <tr>\n",
       "      <th>2</th>\n",
       "      <td>0.846154</td>\n",
       "      <td>0.642857</td>\n",
       "      <td>1.0</td>\n",
       "      <td>1.0</td>\n",
       "      <td>1.0</td>\n",
       "      <td>1.0</td>\n",
       "      <td>0.400000</td>\n",
       "    </tr>\n",
       "    <tr>\n",
       "      <th>3</th>\n",
       "      <td>1.000000</td>\n",
       "      <td>0.000000</td>\n",
       "      <td>1.0</td>\n",
       "      <td>1.0</td>\n",
       "      <td>0.0</td>\n",
       "      <td>1.0</td>\n",
       "      <td>1.000000</td>\n",
       "    </tr>\n",
       "    <tr>\n",
       "      <th>4</th>\n",
       "      <td>0.553846</td>\n",
       "      <td>0.053571</td>\n",
       "      <td>0.0</td>\n",
       "      <td>0.0</td>\n",
       "      <td>0.0</td>\n",
       "      <td>0.0</td>\n",
       "      <td>1.000000</td>\n",
       "    </tr>\n",
       "    <tr>\n",
       "      <th>...</th>\n",
       "      <td>...</td>\n",
       "      <td>...</td>\n",
       "      <td>...</td>\n",
       "      <td>...</td>\n",
       "      <td>...</td>\n",
       "      <td>...</td>\n",
       "      <td>...</td>\n",
       "    </tr>\n",
       "    <tr>\n",
       "      <th>1054</th>\n",
       "      <td>0.569231</td>\n",
       "      <td>0.196429</td>\n",
       "      <td>1.0</td>\n",
       "      <td>1.0</td>\n",
       "      <td>0.0</td>\n",
       "      <td>0.0</td>\n",
       "      <td>0.466667</td>\n",
       "    </tr>\n",
       "    <tr>\n",
       "      <th>1055</th>\n",
       "      <td>0.569231</td>\n",
       "      <td>0.071429</td>\n",
       "      <td>1.0</td>\n",
       "      <td>0.0</td>\n",
       "      <td>1.0</td>\n",
       "      <td>0.0</td>\n",
       "      <td>1.000000</td>\n",
       "    </tr>\n",
       "    <tr>\n",
       "      <th>1056</th>\n",
       "      <td>0.000000</td>\n",
       "      <td>0.107143</td>\n",
       "      <td>1.0</td>\n",
       "      <td>1.0</td>\n",
       "      <td>1.0</td>\n",
       "      <td>1.0</td>\n",
       "      <td>1.000000</td>\n",
       "    </tr>\n",
       "    <tr>\n",
       "      <th>1057</th>\n",
       "      <td>0.584615</td>\n",
       "      <td>0.160714</td>\n",
       "      <td>1.0</td>\n",
       "      <td>0.0</td>\n",
       "      <td>1.0</td>\n",
       "      <td>0.0</td>\n",
       "      <td>0.666667</td>\n",
       "    </tr>\n",
       "    <tr>\n",
       "      <th>1058</th>\n",
       "      <td>0.861538</td>\n",
       "      <td>0.375000</td>\n",
       "      <td>0.0</td>\n",
       "      <td>1.0</td>\n",
       "      <td>1.0</td>\n",
       "      <td>1.0</td>\n",
       "      <td>1.000000</td>\n",
       "    </tr>\n",
       "  </tbody>\n",
       "</table>\n",
       "<p>1059 rows × 7 columns</p>\n",
       "</div>"
      ],
      "text/plain": [
       "            pH  Temprature  Taste  Odor  Fat   Turbidity    Colour\n",
       "0     0.553846    0.017857    1.0   0.0   1.0        0.0  0.933333\n",
       "1     0.553846    0.035714    0.0   1.0   0.0        1.0  0.866667\n",
       "2     0.846154    0.642857    1.0   1.0   1.0        1.0  0.400000\n",
       "3     1.000000    0.000000    1.0   1.0   0.0        1.0  1.000000\n",
       "4     0.553846    0.053571    0.0   0.0   0.0        0.0  1.000000\n",
       "...        ...         ...    ...   ...   ...        ...       ...\n",
       "1054  0.569231    0.196429    1.0   1.0   0.0        0.0  0.466667\n",
       "1055  0.569231    0.071429    1.0   0.0   1.0        0.0  1.000000\n",
       "1056  0.000000    0.107143    1.0   1.0   1.0        1.0  1.000000\n",
       "1057  0.584615    0.160714    1.0   0.0   1.0        0.0  0.666667\n",
       "1058  0.861538    0.375000    0.0   1.0   1.0        1.0  1.000000\n",
       "\n",
       "[1059 rows x 7 columns]"
      ]
     },
     "execution_count": 39,
     "metadata": {},
     "output_type": "execute_result"
    }
   ],
   "source": [
    "x"
   ]
  },
  {
   "cell_type": "code",
   "execution_count": 40,
   "id": "1a0b14b5-a1ab-4f5e-91a3-77d26edc04d5",
   "metadata": {},
   "outputs": [
    {
     "data": {
      "text/html": [
       "<div>\n",
       "<style scoped>\n",
       "    .dataframe tbody tr th:only-of-type {\n",
       "        vertical-align: middle;\n",
       "    }\n",
       "\n",
       "    .dataframe tbody tr th {\n",
       "        vertical-align: top;\n",
       "    }\n",
       "\n",
       "    .dataframe thead th {\n",
       "        text-align: right;\n",
       "    }\n",
       "</style>\n",
       "<table border=\"1\" class=\"dataframe\">\n",
       "  <thead>\n",
       "    <tr style=\"text-align: right;\">\n",
       "      <th></th>\n",
       "      <th>pH</th>\n",
       "      <th>Temprature</th>\n",
       "      <th>Taste</th>\n",
       "      <th>Odor</th>\n",
       "      <th>Fat</th>\n",
       "      <th>Turbidity</th>\n",
       "      <th>Colour</th>\n",
       "      <th>Grade</th>\n",
       "    </tr>\n",
       "  </thead>\n",
       "  <tbody>\n",
       "    <tr>\n",
       "      <th>0</th>\n",
       "      <td>0.553846</td>\n",
       "      <td>0.017857</td>\n",
       "      <td>1.0</td>\n",
       "      <td>0.0</td>\n",
       "      <td>1.0</td>\n",
       "      <td>0.0</td>\n",
       "      <td>0.933333</td>\n",
       "      <td>0</td>\n",
       "    </tr>\n",
       "    <tr>\n",
       "      <th>1</th>\n",
       "      <td>0.553846</td>\n",
       "      <td>0.035714</td>\n",
       "      <td>0.0</td>\n",
       "      <td>1.0</td>\n",
       "      <td>0.0</td>\n",
       "      <td>1.0</td>\n",
       "      <td>0.866667</td>\n",
       "      <td>0</td>\n",
       "    </tr>\n",
       "    <tr>\n",
       "      <th>2</th>\n",
       "      <td>0.846154</td>\n",
       "      <td>0.642857</td>\n",
       "      <td>1.0</td>\n",
       "      <td>1.0</td>\n",
       "      <td>1.0</td>\n",
       "      <td>1.0</td>\n",
       "      <td>0.400000</td>\n",
       "      <td>1</td>\n",
       "    </tr>\n",
       "    <tr>\n",
       "      <th>3</th>\n",
       "      <td>1.000000</td>\n",
       "      <td>0.000000</td>\n",
       "      <td>1.0</td>\n",
       "      <td>1.0</td>\n",
       "      <td>0.0</td>\n",
       "      <td>1.0</td>\n",
       "      <td>1.000000</td>\n",
       "      <td>1</td>\n",
       "    </tr>\n",
       "    <tr>\n",
       "      <th>4</th>\n",
       "      <td>0.553846</td>\n",
       "      <td>0.053571</td>\n",
       "      <td>0.0</td>\n",
       "      <td>0.0</td>\n",
       "      <td>0.0</td>\n",
       "      <td>0.0</td>\n",
       "      <td>1.000000</td>\n",
       "      <td>2</td>\n",
       "    </tr>\n",
       "    <tr>\n",
       "      <th>...</th>\n",
       "      <td>...</td>\n",
       "      <td>...</td>\n",
       "      <td>...</td>\n",
       "      <td>...</td>\n",
       "      <td>...</td>\n",
       "      <td>...</td>\n",
       "      <td>...</td>\n",
       "      <td>...</td>\n",
       "    </tr>\n",
       "    <tr>\n",
       "      <th>1054</th>\n",
       "      <td>0.569231</td>\n",
       "      <td>0.196429</td>\n",
       "      <td>1.0</td>\n",
       "      <td>1.0</td>\n",
       "      <td>0.0</td>\n",
       "      <td>0.0</td>\n",
       "      <td>0.466667</td>\n",
       "      <td>2</td>\n",
       "    </tr>\n",
       "    <tr>\n",
       "      <th>1055</th>\n",
       "      <td>0.569231</td>\n",
       "      <td>0.071429</td>\n",
       "      <td>1.0</td>\n",
       "      <td>0.0</td>\n",
       "      <td>1.0</td>\n",
       "      <td>0.0</td>\n",
       "      <td>1.000000</td>\n",
       "      <td>0</td>\n",
       "    </tr>\n",
       "    <tr>\n",
       "      <th>1056</th>\n",
       "      <td>0.000000</td>\n",
       "      <td>0.107143</td>\n",
       "      <td>1.0</td>\n",
       "      <td>1.0</td>\n",
       "      <td>1.0</td>\n",
       "      <td>1.0</td>\n",
       "      <td>1.000000</td>\n",
       "      <td>1</td>\n",
       "    </tr>\n",
       "    <tr>\n",
       "      <th>1057</th>\n",
       "      <td>0.584615</td>\n",
       "      <td>0.160714</td>\n",
       "      <td>1.0</td>\n",
       "      <td>0.0</td>\n",
       "      <td>1.0</td>\n",
       "      <td>0.0</td>\n",
       "      <td>0.666667</td>\n",
       "      <td>0</td>\n",
       "    </tr>\n",
       "    <tr>\n",
       "      <th>1058</th>\n",
       "      <td>0.861538</td>\n",
       "      <td>0.375000</td>\n",
       "      <td>0.0</td>\n",
       "      <td>1.0</td>\n",
       "      <td>1.0</td>\n",
       "      <td>1.0</td>\n",
       "      <td>1.000000</td>\n",
       "      <td>1</td>\n",
       "    </tr>\n",
       "  </tbody>\n",
       "</table>\n",
       "<p>1059 rows × 8 columns</p>\n",
       "</div>"
      ],
      "text/plain": [
       "            pH  Temprature  Taste  Odor  Fat   Turbidity    Colour  Grade\n",
       "0     0.553846    0.017857    1.0   0.0   1.0        0.0  0.933333      0\n",
       "1     0.553846    0.035714    0.0   1.0   0.0        1.0  0.866667      0\n",
       "2     0.846154    0.642857    1.0   1.0   1.0        1.0  0.400000      1\n",
       "3     1.000000    0.000000    1.0   1.0   0.0        1.0  1.000000      1\n",
       "4     0.553846    0.053571    0.0   0.0   0.0        0.0  1.000000      2\n",
       "...        ...         ...    ...   ...   ...        ...       ...    ...\n",
       "1054  0.569231    0.196429    1.0   1.0   0.0        0.0  0.466667      2\n",
       "1055  0.569231    0.071429    1.0   0.0   1.0        0.0  1.000000      0\n",
       "1056  0.000000    0.107143    1.0   1.0   1.0        1.0  1.000000      1\n",
       "1057  0.584615    0.160714    1.0   0.0   1.0        0.0  0.666667      0\n",
       "1058  0.861538    0.375000    0.0   1.0   1.0        1.0  1.000000      1\n",
       "\n",
       "[1059 rows x 8 columns]"
      ]
     },
     "execution_count": 40,
     "metadata": {},
     "output_type": "execute_result"
    }
   ],
   "source": [
    "output=pd.concat([x,y],axis=1)\n",
    "output"
   ]
  },
  {
   "cell_type": "code",
   "execution_count": 41,
   "id": "4d99f104-df85-4c30-bd74-e40b92b06269",
   "metadata": {},
   "outputs": [
    {
     "data": {
      "text/html": [
       "<div>\n",
       "<style scoped>\n",
       "    .dataframe tbody tr th:only-of-type {\n",
       "        vertical-align: middle;\n",
       "    }\n",
       "\n",
       "    .dataframe tbody tr th {\n",
       "        vertical-align: top;\n",
       "    }\n",
       "\n",
       "    .dataframe thead th {\n",
       "        text-align: right;\n",
       "    }\n",
       "</style>\n",
       "<table border=\"1\" class=\"dataframe\">\n",
       "  <thead>\n",
       "    <tr style=\"text-align: right;\">\n",
       "      <th></th>\n",
       "      <th>pH</th>\n",
       "      <th>Temprature</th>\n",
       "      <th>Taste</th>\n",
       "      <th>Odor</th>\n",
       "      <th>Fat</th>\n",
       "      <th>Turbidity</th>\n",
       "      <th>Colour</th>\n",
       "      <th>Grade</th>\n",
       "    </tr>\n",
       "  </thead>\n",
       "  <tbody>\n",
       "    <tr>\n",
       "      <th>count</th>\n",
       "      <td>1059.000000</td>\n",
       "      <td>1059.000000</td>\n",
       "      <td>1059.000000</td>\n",
       "      <td>1059.000000</td>\n",
       "      <td>1059.000000</td>\n",
       "      <td>1059.000000</td>\n",
       "      <td>1059.000000</td>\n",
       "      <td>1059.000000</td>\n",
       "    </tr>\n",
       "    <tr>\n",
       "      <th>mean</th>\n",
       "      <td>0.558480</td>\n",
       "      <td>0.182618</td>\n",
       "      <td>0.546742</td>\n",
       "      <td>0.432483</td>\n",
       "      <td>0.671388</td>\n",
       "      <td>0.491029</td>\n",
       "      <td>0.789361</td>\n",
       "      <td>1.111426</td>\n",
       "    </tr>\n",
       "    <tr>\n",
       "      <th>std</th>\n",
       "      <td>0.215335</td>\n",
       "      <td>0.180328</td>\n",
       "      <td>0.498046</td>\n",
       "      <td>0.495655</td>\n",
       "      <td>0.469930</td>\n",
       "      <td>0.500156</td>\n",
       "      <td>0.287162</td>\n",
       "      <td>0.763568</td>\n",
       "    </tr>\n",
       "    <tr>\n",
       "      <th>min</th>\n",
       "      <td>0.000000</td>\n",
       "      <td>0.000000</td>\n",
       "      <td>0.000000</td>\n",
       "      <td>0.000000</td>\n",
       "      <td>0.000000</td>\n",
       "      <td>0.000000</td>\n",
       "      <td>0.000000</td>\n",
       "      <td>0.000000</td>\n",
       "    </tr>\n",
       "    <tr>\n",
       "      <th>25%</th>\n",
       "      <td>0.538462</td>\n",
       "      <td>0.071429</td>\n",
       "      <td>0.000000</td>\n",
       "      <td>0.000000</td>\n",
       "      <td>0.000000</td>\n",
       "      <td>0.000000</td>\n",
       "      <td>0.666667</td>\n",
       "      <td>1.000000</td>\n",
       "    </tr>\n",
       "    <tr>\n",
       "      <th>50%</th>\n",
       "      <td>0.569231</td>\n",
       "      <td>0.125000</td>\n",
       "      <td>1.000000</td>\n",
       "      <td>0.000000</td>\n",
       "      <td>1.000000</td>\n",
       "      <td>0.000000</td>\n",
       "      <td>1.000000</td>\n",
       "      <td>1.000000</td>\n",
       "    </tr>\n",
       "    <tr>\n",
       "      <th>75%</th>\n",
       "      <td>0.584615</td>\n",
       "      <td>0.196429</td>\n",
       "      <td>1.000000</td>\n",
       "      <td>1.000000</td>\n",
       "      <td>1.000000</td>\n",
       "      <td>1.000000</td>\n",
       "      <td>1.000000</td>\n",
       "      <td>2.000000</td>\n",
       "    </tr>\n",
       "    <tr>\n",
       "      <th>max</th>\n",
       "      <td>1.000000</td>\n",
       "      <td>1.000000</td>\n",
       "      <td>1.000000</td>\n",
       "      <td>1.000000</td>\n",
       "      <td>1.000000</td>\n",
       "      <td>1.000000</td>\n",
       "      <td>1.000000</td>\n",
       "      <td>2.000000</td>\n",
       "    </tr>\n",
       "  </tbody>\n",
       "</table>\n",
       "</div>"
      ],
      "text/plain": [
       "                pH   Temprature        Taste         Odor         Fat   \\\n",
       "count  1059.000000  1059.000000  1059.000000  1059.000000  1059.000000   \n",
       "mean      0.558480     0.182618     0.546742     0.432483     0.671388   \n",
       "std       0.215335     0.180328     0.498046     0.495655     0.469930   \n",
       "min       0.000000     0.000000     0.000000     0.000000     0.000000   \n",
       "25%       0.538462     0.071429     0.000000     0.000000     0.000000   \n",
       "50%       0.569231     0.125000     1.000000     0.000000     1.000000   \n",
       "75%       0.584615     0.196429     1.000000     1.000000     1.000000   \n",
       "max       1.000000     1.000000     1.000000     1.000000     1.000000   \n",
       "\n",
       "         Turbidity       Colour        Grade  \n",
       "count  1059.000000  1059.000000  1059.000000  \n",
       "mean      0.491029     0.789361     1.111426  \n",
       "std       0.500156     0.287162     0.763568  \n",
       "min       0.000000     0.000000     0.000000  \n",
       "25%       0.000000     0.666667     1.000000  \n",
       "50%       0.000000     1.000000     1.000000  \n",
       "75%       1.000000     1.000000     2.000000  \n",
       "max       1.000000     1.000000     2.000000  "
      ]
     },
     "execution_count": 41,
     "metadata": {},
     "output_type": "execute_result"
    }
   ],
   "source": [
    "output.describe()"
   ]
  },
  {
   "cell_type": "code",
   "execution_count": null,
   "id": "a83b470b-dce8-4fbe-a513-79f882d2c166",
   "metadata": {},
   "outputs": [],
   "source": []
  },
  {
   "cell_type": "code",
   "execution_count": null,
   "id": "597ea82b-eaa2-4560-a7cf-575b4d4633be",
   "metadata": {},
   "outputs": [],
   "source": []
  },
  {
   "cell_type": "code",
   "execution_count": 42,
   "id": "ccc17754-dd40-4d62-bab9-f1a20a1c8823",
   "metadata": {},
   "outputs": [
    {
     "data": {
      "text/html": [
       "<div>\n",
       "<style scoped>\n",
       "    .dataframe tbody tr th:only-of-type {\n",
       "        vertical-align: middle;\n",
       "    }\n",
       "\n",
       "    .dataframe tbody tr th {\n",
       "        vertical-align: top;\n",
       "    }\n",
       "\n",
       "    .dataframe thead th {\n",
       "        text-align: right;\n",
       "    }\n",
       "</style>\n",
       "<table border=\"1\" class=\"dataframe\">\n",
       "  <thead>\n",
       "    <tr style=\"text-align: right;\">\n",
       "      <th></th>\n",
       "      <th>pH</th>\n",
       "      <th>Temprature</th>\n",
       "      <th>Taste</th>\n",
       "      <th>Odor</th>\n",
       "      <th>Fat</th>\n",
       "      <th>Turbidity</th>\n",
       "      <th>Colour</th>\n",
       "      <th>Grade</th>\n",
       "    </tr>\n",
       "  </thead>\n",
       "  <tbody>\n",
       "    <tr>\n",
       "      <th>pH</th>\n",
       "      <td>1.000000</td>\n",
       "      <td>0.244684</td>\n",
       "      <td>-0.064053</td>\n",
       "      <td>-0.081331</td>\n",
       "      <td>-0.093429</td>\n",
       "      <td>0.048384</td>\n",
       "      <td>-0.164565</td>\n",
       "      <td>-0.012518</td>\n",
       "    </tr>\n",
       "    <tr>\n",
       "      <th>Temprature</th>\n",
       "      <td>0.244684</td>\n",
       "      <td>1.000000</td>\n",
       "      <td>-0.109792</td>\n",
       "      <td>-0.048870</td>\n",
       "      <td>0.024073</td>\n",
       "      <td>0.185106</td>\n",
       "      <td>-0.008511</td>\n",
       "      <td>-0.094232</td>\n",
       "    </tr>\n",
       "    <tr>\n",
       "      <th>Taste</th>\n",
       "      <td>-0.064053</td>\n",
       "      <td>-0.109792</td>\n",
       "      <td>1.000000</td>\n",
       "      <td>0.017582</td>\n",
       "      <td>0.324149</td>\n",
       "      <td>0.055755</td>\n",
       "      <td>-0.082654</td>\n",
       "      <td>-0.197629</td>\n",
       "    </tr>\n",
       "    <tr>\n",
       "      <th>Odor</th>\n",
       "      <td>-0.081331</td>\n",
       "      <td>-0.048870</td>\n",
       "      <td>0.017582</td>\n",
       "      <td>1.000000</td>\n",
       "      <td>0.314505</td>\n",
       "      <td>0.457935</td>\n",
       "      <td>-0.039361</td>\n",
       "      <td>-0.454609</td>\n",
       "    </tr>\n",
       "    <tr>\n",
       "      <th>Fat</th>\n",
       "      <td>-0.093429</td>\n",
       "      <td>0.024073</td>\n",
       "      <td>0.324149</td>\n",
       "      <td>0.314505</td>\n",
       "      <td>1.000000</td>\n",
       "      <td>0.329264</td>\n",
       "      <td>0.114151</td>\n",
       "      <td>-0.501070</td>\n",
       "    </tr>\n",
       "    <tr>\n",
       "      <th>Turbidity</th>\n",
       "      <td>0.048384</td>\n",
       "      <td>0.185106</td>\n",
       "      <td>0.055755</td>\n",
       "      <td>0.457935</td>\n",
       "      <td>0.329264</td>\n",
       "      <td>1.000000</td>\n",
       "      <td>0.136436</td>\n",
       "      <td>-0.428017</td>\n",
       "    </tr>\n",
       "    <tr>\n",
       "      <th>Colour</th>\n",
       "      <td>-0.164565</td>\n",
       "      <td>-0.008511</td>\n",
       "      <td>-0.082654</td>\n",
       "      <td>-0.039361</td>\n",
       "      <td>0.114151</td>\n",
       "      <td>0.136436</td>\n",
       "      <td>1.000000</td>\n",
       "      <td>-0.212994</td>\n",
       "    </tr>\n",
       "    <tr>\n",
       "      <th>Grade</th>\n",
       "      <td>-0.012518</td>\n",
       "      <td>-0.094232</td>\n",
       "      <td>-0.197629</td>\n",
       "      <td>-0.454609</td>\n",
       "      <td>-0.501070</td>\n",
       "      <td>-0.428017</td>\n",
       "      <td>-0.212994</td>\n",
       "      <td>1.000000</td>\n",
       "    </tr>\n",
       "  </tbody>\n",
       "</table>\n",
       "</div>"
      ],
      "text/plain": [
       "                  pH  Temprature     Taste      Odor      Fat   Turbidity  \\\n",
       "pH          1.000000    0.244684 -0.064053 -0.081331 -0.093429   0.048384   \n",
       "Temprature  0.244684    1.000000 -0.109792 -0.048870  0.024073   0.185106   \n",
       "Taste      -0.064053   -0.109792  1.000000  0.017582  0.324149   0.055755   \n",
       "Odor       -0.081331   -0.048870  0.017582  1.000000  0.314505   0.457935   \n",
       "Fat        -0.093429    0.024073  0.324149  0.314505  1.000000   0.329264   \n",
       "Turbidity   0.048384    0.185106  0.055755  0.457935  0.329264   1.000000   \n",
       "Colour     -0.164565   -0.008511 -0.082654 -0.039361  0.114151   0.136436   \n",
       "Grade      -0.012518   -0.094232 -0.197629 -0.454609 -0.501070  -0.428017   \n",
       "\n",
       "              Colour     Grade  \n",
       "pH         -0.164565 -0.012518  \n",
       "Temprature -0.008511 -0.094232  \n",
       "Taste      -0.082654 -0.197629  \n",
       "Odor       -0.039361 -0.454609  \n",
       "Fat         0.114151 -0.501070  \n",
       "Turbidity   0.136436 -0.428017  \n",
       "Colour      1.000000 -0.212994  \n",
       "Grade      -0.212994  1.000000  "
      ]
     },
     "execution_count": 42,
     "metadata": {},
     "output_type": "execute_result"
    }
   ],
   "source": [
    "output.corr()"
   ]
  },
  {
   "cell_type": "code",
   "execution_count": 43,
   "id": "5e615a53-2cb1-40d2-90cc-e30af097748b",
   "metadata": {},
   "outputs": [
    {
     "data": {
      "text/plain": [
       "<Axes: >"
      ]
     },
     "execution_count": 43,
     "metadata": {},
     "output_type": "execute_result"
    },
    {
     "data": {
      "image/png": "[encoded data removed]",
      "text/plain": [
       "<Figure size 640x480 with 2 Axes>"
      ]
     },
     "metadata": {},
     "output_type": "display_data"
    }
   ],
   "source": [
    "sns.heatmap(output.corr())"
   ]
  },
  {
   "cell_type": "markdown",
   "id": "aa7dff8f-f013-43a4-ae61-9644e3c5c044",
   "metadata": {},
   "source": [
    "# Model Training"
   ]
  },
  {
   "cell_type": "markdown",
   "id": "bad340bb-120f-49cd-8e0b-f6453c0fe941",
   "metadata": {},
   "source": [
    "# Logestic Regression"
   ]
  },
  {
   "cell_type": "code",
   "execution_count": 44,
   "id": "d44bb858-26d7-4f31-b5f0-fcf8f81764a9",
   "metadata": {},
   "outputs": [],
   "source": [
    "x=output.drop('Grade',axis=1)\n",
    "y=output['Grade']"
   ]
  },
  {
   "cell_type": "code",
   "execution_count": 45,
   "id": "6c770721-5a62-4bae-8a12-1e1ed813b14c",
   "metadata": {},
   "outputs": [
    {
     "name": "stdout",
     "output_type": "stream",
     "text": [
      "0       0\n",
      "1       0\n",
      "2       1\n",
      "3       1\n",
      "4       2\n",
      "       ..\n",
      "1054    2\n",
      "1055    0\n",
      "1056    1\n",
      "1057    0\n",
      "1058    1\n",
      "Name: Grade, Length: 1059, dtype: int32\n",
      "            pH  Temprature  Taste  Odor  Fat   Turbidity    Colour\n",
      "0     0.553846    0.017857    1.0   0.0   1.0        0.0  0.933333\n",
      "1     0.553846    0.035714    0.0   1.0   0.0        1.0  0.866667\n",
      "2     0.846154    0.642857    1.0   1.0   1.0        1.0  0.400000\n",
      "3     1.000000    0.000000    1.0   1.0   0.0        1.0  1.000000\n",
      "4     0.553846    0.053571    0.0   0.0   0.0        0.0  1.000000\n",
      "...        ...         ...    ...   ...   ...        ...       ...\n",
      "1054  0.569231    0.196429    1.0   1.0   0.0        0.0  0.466667\n",
      "1055  0.569231    0.071429    1.0   0.0   1.0        0.0  1.000000\n",
      "1056  0.000000    0.107143    1.0   1.0   1.0        1.0  1.000000\n",
      "1057  0.584615    0.160714    1.0   0.0   1.0        0.0  0.666667\n",
      "1058  0.861538    0.375000    0.0   1.0   1.0        1.0  1.000000\n",
      "\n",
      "[1059 rows x 7 columns]\n"
     ]
    }
   ],
   "source": [
    "print(y)\n",
    "print(x)"
   ]
  },
  {
   "cell_type": "code",
   "execution_count": 46,
   "id": "6cfcec19-4e10-42e1-b1cf-414cadecf41f",
   "metadata": {},
   "outputs": [],
   "source": [
    "from sklearn.model_selection import train_test_split"
   ]
  },
  {
   "cell_type": "code",
   "execution_count": 47,
   "id": "b8bf13a9-21a1-4168-a058-b2a2feef75dd",
   "metadata": {},
   "outputs": [],
   "source": [
    "x_train,x_test,y_train,y_test=train_test_split(x,y,test_size=0.25,random_state=42)"
   ]
  },
  {
   "cell_type": "code",
   "execution_count": 48,
   "id": "c50191fc-9702-48a8-a21c-fff48eb28ab9",
   "metadata": {},
   "outputs": [],
   "source": [
    "from sklearn.linear_model import LogisticRegression"
   ]
  },
  {
   "cell_type": "code",
   "execution_count": 49,
   "id": "7d92604f-d390-4083-813f-5439f4a89e38",
   "metadata": {},
   "outputs": [],
   "source": [
    "lr=LogisticRegression()"
   ]
  },
  {
   "cell_type": "code",
   "execution_count": 50,
   "id": "cb0d28e8-73be-4e4f-add1-c5055d134164",
   "metadata": {},
   "outputs": [],
   "source": [
    "model_lr=lr.fit(x_train,y_train)"
   ]
  },
  {
   "cell_type": "code",
   "execution_count": 51,
   "id": "d55d627b-4082-4eab-ae93-83cd1fa89db9",
   "metadata": {},
   "outputs": [],
   "source": [
    "y_pred=model_lr.predict(x_test)"
   ]
  },
  {
   "cell_type": "code",
   "execution_count": 52,
   "id": "2795c216-13d4-46bf-b869-9cfda88dc6db",
   "metadata": {},
   "outputs": [],
   "source": [
    "from sklearn.metrics import confusion_matrix,precision_score,accuracy_score,recall_score,f1_score,classification_report"
   ]
  },
  {
   "cell_type": "code",
   "execution_count": 53,
   "id": "ecc568ae-2ab1-4f72-b845-4c9551d5ed98",
   "metadata": {},
   "outputs": [
    {
     "name": "stdout",
     "output_type": "stream",
     "text": [
      "[[37 23  3]\n",
      " [14 83  2]\n",
      " [12  4 87]]\n"
     ]
    }
   ],
   "source": [
    "print(confusion_matrix(y_test,y_pred))"
   ]
  },
  {
   "cell_type": "code",
   "execution_count": 54,
   "id": "84588cba-047a-48bf-afc4-b08bb18ddd77",
   "metadata": {},
   "outputs": [
    {
     "name": "stdout",
     "output_type": "stream",
     "text": [
      "0.7811320754716982\n"
     ]
    }
   ],
   "source": [
    "print(accuracy_score(y_test,y_pred))"
   ]
  },
  {
   "cell_type": "code",
   "execution_count": 55,
   "id": "739d35bb-a0d2-42cc-a6a8-678cce0908a3",
   "metadata": {},
   "outputs": [
    {
     "name": "stdout",
     "output_type": "stream",
     "text": [
      "0.7567818732867276\n"
     ]
    }
   ],
   "source": [
    "print(recall_score(y_test, y_pred, average='macro'))"
   ]
  },
  {
   "cell_type": "code",
   "execution_count": 56,
   "id": "719e79fd-c95b-4276-b814-ece452769cdb",
   "metadata": {},
   "outputs": [
    {
     "name": "stdout",
     "output_type": "stream",
     "text": [
      "0.7579558842716737\n"
     ]
    }
   ],
   "source": [
    "print(f1_score(y_test,y_pred, average='macro'))"
   ]
  },
  {
   "cell_type": "code",
   "execution_count": 57,
   "id": "7a45ee60-4c98-4bb2-ba3c-506dda65f631",
   "metadata": {},
   "outputs": [
    {
     "name": "stdout",
     "output_type": "stream",
     "text": [
      "              precision    recall  f1-score   support\n",
      "\n",
      "           0       0.59      0.59      0.59        63\n",
      "           1       0.75      0.84      0.79        99\n",
      "           2       0.95      0.84      0.89       103\n",
      "\n",
      "    accuracy                           0.78       265\n",
      "   macro avg       0.76      0.76      0.76       265\n",
      "weighted avg       0.79      0.78      0.78       265\n",
      "\n"
     ]
    }
   ],
   "source": [
    "print(classification_report(y_test,y_pred))"
   ]
  },
  {
   "cell_type": "raw",
   "id": "8ee6b3fc-4a8d-49c1-b15a-30b794ef5e76",
   "metadata": {},
   "source": [
    "# Accuracy 78%"
   ]
  },
  {
   "cell_type": "markdown",
   "id": "18756ed8-5648-4ec2-b5d9-875e9a971551",
   "metadata": {},
   "source": [
    "# SVM"
   ]
  },
  {
   "cell_type": "code",
   "execution_count": 58,
   "id": "38aebda8-b36c-44ba-84b2-92d0f06f44e0",
   "metadata": {},
   "outputs": [],
   "source": [
    "from sklearn.model_selection import train_test_split"
   ]
  },
  {
   "cell_type": "code",
   "execution_count": 59,
   "id": "d006d0c2-717f-417e-9781-10ae6eb9ef35",
   "metadata": {},
   "outputs": [],
   "source": [
    "x_train,x_test,y_train,y_test=train_test_split(x,y,test_size=0.25,random_state=42)"
   ]
  },
  {
   "cell_type": "code",
   "execution_count": 60,
   "id": "1adc5106-584d-4410-8bba-5025c5c6fd01",
   "metadata": {},
   "outputs": [],
   "source": [
    "from sklearn.svm import SVC"
   ]
  },
  {
   "cell_type": "code",
   "execution_count": 61,
   "id": "46c2825a-320e-40bc-97dc-7353d6d2f0d6",
   "metadata": {},
   "outputs": [],
   "source": [
    "svm_clf=SVC(kernel='rbf')"
   ]
  },
  {
   "cell_type": "code",
   "execution_count": 62,
   "id": "b84d9b6e-0adf-45de-b75f-6cffafd90ffb",
   "metadata": {},
   "outputs": [],
   "source": [
    "svm_model=svm_clf.fit(x_train,y_train)"
   ]
  },
  {
   "cell_type": "code",
   "execution_count": 63,
   "id": "bf1e7d3f-3d40-461c-ba6b-5dc566d0f020",
   "metadata": {},
   "outputs": [],
   "source": [
    "y_pred_svm=svm_model.predict(x_test)"
   ]
  },
  {
   "cell_type": "code",
   "execution_count": 64,
   "id": "d953b4d0-d105-4a4e-a5f0-be9385341c47",
   "metadata": {},
   "outputs": [],
   "source": [
    "from sklearn.metrics import confusion_matrix,precision_score,accuracy_score,recall_score,f1_score,classification_report"
   ]
  },
  {
   "cell_type": "code",
   "execution_count": 65,
   "id": "56335049-5834-491b-91e3-ea2cee36bbcd",
   "metadata": {},
   "outputs": [
    {
     "name": "stdout",
     "output_type": "stream",
     "text": [
      "[[46 14  3]\n",
      " [ 5 89  5]\n",
      " [12  1 90]]\n"
     ]
    }
   ],
   "source": [
    "print(confusion_matrix(y_test,y_pred_svm))"
   ]
  },
  {
   "cell_type": "code",
   "execution_count": 66,
   "id": "b2c0c980-5059-4d5a-b718-0b23d16187b9",
   "metadata": {},
   "outputs": [
    {
     "name": "stdout",
     "output_type": "stream",
     "text": [
      "0.8347651026222455\n"
     ]
    }
   ],
   "source": [
    "print(precision_score(y_test,y_pred_svm,average='macro'))"
   ]
  },
  {
   "cell_type": "code",
   "execution_count": 67,
   "id": "137473db-3f87-4c5a-9028-7af7180c7132",
   "metadata": {},
   "outputs": [
    {
     "name": "stdout",
     "output_type": "stream",
     "text": [
      "0.8490566037735849\n"
     ]
    }
   ],
   "source": [
    "print(accuracy_score(y_test,y_pred_svm))"
   ]
  },
  {
   "cell_type": "code",
   "execution_count": 68,
   "id": "a28d0d67-ef63-44b8-b7ac-db1d5d381b00",
   "metadata": {},
   "outputs": [
    {
     "name": "stdout",
     "output_type": "stream",
     "text": [
      "0.8343116789718731\n"
     ]
    }
   ],
   "source": [
    "print(recall_score(y_test,y_pred_svm,average='macro'))"
   ]
  },
  {
   "cell_type": "code",
   "execution_count": 69,
   "id": "4b6c86b2-c6cd-45ff-abe2-a10dd0ff7670",
   "metadata": {},
   "outputs": [
    {
     "name": "stdout",
     "output_type": "stream",
     "text": [
      "0.8341761362862753\n"
     ]
    }
   ],
   "source": [
    "print(f1_score(y_test,y_pred_svm,average='macro'))"
   ]
  },
  {
   "cell_type": "code",
   "execution_count": 70,
   "id": "3ed28469-379f-44fa-b7ab-387ee996fd35",
   "metadata": {},
   "outputs": [
    {
     "name": "stdout",
     "output_type": "stream",
     "text": [
      "              precision    recall  f1-score   support\n",
      "\n",
      "           0       0.73      0.73      0.73        63\n",
      "           1       0.86      0.90      0.88        99\n",
      "           2       0.92      0.87      0.90       103\n",
      "\n",
      "    accuracy                           0.85       265\n",
      "   macro avg       0.83      0.83      0.83       265\n",
      "weighted avg       0.85      0.85      0.85       265\n",
      "\n"
     ]
    }
   ],
   "source": [
    "print(classification_report(y_test,y_pred_svm))"
   ]
  },
  {
   "cell_type": "code",
   "execution_count": 71,
   "id": "bf96022b-1488-40c7-a09c-60064a254a2f",
   "metadata": {},
   "outputs": [],
   "source": [
    "# Accuracy 85%"
   ]
  },
  {
   "cell_type": "markdown",
   "id": "70679d27-4065-4c5b-8756-1070d553dca6",
   "metadata": {},
   "source": [
    "# Decision Tree"
   ]
  },
  {
   "cell_type": "code",
   "execution_count": 72,
   "id": "9ebad6a6-8341-41ab-9898-3ba58595deb9",
   "metadata": {},
   "outputs": [],
   "source": [
    "from sklearn.model_selection import train_test_split"
   ]
  },
  {
   "cell_type": "code",
   "execution_count": 73,
   "id": "abf50cea-7bb1-4dc5-a241-572aa5081e25",
   "metadata": {},
   "outputs": [],
   "source": [
    "x_train,x_test,y_train,y_test=train_test_split(x,y,test_size=0.25,random_state=42)"
   ]
  },
  {
   "cell_type": "code",
   "execution_count": 74,
   "id": "997f7089-a527-4561-93c2-457f0a150726",
   "metadata": {},
   "outputs": [],
   "source": [
    "from sklearn.tree import DecisionTreeClassifier"
   ]
  },
  {
   "cell_type": "code",
   "execution_count": 75,
   "id": "8615d076-df77-4e58-8b63-7d3f200f9dee",
   "metadata": {},
   "outputs": [],
   "source": [
    "dt_clf= DecisionTreeClassifier(random_state=42)"
   ]
  },
  {
   "cell_type": "code",
   "execution_count": 76,
   "id": "79af23a1-c6fd-446f-a63a-a26b8462f512",
   "metadata": {},
   "outputs": [],
   "source": [
    "dt_model=dt_clf.fit(x_train,y_train)"
   ]
  },
  {
   "cell_type": "code",
   "execution_count": 77,
   "id": "4222d0af-b69e-44f2-a575-7920cbb55baa",
   "metadata": {},
   "outputs": [],
   "source": [
    "y_pred_dt=dt_model.predict(x_test)"
   ]
  },
  {
   "cell_type": "code",
   "execution_count": 78,
   "id": "68807c8b-d071-40fb-a584-c174d7084dd5",
   "metadata": {},
   "outputs": [],
   "source": [
    "from sklearn.metrics import confusion_matrix,precision_score,accuracy_score,recall_score,f1_score,classification_report"
   ]
  },
  {
   "cell_type": "code",
   "execution_count": 79,
   "id": "ef338288-ae60-4fb2-bb78-da01cd20614b",
   "metadata": {},
   "outputs": [
    {
     "name": "stdout",
     "output_type": "stream",
     "text": [
      "[[ 62   0   1]\n",
      " [  1  98   0]\n",
      " [  0   0 103]]\n"
     ]
    }
   ],
   "source": [
    "print(confusion_matrix(y_test,y_pred_dt))"
   ]
  },
  {
   "cell_type": "code",
   "execution_count": 80,
   "id": "79e6d200-fe75-47de-abf6-171293329a00",
   "metadata": {},
   "outputs": [
    {
     "name": "stdout",
     "output_type": "stream",
     "text": [
      "0.9915038665038666\n"
     ]
    }
   ],
   "source": [
    "print(precision_score(y_test,y_pred_dt,average='macro'))"
   ]
  },
  {
   "cell_type": "code",
   "execution_count": 81,
   "id": "f22d4e56-43de-469a-92fe-997b27c16f8f",
   "metadata": {},
   "outputs": [
    {
     "name": "stdout",
     "output_type": "stream",
     "text": [
      "0.9924528301886792\n"
     ]
    }
   ],
   "source": [
    "print(accuracy_score(y_test,y_pred_dt))"
   ]
  },
  {
   "cell_type": "code",
   "execution_count": 82,
   "id": "cc12250d-bfad-4e43-9671-91d5ada42d62",
   "metadata": {},
   "outputs": [
    {
     "name": "stdout",
     "output_type": "stream",
     "text": [
      "0.9913419913419913\n"
     ]
    }
   ],
   "source": [
    "print(recall_score(y_test,y_pred_dt,average='macro'))"
   ]
  },
  {
   "cell_type": "code",
   "execution_count": 83,
   "id": "2290001a-6f3a-4b99-b606-4de9506f4986",
   "metadata": {},
   "outputs": [
    {
     "name": "stdout",
     "output_type": "stream",
     "text": [
      "0.9914066413735361\n"
     ]
    }
   ],
   "source": [
    "print(f1_score(y_test,y_pred_dt,average='macro'))"
   ]
  },
  {
   "cell_type": "code",
   "execution_count": 84,
   "id": "f8161e98-9775-4571-819b-66b4ff93de48",
   "metadata": {},
   "outputs": [
    {
     "name": "stdout",
     "output_type": "stream",
     "text": [
      "              precision    recall  f1-score   support\n",
      "\n",
      "           0       0.98      0.98      0.98        63\n",
      "           1       1.00      0.99      0.99        99\n",
      "           2       0.99      1.00      1.00       103\n",
      "\n",
      "    accuracy                           0.99       265\n",
      "   macro avg       0.99      0.99      0.99       265\n",
      "weighted avg       0.99      0.99      0.99       265\n",
      "\n"
     ]
    }
   ],
   "source": [
    "print(classification_report(y_test,y_pred_dt))"
   ]
  },
  {
   "cell_type": "code",
   "execution_count": 85,
   "id": "85141fbb-179c-4450-91fd-dc77db7fa3e4",
   "metadata": {},
   "outputs": [],
   "source": [
    "# Accuracy 99%"
   ]
  },
  {
   "cell_type": "markdown",
   "id": "0a937427-5973-496d-823a-437d2e0659fb",
   "metadata": {},
   "source": [
    "# KNN"
   ]
  },
  {
   "cell_type": "code",
   "execution_count": 86,
   "id": "762b2b97-d15f-463b-8a58-e8b1075ae45e",
   "metadata": {},
   "outputs": [],
   "source": [
    "from sklearn.model_selection import train_test_split"
   ]
  },
  {
   "cell_type": "code",
   "execution_count": 87,
   "id": "ec8c82e9-755b-4878-80b7-87c7e90a48db",
   "metadata": {},
   "outputs": [],
   "source": [
    "x_train,x_test,y_train,y_test=train_test_split(x,y,test_size=0.25,random_state=42)"
   ]
  },
  {
   "cell_type": "code",
   "execution_count": 88,
   "id": "a3d2b390-ac6f-4b24-8329-5f89a8d4734e",
   "metadata": {},
   "outputs": [],
   "source": [
    "from sklearn.neighbors import KNeighborsClassifier"
   ]
  },
  {
   "cell_type": "code",
   "execution_count": 89,
   "id": "d45a9b3f-d6b3-4c82-9ef3-9c6cb792a583",
   "metadata": {},
   "outputs": [],
   "source": [
    "metric_k=[]"
   ]
  },
  {
   "cell_type": "code",
   "execution_count": 90,
   "id": "98a8cd45-8fd4-4a75-9a36-597f3900d3aa",
   "metadata": {},
   "outputs": [],
   "source": [
    "neighbors=np.arange(2,12)"
   ]
  },
  {
   "cell_type": "code",
   "execution_count": 91,
   "id": "7cbb470a-69ad-4b76-bc83-788a86d2d1eb",
   "metadata": {},
   "outputs": [],
   "source": [
    "for k in neighbors:\n",
    "    knn=KNeighborsClassifier(n_neighbors=k)\n",
    "    model_knn=knn.fit(x_train,y_train)\n",
    "    y_pred_knn=model_knn.predict(x_test)\n",
    "    acc=accuracy_score(y_test,y_pred_knn)\n",
    "    metric_k.append(acc)"
   ]
  },
  {
   "cell_type": "code",
   "execution_count": 92,
   "id": "c61e0a98-1945-422f-9c22-e74708c5391d",
   "metadata": {},
   "outputs": [
    {
     "data": {
      "text/plain": [
       "[0.9886792452830189,\n",
       " 0.9886792452830189,\n",
       " 0.9886792452830189,\n",
       " 0.9811320754716981,\n",
       " 0.9811320754716981,\n",
       " 0.9924528301886792,\n",
       " 0.9924528301886792,\n",
       " 0.969811320754717,\n",
       " 0.9584905660377359,\n",
       " 0.9584905660377359]"
      ]
     },
     "execution_count": 92,
     "metadata": {},
     "output_type": "execute_result"
    }
   ],
   "source": [
    "metric_k"
   ]
  },
  {
   "cell_type": "code",
   "execution_count": 93,
   "id": "9763b8f2-da4c-4136-9804-aed74c773a00",
   "metadata": {},
   "outputs": [
    {
     "data": {
      "image/png": "[encoded data removed]",
      "text/plain": [
       "<Figure size 640x480 with 1 Axes>"
      ]
     },
     "metadata": {},
     "output_type": "display_data"
    }
   ],
   "source": [
    "plt.plot(neighbors,metric_k,'*--',color='k')\n",
    "plt.xlabel('K Value')\n",
    "plt.ylabel('Accuracy')\n",
    "plt.grid()"
   ]
  },
  {
   "cell_type": "code",
   "execution_count": 94,
   "id": "8a4cd259-a24b-443f-99d3-8f1da3df35e7",
   "metadata": {},
   "outputs": [],
   "source": [
    "knn=KNeighborsClassifier(n_neighbors=8)\n",
    "model_knn=knn.fit(x_train,y_train)\n",
    "y_pred_knn=model_knn.predict(x_test)"
   ]
  },
  {
   "cell_type": "code",
   "execution_count": 95,
   "id": "6884f145-e8a9-4658-ba50-2bcec107784d",
   "metadata": {},
   "outputs": [],
   "source": [
    "from sklearn.metrics import confusion_matrix,precision_score,recall_score,f1_score,accuracy_score,classification_report"
   ]
  },
  {
   "cell_type": "code",
   "execution_count": 96,
   "id": "3d4c1ec1-e5a8-4f21-b28a-c6d8b20aa6c9",
   "metadata": {},
   "outputs": [
    {
     "name": "stdout",
     "output_type": "stream",
     "text": [
      "[[ 63   0   0]\n",
      " [  2  97   0]\n",
      " [  0   0 103]]\n"
     ]
    }
   ],
   "source": [
    "print(confusion_matrix(y_test,y_pred_knn))"
   ]
  },
  {
   "cell_type": "code",
   "execution_count": 97,
   "id": "7b2063cb-2805-407c-a882-a60b25c6d851",
   "metadata": {},
   "outputs": [
    {
     "name": "stdout",
     "output_type": "stream",
     "text": [
      "0.9897435897435898\n"
     ]
    }
   ],
   "source": [
    "print(precision_score(y_test,y_pred_knn,average='macro'))"
   ]
  },
  {
   "cell_type": "code",
   "execution_count": 98,
   "id": "845eaa37-8aa0-434c-8d73-932d1d0a431d",
   "metadata": {},
   "outputs": [
    {
     "name": "stdout",
     "output_type": "stream",
     "text": [
      "0.9932659932659932\n"
     ]
    }
   ],
   "source": [
    "print(recall_score(y_test,y_pred_knn,average='macro'))"
   ]
  },
  {
   "cell_type": "code",
   "execution_count": 99,
   "id": "6431bdd5-177e-42e6-b0a4-8e54905b10f6",
   "metadata": {},
   "outputs": [
    {
     "name": "stdout",
     "output_type": "stream",
     "text": [
      "0.991390306122449\n"
     ]
    }
   ],
   "source": [
    "print(f1_score(y_test,y_pred_knn,average='macro'))"
   ]
  },
  {
   "cell_type": "code",
   "execution_count": 100,
   "id": "a9917db0-decf-421a-8270-50562d15aac5",
   "metadata": {},
   "outputs": [
    {
     "name": "stdout",
     "output_type": "stream",
     "text": [
      "0.9924528301886792\n"
     ]
    }
   ],
   "source": [
    "print(accuracy_score(y_test,y_pred_knn))"
   ]
  },
  {
   "cell_type": "code",
   "execution_count": 101,
   "id": "597cb34f-116d-4c13-82b8-7a443341c4c5",
   "metadata": {},
   "outputs": [
    {
     "name": "stdout",
     "output_type": "stream",
     "text": [
      "              precision    recall  f1-score   support\n",
      "\n",
      "           0       0.97      1.00      0.98        63\n",
      "           1       1.00      0.98      0.99        99\n",
      "           2       1.00      1.00      1.00       103\n",
      "\n",
      "    accuracy                           0.99       265\n",
      "   macro avg       0.99      0.99      0.99       265\n",
      "weighted avg       0.99      0.99      0.99       265\n",
      "\n"
     ]
    }
   ],
   "source": [
    "print(classification_report(y_test,y_pred_knn))"
   ]
  },
  {
   "cell_type": "code",
   "execution_count": 102,
   "id": "ce4d1f74-2d59-44a1-9d4c-6e63a107f8ee",
   "metadata": {},
   "outputs": [],
   "source": [
    "# Accuracy 99%"
   ]
  },
  {
   "cell_type": "markdown",
   "id": "73609df8-655b-466a-b295-89cd5ad646d3",
   "metadata": {},
   "source": [
    "# Random Forest"
   ]
  },
  {
   "cell_type": "code",
   "execution_count": 103,
   "id": "d9184f92-5a06-4ece-bc6c-464daa60f10d",
   "metadata": {},
   "outputs": [],
   "source": [
    "from sklearn.ensemble import RandomForestClassifier"
   ]
  },
  {
   "cell_type": "code",
   "execution_count": 104,
   "id": "b4323cb4-b966-4383-8bff-6498d6ed087f",
   "metadata": {},
   "outputs": [],
   "source": [
    "rf_clf= RandomForestClassifier(random_state=42)"
   ]
  },
  {
   "cell_type": "code",
   "execution_count": 105,
   "id": "b188f03a-16fe-4106-a5f6-08e5deb18fe4",
   "metadata": {},
   "outputs": [],
   "source": [
    "rf_model=rf_clf.fit(x_train,y_train)"
   ]
  },
  {
   "cell_type": "code",
   "execution_count": 106,
   "id": "3a587d5b-497e-4726-bb46-19f5bf1b0348",
   "metadata": {},
   "outputs": [],
   "source": [
    "y_pred_rf=rf_model.predict(x_test)"
   ]
  },
  {
   "cell_type": "code",
   "execution_count": 107,
   "id": "5700c853-2fdc-4913-b159-679187177ae1",
   "metadata": {},
   "outputs": [],
   "source": [
    "from sklearn.metrics import confusion_matrix,precision_score,recall_score,f1_score,accuracy_score,classification_report"
   ]
  },
  {
   "cell_type": "code",
   "execution_count": 108,
   "id": "f8aee029-2dcf-49f0-b7d7-a7a575098804",
   "metadata": {},
   "outputs": [
    {
     "name": "stdout",
     "output_type": "stream",
     "text": [
      "[[ 63   0   0]\n",
      " [  1  98   0]\n",
      " [  0   0 103]]\n"
     ]
    }
   ],
   "source": [
    "print(confusion_matrix(y_test,y_pred_rf))"
   ]
  },
  {
   "cell_type": "code",
   "execution_count": 109,
   "id": "f8316636-fc39-4b11-beb3-5af400ea9825",
   "metadata": {},
   "outputs": [
    {
     "name": "stdout",
     "output_type": "stream",
     "text": [
      "0.9947916666666666\n"
     ]
    }
   ],
   "source": [
    "print(precision_score(y_test,y_pred_rf,average='macro'))"
   ]
  },
  {
   "cell_type": "code",
   "execution_count": 110,
   "id": "c22c8a70-56f4-4c3c-9cc2-ec92f2726cfe",
   "metadata": {},
   "outputs": [
    {
     "name": "stdout",
     "output_type": "stream",
     "text": [
      "0.9966329966329966\n"
     ]
    }
   ],
   "source": [
    "print(recall_score(y_test,y_pred_rf,average='macro'))"
   ]
  },
  {
   "cell_type": "code",
   "execution_count": 111,
   "id": "1c5e8031-a62b-4182-8537-e060f169f962",
   "metadata": {},
   "outputs": [
    {
     "name": "stdout",
     "output_type": "stream",
     "text": [
      "0.9956832807066629\n"
     ]
    }
   ],
   "source": [
    "print(f1_score(y_test,y_pred_rf,average='macro'))"
   ]
  },
  {
   "cell_type": "code",
   "execution_count": 112,
   "id": "87fd3da8-dc6a-42f8-9503-c5eb4a9eeb99",
   "metadata": {},
   "outputs": [
    {
     "name": "stdout",
     "output_type": "stream",
     "text": [
      "0.9962264150943396\n"
     ]
    }
   ],
   "source": [
    "print(accuracy_score(y_test,y_pred_rf))"
   ]
  },
  {
   "cell_type": "code",
   "execution_count": 113,
   "id": "e7032e9b-89ef-4f9a-a9c6-6581405bfa29",
   "metadata": {},
   "outputs": [
    {
     "name": "stdout",
     "output_type": "stream",
     "text": [
      "              precision    recall  f1-score   support\n",
      "\n",
      "           0       0.98      1.00      0.99        63\n",
      "           1       1.00      0.99      0.99        99\n",
      "           2       1.00      1.00      1.00       103\n",
      "\n",
      "    accuracy                           1.00       265\n",
      "   macro avg       0.99      1.00      1.00       265\n",
      "weighted avg       1.00      1.00      1.00       265\n",
      "\n"
     ]
    }
   ],
   "source": [
    "print(classification_report(y_test,y_pred_rf))"
   ]
  },
  {
   "cell_type": "code",
   "execution_count": 114,
   "id": "538674f1-b785-4293-a97c-c8391a918fa8",
   "metadata": {},
   "outputs": [],
   "source": [
    "# Accuracy 99.6%"
   ]
  },
  {
   "cell_type": "markdown",
   "id": "a84056e4-fe02-45a9-890d-d6d586cc8b50",
   "metadata": {},
   "source": [
    "# NAIVE BAYES"
   ]
  },
  {
   "cell_type": "raw",
   "id": "d12c9409-1a35-4bdd-808f-5d216ab01840",
   "metadata": {},
   "source": [
    "Gaussian;"
   ]
  },
  {
   "cell_type": "code",
   "execution_count": 115,
   "id": "07b17ac0-1abc-41dc-a6fc-16aee009b10b",
   "metadata": {},
   "outputs": [],
   "source": [
    "from sklearn.naive_bayes import GaussianNB"
   ]
  },
  {
   "cell_type": "code",
   "execution_count": 116,
   "id": "477272b7-6ff3-4d83-a11b-99bb48d3061e",
   "metadata": {},
   "outputs": [],
   "source": [
    "gnb=GaussianNB()"
   ]
  },
  {
   "cell_type": "code",
   "execution_count": 117,
   "id": "4e442554-1850-4b94-a2ad-6e33ba4b2ed7",
   "metadata": {},
   "outputs": [],
   "source": [
    "model1=gnb.fit(x_train,y_train)"
   ]
  },
  {
   "cell_type": "code",
   "execution_count": 118,
   "id": "e61be444-5851-4755-b477-be1d239a5db5",
   "metadata": {},
   "outputs": [],
   "source": [
    "predict1=model1.predict(x_test)"
   ]
  },
  {
   "cell_type": "code",
   "execution_count": 119,
   "id": "a7f9e55f-2db4-4866-8f87-b5a390ad276f",
   "metadata": {},
   "outputs": [
    {
     "data": {
      "text/plain": [
       "array([0, 1, 1, 2, 2, 1, 1, 0, 1, 2, 1, 2, 0, 2, 1, 1, 0, 2, 2, 2, 1, 2,\n",
       "       0, 2, 2, 2, 1, 0, 0, 1, 2, 0, 0, 2, 0, 2, 2, 0, 2, 2, 1, 1, 1, 2,\n",
       "       0, 1, 2, 0, 2, 0, 2, 1, 1, 2, 2, 1, 0, 1, 1, 0, 2, 1, 0, 0, 0, 1,\n",
       "       2, 2, 1, 2, 1, 1, 0, 2, 1, 1, 1, 2, 1, 2, 0, 2, 0, 0, 2, 2, 0, 1,\n",
       "       2, 0, 1, 1, 0, 2, 1, 2, 0, 0, 0, 2, 1, 1, 1, 1, 2, 2, 1, 1, 2, 0,\n",
       "       0, 2, 2, 1, 0, 0, 2, 1, 0, 0, 2, 1, 1, 1, 2, 0, 2, 2, 0, 2, 1, 2,\n",
       "       1, 2, 1, 1, 2, 1, 2, 2, 2, 0, 1, 2, 1, 1, 0, 1, 1, 2, 0, 2, 2, 1,\n",
       "       2, 1, 1, 0, 1, 0, 2, 2, 2, 1, 2, 0, 1, 1, 2, 1, 0, 2, 1, 1, 2, 1,\n",
       "       2, 2, 2, 2, 1, 2, 0, 1, 0, 1, 2, 0, 2, 1, 1, 2, 0, 1, 0, 1, 1, 0,\n",
       "       2, 2, 0, 2, 0, 0, 2, 1, 2, 0, 2, 2, 0, 0, 2, 2, 0, 1, 1, 0, 2, 1,\n",
       "       2, 2, 2, 2, 1, 2, 1, 1, 2, 0, 2, 1, 2, 1, 2, 1, 2, 2, 2, 1, 1, 0,\n",
       "       0, 1, 1, 2, 1, 2, 1, 1, 0, 0, 2, 0, 2, 2, 1, 2, 1, 1, 2, 0, 0, 0,\n",
       "       2])"
      ]
     },
     "execution_count": 119,
     "metadata": {},
     "output_type": "execute_result"
    }
   ],
   "source": [
    "predict1"
   ]
  },
  {
   "cell_type": "raw",
   "id": "db6c981b-347b-46a8-8f9c-3becb1e4fce6",
   "metadata": {},
   "source": [
    "Multinomial;"
   ]
  },
  {
   "cell_type": "code",
   "execution_count": 120,
   "id": "9fbd1b0a-2a1b-4e6c-b6b9-d4f2fd76e49b",
   "metadata": {},
   "outputs": [],
   "source": [
    "from sklearn.naive_bayes import MultinomialNB"
   ]
  },
  {
   "cell_type": "code",
   "execution_count": 121,
   "id": "bcd84fb2-6032-419c-bb1b-f5903d3df12b",
   "metadata": {},
   "outputs": [],
   "source": [
    "mnb=MultinomialNB()"
   ]
  },
  {
   "cell_type": "code",
   "execution_count": 122,
   "id": "b9c489fd-7704-4f2b-ac04-9f43e2993c73",
   "metadata": {},
   "outputs": [],
   "source": [
    "model2=mnb.fit(x_train,y_train)"
   ]
  },
  {
   "cell_type": "code",
   "execution_count": 123,
   "id": "b23e9002-4789-45ca-9874-39c56d264599",
   "metadata": {},
   "outputs": [],
   "source": [
    "predict2=model2.predict(x_test)"
   ]
  },
  {
   "cell_type": "code",
   "execution_count": 124,
   "id": "dc3e4929-b9ff-4a57-a6bc-392657f31b83",
   "metadata": {},
   "outputs": [
    {
     "data": {
      "text/plain": [
       "array([1, 1, 1, 1, 2, 1, 1, 1, 1, 2, 1, 2, 2, 2, 1, 1, 1, 2, 2, 2, 1, 2,\n",
       "       2, 1, 1, 2, 1, 1, 2, 1, 2, 2, 1, 2, 1, 2, 2, 1, 2, 2, 1, 1, 1, 2,\n",
       "       1, 1, 2, 2, 1, 2, 2, 1, 1, 2, 2, 1, 2, 1, 1, 2, 2, 2, 1, 1, 1, 1,\n",
       "       2, 1, 1, 1, 1, 1, 1, 2, 2, 1, 1, 2, 1, 1, 2, 2, 1, 1, 2, 2, 1, 1,\n",
       "       1, 1, 1, 1, 1, 2, 2, 1, 1, 2, 1, 2, 2, 1, 1, 1, 2, 2, 1, 1, 2, 1,\n",
       "       1, 2, 1, 1, 1, 1, 1, 2, 1, 1, 2, 2, 1, 1, 2, 1, 2, 2, 1, 1, 1, 1,\n",
       "       2, 2, 1, 2, 2, 1, 1, 2, 2, 1, 1, 1, 1, 1, 2, 1, 1, 2, 2, 1, 2, 2,\n",
       "       1, 1, 1, 1, 1, 1, 2, 2, 1, 1, 2, 1, 1, 2, 2, 1, 1, 2, 1, 1, 2, 2,\n",
       "       2, 2, 1, 1, 1, 2, 1, 1, 1, 1, 1, 1, 2, 2, 1, 2, 1, 2, 1, 1, 2, 1,\n",
       "       2, 2, 1, 2, 1, 1, 2, 1, 1, 1, 1, 2, 1, 1, 2, 1, 1, 1, 1, 1, 1, 2,\n",
       "       1, 2, 2, 2, 2, 2, 1, 1, 1, 1, 2, 2, 2, 1, 2, 2, 1, 2, 2, 1, 1, 1,\n",
       "       1, 1, 1, 2, 1, 1, 2, 1, 1, 1, 2, 1, 2, 2, 1, 2, 1, 1, 1, 1, 2, 1,\n",
       "       2])"
      ]
     },
     "execution_count": 124,
     "metadata": {},
     "output_type": "execute_result"
    }
   ],
   "source": [
    "predict2"
   ]
  },
  {
   "cell_type": "raw",
   "id": "ae0fc894-b989-4da0-bf4e-3c1aa4bed12c",
   "metadata": {},
   "source": [
    "Bernoulli;"
   ]
  },
  {
   "cell_type": "code",
   "execution_count": 125,
   "id": "d61ea617-cd98-47f8-9a68-1062f80b213d",
   "metadata": {},
   "outputs": [],
   "source": [
    "from sklearn.naive_bayes import BernoulliNB"
   ]
  },
  {
   "cell_type": "code",
   "execution_count": 126,
   "id": "5dad2626-a1c7-4e45-bef7-e735270e0d93",
   "metadata": {},
   "outputs": [],
   "source": [
    "bnb=BernoulliNB()"
   ]
  },
  {
   "cell_type": "code",
   "execution_count": 127,
   "id": "b71b8622-7e97-4976-9a89-a36d2e7598ec",
   "metadata": {},
   "outputs": [],
   "source": [
    "model3=bnb.fit(x_train,y_train)"
   ]
  },
  {
   "cell_type": "code",
   "execution_count": 128,
   "id": "263eabc9-9efc-45d5-8807-4116eaec91b1",
   "metadata": {},
   "outputs": [],
   "source": [
    "predict3=model3.predict(x_test)"
   ]
  },
  {
   "cell_type": "code",
   "execution_count": 129,
   "id": "d8365e29-2cdb-4052-b45a-c49d8858afd3",
   "metadata": {},
   "outputs": [
    {
     "data": {
      "text/plain": [
       "array([1, 0, 1, 1, 2, 1, 1, 0, 0, 2, 1, 2, 2, 2, 1, 1, 0, 2, 2, 2, 0, 2,\n",
       "       2, 2, 2, 2, 1, 0, 2, 0, 2, 2, 0, 2, 0, 2, 2, 0, 2, 2, 0, 1, 0, 2,\n",
       "       0, 0, 2, 2, 2, 2, 2, 1, 0, 2, 2, 1, 2, 1, 2, 2, 2, 2, 1, 0, 0, 0,\n",
       "       2, 1, 0, 1, 1, 1, 0, 2, 1, 1, 1, 2, 0, 1, 2, 2, 0, 0, 2, 2, 0, 0,\n",
       "       2, 0, 0, 1, 0, 2, 2, 1, 0, 2, 0, 2, 2, 1, 1, 1, 2, 2, 1, 1, 2, 0,\n",
       "       0, 2, 2, 1, 0, 0, 2, 2, 0, 0, 2, 2, 1, 1, 2, 0, 2, 2, 0, 2, 2, 2,\n",
       "       2, 2, 1, 2, 2, 1, 2, 2, 2, 0, 1, 2, 1, 1, 2, 1, 0, 2, 2, 2, 2, 1,\n",
       "       2, 0, 1, 0, 1, 0, 2, 2, 2, 0, 2, 0, 1, 2, 2, 1, 0, 2, 1, 1, 2, 2,\n",
       "       2, 2, 2, 1, 0, 2, 0, 0, 0, 2, 2, 0, 2, 1, 1, 2, 0, 1, 0, 0, 1, 1,\n",
       "       2, 2, 0, 2, 0, 0, 2, 1, 1, 0, 1, 2, 0, 0, 2, 1, 0, 1, 1, 0, 2, 2,\n",
       "       2, 2, 2, 2, 1, 2, 1, 0, 2, 0, 2, 2, 2, 0, 2, 2, 2, 2, 2, 1, 1, 0,\n",
       "       0, 1, 0, 2, 1, 2, 2, 1, 0, 0, 2, 0, 2, 2, 1, 2, 1, 0, 2, 0, 2, 0,\n",
       "       2])"
      ]
     },
     "execution_count": 129,
     "metadata": {},
     "output_type": "execute_result"
    }
   ],
   "source": [
    "predict3"
   ]
  },
  {
   "cell_type": "code",
   "execution_count": 130,
   "id": "3888ed84-58a5-4d60-8481-54f44d2d70e7",
   "metadata": {},
   "outputs": [],
   "source": [
    "from sklearn.metrics import confusion_matrix,precision_score,recall_score,f1_score,accuracy_score,classification_report"
   ]
  },
  {
   "cell_type": "code",
   "execution_count": 131,
   "id": "ac765910-9a33-4647-8a4e-131231ad4949",
   "metadata": {},
   "outputs": [
    {
     "name": "stdout",
     "output_type": "stream",
     "text": [
      "0.9132075471698113\n",
      "0.5509433962264151\n",
      "0.6981132075471698\n"
     ]
    }
   ],
   "source": [
    "acc_score1=accuracy_score(y_test,predict1)\n",
    "acc_score2=accuracy_score(y_test,predict2)\n",
    "acc_score3=accuracy_score(y_test,predict3)\n",
    "print(acc_score1)\n",
    "print(acc_score2)\n",
    "print(acc_score3)"
   ]
  },
  {
   "cell_type": "code",
   "execution_count": 132,
   "id": "32bd765f-e6ca-4fd3-9c99-e8c16d5da6bc",
   "metadata": {},
   "outputs": [],
   "source": [
    "# Accuracy score of Gaussian 91%"
   ]
  },
  {
   "cell_type": "markdown",
   "id": "4d4f8240-42e2-4686-a54a-b2bcbe76c48d",
   "metadata": {},
   "source": [
    "# Ada Boost"
   ]
  },
  {
   "cell_type": "code",
   "execution_count": 133,
   "id": "b161bf99-6865-4a9c-ab43-3d139dbe513f",
   "metadata": {},
   "outputs": [],
   "source": [
    "from sklearn.ensemble import AdaBoostClassifier"
   ]
  },
  {
   "cell_type": "code",
   "execution_count": 134,
   "id": "0ddae68d-5d3f-444a-8c7a-7e201ef6d0b6",
   "metadata": {},
   "outputs": [
    {
     "data": {
      "text/plain": [
       "array([0, 1, 1, 2, 2, 1, 1, 0, 1, 2, 1, 2, 2, 2, 1, 1, 0, 2, 2, 2, 1, 2,\n",
       "       2, 2, 2, 2, 1, 0, 1, 1, 2, 2, 0, 2, 0, 2, 2, 0, 2, 2, 1, 1, 1, 2,\n",
       "       0, 1, 0, 2, 2, 2, 2, 1, 1, 2, 2, 1, 2, 1, 1, 2, 2, 1, 0, 0, 0, 1,\n",
       "       2, 2, 1, 2, 1, 1, 0, 2, 1, 1, 1, 2, 1, 2, 2, 2, 0, 0, 2, 2, 0, 1,\n",
       "       2, 0, 1, 1, 0, 2, 1, 2, 0, 2, 1, 2, 1, 1, 1, 1, 2, 2, 1, 1, 2, 0,\n",
       "       0, 2, 2, 1, 0, 1, 2, 1, 1, 0, 2, 1, 1, 1, 2, 0, 2, 2, 0, 2, 1, 2,\n",
       "       1, 2, 1, 1, 2, 1, 2, 2, 2, 0, 1, 2, 1, 1, 2, 1, 1, 2, 2, 2, 2, 1,\n",
       "       2, 1, 1, 0, 1, 0, 2, 2, 2, 1, 2, 0, 1, 1, 2, 1, 0, 0, 1, 1, 0, 1,\n",
       "       2, 2, 2, 2, 1, 2, 0, 1, 0, 1, 2, 0, 2, 1, 1, 2, 0, 1, 0, 1, 1, 0,\n",
       "       2, 2, 0, 2, 0, 0, 2, 1, 2, 0, 2, 2, 0, 0, 2, 2, 0, 1, 1, 0, 2, 1,\n",
       "       2, 2, 2, 2, 1, 0, 1, 1, 2, 0, 0, 1, 2, 1, 2, 1, 2, 1, 2, 1, 1, 0,\n",
       "       0, 1, 1, 0, 1, 2, 1, 1, 1, 0, 2, 0, 2, 2, 1, 2, 1, 1, 2, 0, 2, 0,\n",
       "       2])"
      ]
     },
     "execution_count": 134,
     "metadata": {},
     "output_type": "execute_result"
    }
   ],
   "source": [
    "model_ada= AdaBoostClassifier()\n",
    "model_ada.fit(x_train,y_train)\n",
    "pred_ada= model_ada.predict(x_test)\n",
    "pred_ada"
   ]
  },
  {
   "cell_type": "code",
   "execution_count": 135,
   "id": "2c577b09-36a1-4cdb-8844-693db9004a3b",
   "metadata": {},
   "outputs": [],
   "source": [
    "from sklearn.metrics import confusion_matrix,precision_score,recall_score,f1_score,accuracy_score,classification_report"
   ]
  },
  {
   "cell_type": "code",
   "execution_count": 136,
   "id": "98c5ea26-5fc2-4619-8724-1199c7c067d9",
   "metadata": {},
   "outputs": [
    {
     "name": "stdout",
     "output_type": "stream",
     "text": [
      "[[51  0 12]\n",
      " [ 0 99  0]\n",
      " [ 5  0 98]]\n"
     ]
    }
   ],
   "source": [
    "print(confusion_matrix(y_test,pred_ada))"
   ]
  },
  {
   "cell_type": "code",
   "execution_count": 137,
   "id": "92e4ec05-25d1-4e7d-9e0d-3b72dc7466ab",
   "metadata": {},
   "outputs": [
    {
     "name": "stdout",
     "output_type": "stream",
     "text": [
      "0.9338744588744587\n"
     ]
    }
   ],
   "source": [
    "print(precision_score(y_test,pred_ada,average='macro'))"
   ]
  },
  {
   "cell_type": "code",
   "execution_count": 138,
   "id": "cd7fa6fc-2868-4815-82c9-b947e3761d5d",
   "metadata": {},
   "outputs": [
    {
     "name": "stdout",
     "output_type": "stream",
     "text": [
      "0.9203267067344738\n"
     ]
    }
   ],
   "source": [
    "print(recall_score(y_test,pred_ada,average='macro'))"
   ]
  },
  {
   "cell_type": "code",
   "execution_count": 139,
   "id": "143e9286-f4b4-4472-b33a-d22d86a0c01c",
   "metadata": {},
   "outputs": [
    {
     "name": "stdout",
     "output_type": "stream",
     "text": [
      "0.9257768835233624\n"
     ]
    }
   ],
   "source": [
    "print(f1_score(y_test,pred_ada,average='macro'))"
   ]
  },
  {
   "cell_type": "code",
   "execution_count": 140,
   "id": "2d7250e3-914e-44b6-8d96-79fce181ed64",
   "metadata": {},
   "outputs": [
    {
     "name": "stdout",
     "output_type": "stream",
     "text": [
      "0.9358490566037736\n"
     ]
    }
   ],
   "source": [
    "print(accuracy_score(y_test,pred_ada))"
   ]
  },
  {
   "cell_type": "code",
   "execution_count": 141,
   "id": "d7d063df-3037-4002-912d-06a2e702db0a",
   "metadata": {},
   "outputs": [
    {
     "name": "stdout",
     "output_type": "stream",
     "text": [
      "              precision    recall  f1-score   support\n",
      "\n",
      "           0       0.91      0.81      0.86        63\n",
      "           1       1.00      1.00      1.00        99\n",
      "           2       0.89      0.95      0.92       103\n",
      "\n",
      "    accuracy                           0.94       265\n",
      "   macro avg       0.93      0.92      0.93       265\n",
      "weighted avg       0.94      0.94      0.94       265\n",
      "\n"
     ]
    }
   ],
   "source": [
    "print(classification_report(y_test,pred_ada))"
   ]
  },
  {
   "cell_type": "code",
   "execution_count": 142,
   "id": "5512b0b1-49c2-4769-9fc6-32c04da730c9",
   "metadata": {},
   "outputs": [],
   "source": [
    "# Accuracy 93%"
   ]
  },
  {
   "cell_type": "markdown",
   "id": "14b6eaea-1a1e-4138-a8f7-769501994e86",
   "metadata": {},
   "source": [
    "# Gradient Boosting"
   ]
  },
  {
   "cell_type": "code",
   "execution_count": 143,
   "id": "73d8cc47-f325-4dac-8b04-d207d0132623",
   "metadata": {},
   "outputs": [
    {
     "data": {
      "text/plain": [
       "array([0, 1, 1, 2, 2, 1, 1, 0, 1, 2, 1, 2, 0, 2, 1, 1, 0, 2, 2, 2, 1, 2,\n",
       "       0, 2, 2, 2, 0, 0, 1, 1, 2, 0, 0, 2, 0, 2, 2, 0, 2, 2, 1, 1, 1, 2,\n",
       "       0, 1, 0, 0, 2, 0, 2, 1, 1, 2, 2, 1, 0, 1, 1, 2, 2, 1, 0, 0, 0, 1,\n",
       "       2, 2, 1, 2, 1, 1, 0, 2, 1, 1, 1, 2, 1, 2, 2, 2, 0, 0, 2, 2, 2, 1,\n",
       "       2, 0, 1, 1, 0, 2, 1, 2, 0, 0, 1, 0, 1, 1, 1, 1, 2, 2, 1, 1, 2, 0,\n",
       "       0, 2, 2, 1, 0, 1, 2, 1, 1, 0, 2, 1, 1, 1, 2, 2, 2, 2, 0, 2, 1, 2,\n",
       "       1, 2, 1, 1, 2, 1, 2, 2, 2, 0, 1, 2, 1, 1, 0, 1, 1, 2, 2, 2, 2, 1,\n",
       "       2, 1, 1, 0, 1, 0, 2, 2, 2, 1, 2, 0, 1, 1, 2, 1, 2, 0, 1, 1, 0, 1,\n",
       "       2, 2, 2, 2, 1, 2, 0, 1, 0, 1, 2, 0, 2, 1, 1, 2, 2, 1, 0, 1, 1, 0,\n",
       "       2, 2, 2, 2, 0, 0, 2, 1, 2, 2, 2, 2, 2, 0, 2, 2, 0, 1, 1, 0, 2, 1,\n",
       "       2, 2, 0, 0, 1, 0, 1, 1, 2, 0, 0, 1, 2, 1, 2, 1, 2, 1, 2, 1, 1, 0,\n",
       "       0, 1, 1, 0, 1, 2, 1, 1, 1, 0, 2, 0, 2, 2, 1, 2, 1, 1, 2, 0, 0, 0,\n",
       "       2])"
      ]
     },
     "execution_count": 143,
     "metadata": {},
     "output_type": "execute_result"
    }
   ],
   "source": [
    "from sklearn.ensemble import GradientBoostingClassifier\n",
    "model_gra= GradientBoostingClassifier()\n",
    "model_gra.fit(x_train,y_train)\n",
    "pred_gra = model_gra.predict(x_test)\n",
    "pred_gra"
   ]
  },
  {
   "cell_type": "code",
   "execution_count": 144,
   "id": "bc6412fc-2716-4e43-9117-a6b31630f5a0",
   "metadata": {},
   "outputs": [],
   "source": [
    "from sklearn.metrics import confusion_matrix,precision_score,recall_score,f1_score,accuracy_score,classification_report"
   ]
  },
  {
   "cell_type": "code",
   "execution_count": 145,
   "id": "fb71d4e4-71ec-45ff-a94c-9f9e616f0fac",
   "metadata": {},
   "outputs": [
    {
     "name": "stdout",
     "output_type": "stream",
     "text": [
      "[[ 61   0   2]\n",
      " [  1  98   0]\n",
      " [  0   0 103]]\n"
     ]
    }
   ],
   "source": [
    "print(confusion_matrix(y_test,pred_gra))"
   ]
  },
  {
   "cell_type": "code",
   "execution_count": 146,
   "id": "b41e13b2-576c-45ae-b5d7-161dbbf3af30",
   "metadata": {},
   "outputs": [
    {
     "name": "stdout",
     "output_type": "stream",
     "text": [
      "0.9882744495647722\n"
     ]
    }
   ],
   "source": [
    "print(precision_score(y_test,pred_gra,average='macro'))"
   ]
  },
  {
   "cell_type": "code",
   "execution_count": 147,
   "id": "c1b0b782-2660-4836-9804-5f0ce735e345",
   "metadata": {},
   "outputs": [
    {
     "name": "stdout",
     "output_type": "stream",
     "text": [
      "0.9886792452830189\n"
     ]
    }
   ],
   "source": [
    "print(accuracy_score(y_test,pred_gra))"
   ]
  },
  {
   "cell_type": "code",
   "execution_count": 148,
   "id": "07d4cb9d-c0f7-417c-9fb0-f8affddb8ef7",
   "metadata": {},
   "outputs": [
    {
     "name": "stdout",
     "output_type": "stream",
     "text": [
      "              precision    recall  f1-score   support\n",
      "\n",
      "           0       0.98      0.97      0.98        63\n",
      "           1       1.00      0.99      0.99        99\n",
      "           2       0.98      1.00      0.99       103\n",
      "\n",
      "    accuracy                           0.99       265\n",
      "   macro avg       0.99      0.99      0.99       265\n",
      "weighted avg       0.99      0.99      0.99       265\n",
      "\n"
     ]
    }
   ],
   "source": [
    "print(classification_report(y_test,pred_gra))"
   ]
  },
  {
   "cell_type": "code",
   "execution_count": 149,
   "id": "b5d1a20d-a488-4db8-8eca-feb26b654c84",
   "metadata": {},
   "outputs": [],
   "source": [
    "# Accuracy 98%"
   ]
  },
  {
   "cell_type": "markdown",
   "id": "59557636-c248-4955-9a00-672d0220687e",
   "metadata": {},
   "source": [
    "# XG Boost"
   ]
  },
  {
   "cell_type": "code",
   "execution_count": 150,
   "id": "2a66ea39-753f-468b-b142-fb5b54af038a",
   "metadata": {},
   "outputs": [
    {
     "name": "stdout",
     "output_type": "stream",
     "text": [
      "Requirement already satisfied: xgboost in c:\\users\\asus\\anaconda3\\lib\\site-packages (2.1.1)\n",
      "Requirement already satisfied: numpy in c:\\users\\asus\\anaconda3\\lib\\site-packages (from xgboost) (1.26.4)\n",
      "Requirement already satisfied: scipy in c:\\users\\asus\\anaconda3\\lib\\site-packages (from xgboost) (1.11.4)\n",
      "Note: you may need to restart the kernel to use updated packages.\n"
     ]
    }
   ],
   "source": [
    "pip install xgboost"
   ]
  },
  {
   "cell_type": "code",
   "execution_count": 151,
   "id": "12108d8f-117e-4120-b12d-b6b7829d3e2a",
   "metadata": {},
   "outputs": [
    {
     "data": {
      "text/plain": [
       "array([0, 1, 1, 2, 2, 1, 1, 0, 1, 2, 1, 2, 0, 2, 1, 1, 0, 2, 2, 2, 1, 2,\n",
       "       0, 2, 2, 2, 1, 0, 1, 1, 2, 0, 0, 2, 0, 2, 2, 0, 2, 2, 1, 1, 1, 2,\n",
       "       0, 1, 0, 0, 2, 0, 2, 1, 1, 2, 2, 1, 0, 1, 1, 2, 2, 1, 0, 0, 0, 1,\n",
       "       2, 2, 1, 2, 1, 1, 0, 2, 1, 1, 1, 2, 1, 2, 2, 2, 0, 0, 2, 2, 2, 1,\n",
       "       2, 0, 1, 1, 0, 2, 1, 2, 0, 0, 1, 0, 1, 1, 1, 1, 2, 2, 1, 1, 2, 0,\n",
       "       0, 2, 2, 1, 0, 1, 2, 1, 1, 0, 2, 1, 1, 1, 2, 0, 2, 2, 0, 2, 1, 2,\n",
       "       1, 2, 1, 1, 2, 1, 2, 2, 2, 0, 1, 2, 1, 1, 0, 1, 1, 2, 2, 2, 2, 1,\n",
       "       2, 1, 1, 0, 1, 0, 2, 2, 2, 1, 2, 0, 1, 1, 2, 1, 2, 0, 1, 1, 0, 1,\n",
       "       2, 2, 2, 2, 1, 2, 0, 1, 0, 1, 2, 0, 2, 1, 1, 2, 2, 1, 0, 1, 1, 0,\n",
       "       2, 2, 2, 2, 0, 0, 2, 1, 2, 2, 2, 2, 0, 0, 2, 2, 0, 1, 1, 0, 2, 1,\n",
       "       2, 2, 0, 0, 1, 0, 1, 1, 2, 0, 0, 1, 2, 1, 2, 1, 2, 1, 2, 1, 1, 0,\n",
       "       0, 1, 1, 0, 1, 2, 1, 1, 1, 0, 2, 0, 2, 2, 1, 2, 1, 1, 2, 0, 0, 0,\n",
       "       2], dtype=int64)"
      ]
     },
     "execution_count": 151,
     "metadata": {},
     "output_type": "execute_result"
    }
   ],
   "source": [
    "from xgboost import XGBClassifier\n",
    "model_xgb = XGBClassifier()\n",
    "model_xgb.fit(x_train,y_train)\n",
    "pred_xgb = model_xgb.predict(x_test)\n",
    "pred_xgb"
   ]
  },
  {
   "cell_type": "code",
   "execution_count": 152,
   "id": "86289fec-3046-4677-983d-3c1ce98dc713",
   "metadata": {},
   "outputs": [],
   "source": [
    "from sklearn.metrics import confusion_matrix,precision_score,recall_score,f1_score,accuracy_score,classification_report"
   ]
  },
  {
   "cell_type": "code",
   "execution_count": 153,
   "id": "959e22ae-c8b8-47b8-8749-9485b8d936ca",
   "metadata": {},
   "outputs": [
    {
     "name": "stdout",
     "output_type": "stream",
     "text": [
      "[[ 63   0   0]\n",
      " [  0  99   0]\n",
      " [  0   0 103]]\n"
     ]
    }
   ],
   "source": [
    "print(confusion_matrix(y_test,pred_xgb))"
   ]
  },
  {
   "cell_type": "code",
   "execution_count": 154,
   "id": "f5836d80-d3d4-47d2-863a-0a9f465114a7",
   "metadata": {},
   "outputs": [
    {
     "name": "stdout",
     "output_type": "stream",
     "text": [
      "1.0\n"
     ]
    }
   ],
   "source": [
    "print(precision_score(y_test,pred_xgb,average='macro'))"
   ]
  },
  {
   "cell_type": "code",
   "execution_count": 155,
   "id": "49e288bd-aac1-4f9e-9550-485d4a018823",
   "metadata": {},
   "outputs": [
    {
     "name": "stdout",
     "output_type": "stream",
     "text": [
      "1.0\n"
     ]
    }
   ],
   "source": [
    "print(recall_score(y_test,pred_xgb,average='macro'))"
   ]
  },
  {
   "cell_type": "code",
   "execution_count": 156,
   "id": "66d4fa66-3726-4c61-8462-e31078f8a3c0",
   "metadata": {},
   "outputs": [
    {
     "name": "stdout",
     "output_type": "stream",
     "text": [
      "1.0\n"
     ]
    }
   ],
   "source": [
    "print(f1_score(y_test,pred_xgb,average='macro'))"
   ]
  },
  {
   "cell_type": "code",
   "execution_count": 157,
   "id": "e06c4104-ba3c-44f8-83e0-5b7da2754ea9",
   "metadata": {},
   "outputs": [
    {
     "name": "stdout",
     "output_type": "stream",
     "text": [
      "1.0\n"
     ]
    }
   ],
   "source": [
    "print(accuracy_score(y_test,pred_xgb))"
   ]
  },
  {
   "cell_type": "code",
   "execution_count": 158,
   "id": "5041349f-b1ba-4da9-bf77-e306abb9e9c0",
   "metadata": {},
   "outputs": [
    {
     "name": "stdout",
     "output_type": "stream",
     "text": [
      "              precision    recall  f1-score   support\n",
      "\n",
      "           0       1.00      1.00      1.00        63\n",
      "           1       1.00      1.00      1.00        99\n",
      "           2       1.00      1.00      1.00       103\n",
      "\n",
      "    accuracy                           1.00       265\n",
      "   macro avg       1.00      1.00      1.00       265\n",
      "weighted avg       1.00      1.00      1.00       265\n",
      "\n"
     ]
    }
   ],
   "source": [
    "print(classification_report(y_test,pred_xgb))"
   ]
  },
  {
   "cell_type": "code",
   "execution_count": 159,
   "id": "2e64674b-bade-4600-90be-8abeaac52944",
   "metadata": {},
   "outputs": [],
   "source": [
    "# Accuracy 100%"
   ]
  },
  {
   "cell_type": "code",
   "execution_count": 160,
   "id": "e8baf92c-e111-44bc-bb29-f664cf72fbb7",
   "metadata": {},
   "outputs": [
    {
     "data": {
      "text/html": [
       "<div>\n",
       "<style scoped>\n",
       "    .dataframe tbody tr th:only-of-type {\n",
       "        vertical-align: middle;\n",
       "    }\n",
       "\n",
       "    .dataframe tbody tr th {\n",
       "        vertical-align: top;\n",
       "    }\n",
       "\n",
       "    .dataframe thead th {\n",
       "        text-align: right;\n",
       "    }\n",
       "</style>\n",
       "<table border=\"1\" class=\"dataframe\">\n",
       "  <thead>\n",
       "    <tr style=\"text-align: right;\">\n",
       "      <th></th>\n",
       "      <th>pH</th>\n",
       "      <th>Temprature</th>\n",
       "      <th>Taste</th>\n",
       "      <th>Odor</th>\n",
       "      <th>Fat</th>\n",
       "      <th>Turbidity</th>\n",
       "      <th>Colour</th>\n",
       "    </tr>\n",
       "  </thead>\n",
       "  <tbody>\n",
       "    <tr>\n",
       "      <th>497</th>\n",
       "      <td>0.846154</td>\n",
       "      <td>0.642857</td>\n",
       "      <td>0.0</td>\n",
       "      <td>0.0</td>\n",
       "      <td>0.0</td>\n",
       "      <td>0.0</td>\n",
       "      <td>0.400000</td>\n",
       "    </tr>\n",
       "    <tr>\n",
       "      <th>867</th>\n",
       "      <td>0.584615</td>\n",
       "      <td>0.196429</td>\n",
       "      <td>1.0</td>\n",
       "      <td>1.0</td>\n",
       "      <td>1.0</td>\n",
       "      <td>0.0</td>\n",
       "      <td>0.333333</td>\n",
       "    </tr>\n",
       "    <tr>\n",
       "      <th>137</th>\n",
       "      <td>0.553846</td>\n",
       "      <td>0.053571</td>\n",
       "      <td>1.0</td>\n",
       "      <td>0.0</td>\n",
       "      <td>1.0</td>\n",
       "      <td>0.0</td>\n",
       "      <td>1.000000</td>\n",
       "    </tr>\n",
       "    <tr>\n",
       "      <th>635</th>\n",
       "      <td>0.538462</td>\n",
       "      <td>0.071429</td>\n",
       "      <td>1.0</td>\n",
       "      <td>0.0</td>\n",
       "      <td>0.0</td>\n",
       "      <td>0.0</td>\n",
       "      <td>1.000000</td>\n",
       "    </tr>\n",
       "    <tr>\n",
       "      <th>819</th>\n",
       "      <td>0.538462</td>\n",
       "      <td>0.071429</td>\n",
       "      <td>1.0</td>\n",
       "      <td>0.0</td>\n",
       "      <td>1.0</td>\n",
       "      <td>0.0</td>\n",
       "      <td>1.000000</td>\n",
       "    </tr>\n",
       "  </tbody>\n",
       "</table>\n",
       "</div>"
      ],
      "text/plain": [
       "           pH  Temprature  Taste  Odor  Fat   Turbidity    Colour\n",
       "497  0.846154    0.642857    0.0   0.0   0.0        0.0  0.400000\n",
       "867  0.584615    0.196429    1.0   1.0   1.0        0.0  0.333333\n",
       "137  0.553846    0.053571    1.0   0.0   1.0        0.0  1.000000\n",
       "635  0.538462    0.071429    1.0   0.0   0.0        0.0  1.000000\n",
       "819  0.538462    0.071429    1.0   0.0   1.0        0.0  1.000000"
      ]
     },
     "execution_count": 160,
     "metadata": {},
     "output_type": "execute_result"
    }
   ],
   "source": [
    "x_train.head()"
   ]
  },
  {
   "cell_type": "code",
   "execution_count": 161,
   "id": "e208665c-1924-403e-9921-de9878217ebd",
   "metadata": {},
   "outputs": [
    {
     "data": {
      "text/plain": [
       "497    1\n",
       "867    0\n",
       "137    0\n",
       "635    2\n",
       "819    2\n",
       "Name: Grade, dtype: int32"
      ]
     },
     "execution_count": 161,
     "metadata": {},
     "output_type": "execute_result"
    }
   ],
   "source": [
    "y_train.head()"
   ]
  },
  {
   "cell_type": "code",
   "execution_count": 171,
   "id": "829247d0-803e-4c55-806c-307b25291355",
   "metadata": {},
   "outputs": [
    {
     "data": {
      "text/plain": [
       "array([1], dtype=int64)"
      ]
     },
     "execution_count": 171,
     "metadata": {},
     "output_type": "execute_result"
    }
   ],
   "source": [
    "model_xgb.predict([[0.846154,\t0.642857,\t0.0,\t0.0\t,0.0,\t0.0,\t0.400000]])"
   ]
  },
  {
   "cell_type": "code",
   "execution_count": 172,
   "id": "be4d6ef3-824d-4ae4-90e1-12f886c2b107",
   "metadata": {},
   "outputs": [
    {
     "data": {
      "text/plain": [
       "array([2], dtype=int64)"
      ]
     },
     "execution_count": 172,
     "metadata": {},
     "output_type": "execute_result"
    }
   ],
   "source": [
    "model_xgb.predict([[0.584615,\t0.196429,\t1.0\t,1.0,\t1.0,\t0.0\t,0.333333]])"
   ]
  },
  {
   "cell_type": "markdown",
   "id": "9d75dc04-dce2-47cd-938d-9fc130d188ed",
   "metadata": {},
   "source": [
    "# Performance Analysis"
   ]
  },
  {
   "cell_type": "code",
   "execution_count": 162,
   "id": "1dbece94-091d-450d-b0c3-521ed2a0257e",
   "metadata": {},
   "outputs": [],
   "source": [
    "lg_scorde  =78 # Logistic Regression\n",
    "knn_scorde=99 # k nearest\n",
    "svm_scorde =85 # support vector\n",
    "dt_scorde  =99 # random forest\n",
    "rf_scorde  =99.6 # decision tree\n",
    "nb_scorde  =91 # naive bayes using Gaussian\n",
    "xgb_scorde=100 # boosting"
   ]
  },
  {
   "cell_type": "code",
   "execution_count": 163,
   "id": "b26f61f5-ae8e-4d60-83d5-3be66b760e2b",
   "metadata": {},
   "outputs": [
    {
     "data": {
      "image/png": "[encoded data removed]",
      "text/plain": [
       "<Figure size 1000x500 with 1 Axes>"
      ]
     },
     "metadata": {},
     "output_type": "display_data"
    }
   ],
   "source": [
    "algorithms = ['Logistic Regression','KNN' ,'SVM','DT','RF','Naive Bayes','XGB']\n",
    "scores = [lg_scorde,knn_scorde,svm_scorde,dt_scorde,rf_scorde,nb_scorde,xgb_scorde]\n",
    "\n",
    "# Plotting the bar graph \n",
    "plt.figure(figsize=(10, 5))\n",
    "plt.bar(algorithms, scores, color=['yellow', 'green', 'blue', 'cyan', 'magenta','orange','red'])\n",
    "plt.xlabel(\"Algorithms\")\n",
    "plt.ylabel(\"Accuracy\")\n",
    "plt.title(\"Performance Analysis of Different Classification Algorithms\")\n",
    "plt.ylim(0, max(scores) + 1) \n",
    "plt.grid(axis='y',alpha=0.5)\n",
    "plt.show()"
   ]
  },
  {
   "cell_type": "raw",
   "id": "da1cd13c-4508-4afb-91d4-1085576bce99",
   "metadata": {},
   "source": [
    "The model with the highest accuracy score is XGB with an accuracy of 100"
   ]
  },
  {
   "cell_type": "markdown",
   "id": "b6aee45b-beff-42d6-9e05-3691bb892a57",
   "metadata": {},
   "source": [
    "# Prediction"
   ]
  },
  {
   "cell_type": "code",
   "execution_count": 164,
   "id": "a3d62058-0870-4edc-bb73-1de34e79c0a9",
   "metadata": {},
   "outputs": [
    {
     "data": {
      "text/html": [
       "<div>\n",
       "<style scoped>\n",
       "    .dataframe tbody tr th:only-of-type {\n",
       "        vertical-align: middle;\n",
       "    }\n",
       "\n",
       "    .dataframe tbody tr th {\n",
       "        vertical-align: top;\n",
       "    }\n",
       "\n",
       "    .dataframe thead th {\n",
       "        text-align: right;\n",
       "    }\n",
       "</style>\n",
       "<table border=\"1\" class=\"dataframe\">\n",
       "  <thead>\n",
       "    <tr style=\"text-align: right;\">\n",
       "      <th></th>\n",
       "      <th>pH</th>\n",
       "      <th>Temprature</th>\n",
       "      <th>Taste</th>\n",
       "      <th>Odor</th>\n",
       "      <th>Fat</th>\n",
       "      <th>Turbidity</th>\n",
       "      <th>Colour</th>\n",
       "      <th>Grade</th>\n",
       "    </tr>\n",
       "  </thead>\n",
       "  <tbody>\n",
       "    <tr>\n",
       "      <th>0</th>\n",
       "      <td>6.6</td>\n",
       "      <td>35</td>\n",
       "      <td>1</td>\n",
       "      <td>0</td>\n",
       "      <td>1</td>\n",
       "      <td>0</td>\n",
       "      <td>254</td>\n",
       "      <td>0</td>\n",
       "    </tr>\n",
       "    <tr>\n",
       "      <th>1</th>\n",
       "      <td>6.6</td>\n",
       "      <td>36</td>\n",
       "      <td>0</td>\n",
       "      <td>1</td>\n",
       "      <td>0</td>\n",
       "      <td>1</td>\n",
       "      <td>253</td>\n",
       "      <td>0</td>\n",
       "    </tr>\n",
       "    <tr>\n",
       "      <th>2</th>\n",
       "      <td>8.5</td>\n",
       "      <td>70</td>\n",
       "      <td>1</td>\n",
       "      <td>1</td>\n",
       "      <td>1</td>\n",
       "      <td>1</td>\n",
       "      <td>246</td>\n",
       "      <td>1</td>\n",
       "    </tr>\n",
       "    <tr>\n",
       "      <th>3</th>\n",
       "      <td>9.5</td>\n",
       "      <td>34</td>\n",
       "      <td>1</td>\n",
       "      <td>1</td>\n",
       "      <td>0</td>\n",
       "      <td>1</td>\n",
       "      <td>255</td>\n",
       "      <td>1</td>\n",
       "    </tr>\n",
       "    <tr>\n",
       "      <th>4</th>\n",
       "      <td>6.6</td>\n",
       "      <td>37</td>\n",
       "      <td>0</td>\n",
       "      <td>0</td>\n",
       "      <td>0</td>\n",
       "      <td>0</td>\n",
       "      <td>255</td>\n",
       "      <td>2</td>\n",
       "    </tr>\n",
       "  </tbody>\n",
       "</table>\n",
       "</div>"
      ],
      "text/plain": [
       "    pH  Temprature  Taste  Odor  Fat   Turbidity  Colour  Grade\n",
       "0  6.6          35      1     0     1          0     254      0\n",
       "1  6.6          36      0     1     0          1     253      0\n",
       "2  8.5          70      1     1     1          1     246      1\n",
       "3  9.5          34      1     1     0          1     255      1\n",
       "4  6.6          37      0     0     0          0     255      2"
      ]
     },
     "execution_count": 164,
     "metadata": {},
     "output_type": "execute_result"
    }
   ],
   "source": [
    "df.head()"
   ]
  },
  {
   "cell_type": "code",
   "execution_count": 165,
   "id": "b39c4918-8232-4cfb-891a-872ceeaf79c8",
   "metadata": {},
   "outputs": [
    {
     "data": {
      "text/html": [
       "<div>\n",
       "<style scoped>\n",
       "    .dataframe tbody tr th:only-of-type {\n",
       "        vertical-align: middle;\n",
       "    }\n",
       "\n",
       "    .dataframe tbody tr th {\n",
       "        vertical-align: top;\n",
       "    }\n",
       "\n",
       "    .dataframe thead th {\n",
       "        text-align: right;\n",
       "    }\n",
       "</style>\n",
       "<table border=\"1\" class=\"dataframe\">\n",
       "  <thead>\n",
       "    <tr style=\"text-align: right;\">\n",
       "      <th></th>\n",
       "      <th>pH</th>\n",
       "      <th>Temprature</th>\n",
       "      <th>Taste</th>\n",
       "      <th>Odor</th>\n",
       "      <th>Fat</th>\n",
       "      <th>Turbidity</th>\n",
       "      <th>Colour</th>\n",
       "    </tr>\n",
       "  </thead>\n",
       "  <tbody>\n",
       "    <tr>\n",
       "      <th>497</th>\n",
       "      <td>0.846154</td>\n",
       "      <td>0.642857</td>\n",
       "      <td>0.0</td>\n",
       "      <td>0.0</td>\n",
       "      <td>0.0</td>\n",
       "      <td>0.0</td>\n",
       "      <td>0.400000</td>\n",
       "    </tr>\n",
       "    <tr>\n",
       "      <th>867</th>\n",
       "      <td>0.584615</td>\n",
       "      <td>0.196429</td>\n",
       "      <td>1.0</td>\n",
       "      <td>1.0</td>\n",
       "      <td>1.0</td>\n",
       "      <td>0.0</td>\n",
       "      <td>0.333333</td>\n",
       "    </tr>\n",
       "    <tr>\n",
       "      <th>137</th>\n",
       "      <td>0.553846</td>\n",
       "      <td>0.053571</td>\n",
       "      <td>1.0</td>\n",
       "      <td>0.0</td>\n",
       "      <td>1.0</td>\n",
       "      <td>0.0</td>\n",
       "      <td>1.000000</td>\n",
       "    </tr>\n",
       "    <tr>\n",
       "      <th>635</th>\n",
       "      <td>0.538462</td>\n",
       "      <td>0.071429</td>\n",
       "      <td>1.0</td>\n",
       "      <td>0.0</td>\n",
       "      <td>0.0</td>\n",
       "      <td>0.0</td>\n",
       "      <td>1.000000</td>\n",
       "    </tr>\n",
       "    <tr>\n",
       "      <th>819</th>\n",
       "      <td>0.538462</td>\n",
       "      <td>0.071429</td>\n",
       "      <td>1.0</td>\n",
       "      <td>0.0</td>\n",
       "      <td>1.0</td>\n",
       "      <td>0.0</td>\n",
       "      <td>1.000000</td>\n",
       "    </tr>\n",
       "  </tbody>\n",
       "</table>\n",
       "</div>"
      ],
      "text/plain": [
       "           pH  Temprature  Taste  Odor  Fat   Turbidity    Colour\n",
       "497  0.846154    0.642857    0.0   0.0   0.0        0.0  0.400000\n",
       "867  0.584615    0.196429    1.0   1.0   1.0        0.0  0.333333\n",
       "137  0.553846    0.053571    1.0   0.0   1.0        0.0  1.000000\n",
       "635  0.538462    0.071429    1.0   0.0   0.0        0.0  1.000000\n",
       "819  0.538462    0.071429    1.0   0.0   1.0        0.0  1.000000"
      ]
     },
     "execution_count": 165,
     "metadata": {},
     "output_type": "execute_result"
    }
   ],
   "source": [
    "x_train.head()"
   ]
  },
  {
   "cell_type": "code",
   "execution_count": 166,
   "id": "9fd6531e-3ee2-4f45-a075-5075dbc356bf",
   "metadata": {},
   "outputs": [
    {
     "data": {
      "text/plain": [
       "497    1\n",
       "867    0\n",
       "137    0\n",
       "635    2\n",
       "819    2\n",
       "Name: Grade, dtype: int32"
      ]
     },
     "execution_count": 166,
     "metadata": {},
     "output_type": "execute_result"
    }
   ],
   "source": [
    "y_train.head()"
   ]
  },
  {
   "cell_type": "code",
   "execution_count": 173,
   "id": "a6f2da6d-224c-48db-a553-9f04a128655d",
   "metadata": {},
   "outputs": [
    {
     "name": "stderr",
     "output_type": "stream",
     "text": [
      "C:\\Users\\Asus\\anaconda3\\Lib\\site-packages\\sklearn\\base.py:439: UserWarning: X does not have valid feature names, but RandomForestClassifier was fitted with feature names\n",
      "  warnings.warn(\n"
     ]
    },
    {
     "data": {
      "text/plain": [
       "array([1])"
      ]
     },
     "execution_count": 173,
     "metadata": {},
     "output_type": "execute_result"
    }
   ],
   "source": [
    "rf_model.predict([[0.846154,\t0.642857,\t0.0,\t0.0\t,0.0,\t0.0,\t0.400000]])"
   ]
  },
  {
   "cell_type": "code",
   "execution_count": 174,
   "id": "b3e8339c-420e-4b4c-a876-a349e3f4faf0",
   "metadata": {},
   "outputs": [
    {
     "name": "stderr",
     "output_type": "stream",
     "text": [
      "C:\\Users\\Asus\\anaconda3\\Lib\\site-packages\\sklearn\\base.py:439: UserWarning: X does not have valid feature names, but RandomForestClassifier was fitted with feature names\n",
      "  warnings.warn(\n"
     ]
    },
    {
     "data": {
      "text/plain": [
       "array([0])"
      ]
     },
     "execution_count": 174,
     "metadata": {},
     "output_type": "execute_result"
    }
   ],
   "source": [
    "rf_model.predict([[0.584615,\t0.196429,\t1.0\t,1.0,\t1.0,\t0.0\t,0.333333]])"
   ]
  },
  {
   "cell_type": "code",
   "execution_count": 175,
   "id": "dd320185-a0de-4de9-b33d-3fc7de532866",
   "metadata": {},
   "outputs": [
    {
     "name": "stderr",
     "output_type": "stream",
     "text": [
      "C:\\Users\\Asus\\anaconda3\\Lib\\site-packages\\sklearn\\base.py:439: UserWarning: X does not have valid feature names, but RandomForestClassifier was fitted with feature names\n",
      "  warnings.warn(\n"
     ]
    },
    {
     "data": {
      "text/plain": [
       "array([0])"
      ]
     },
     "execution_count": 175,
     "metadata": {},
     "output_type": "execute_result"
    }
   ],
   "source": [
    "rf_model.predict([[0.553846,\t0.053571,\t1.0,\t0.0,\t1.0\t,0.0,\t1.000000]])"
   ]
  },
  {
   "cell_type": "code",
   "execution_count": 176,
   "id": "805e426a-30ee-415f-8999-68ecdecaee80",
   "metadata": {},
   "outputs": [
    {
     "name": "stderr",
     "output_type": "stream",
     "text": [
      "C:\\Users\\Asus\\anaconda3\\Lib\\site-packages\\sklearn\\base.py:439: UserWarning: X does not have valid feature names, but RandomForestClassifier was fitted with feature names\n",
      "  warnings.warn(\n"
     ]
    },
    {
     "data": {
      "text/plain": [
       "array([2])"
      ]
     },
     "execution_count": 176,
     "metadata": {},
     "output_type": "execute_result"
    }
   ],
   "source": [
    "rf_model.predict([[0.538462,\t0.071429,\t1.0,\t0.0,\t0.0\t,0.0,\t1.000000]])"
   ]
  },
  {
   "cell_type": "markdown",
   "id": "d17f7653-22cc-488e-8567-dfb2912269ae",
   "metadata": {},
   "source": [
    "\n",
    "# Milk Quality Detection Process\n",
    "\n",
    "## 1.Data Collection\n",
    "The dataset for milk quality detection includes various chemical and physical attributes of milk samples. Each row represents a sample, and each column corresponds to a feature or characteristic of the milk that influences its overall quality.\n",
    "\n",
    "## 2.Data Preprocessing\n",
    "Before training the models, the dataset was preprocessed, including handling any missing values, converting categorical variables, scaling numerical features, and splitting the data into training and test sets to ensure robust evaluation.\n",
    "\n",
    "## 3.Feature Selection\n",
    "The following features are selected for model training:\n",
    "\n",
    "- **pH**: The pH value of the milk sample.\n",
    "- **Temperature**: The temperature of the milk sample (°C).\n",
    "- **Taste**: Whether the milk has a pleasant taste (1 = Yes, 0 = No).\n",
    "- **Odor**: Whether the milk has a pleasant odor (1 = Yes, 0 = No).\n",
    "- **Fat**: Whether the fat content is acceptable (1 = Yes, 0 = No).\n",
    "- **Turbidity**: Whether the milk is turbid (1 = Yes, 0 = No).\n",
    "- **Colour**: Numerical value representing the intensity of the milk's color.\n",
    "- **Grade**: The quality grade of the milk (High, Medium, or Low).\n",
    "## 4.Model Training\n",
    "Several machine learning models were trained to predict the milk's quality grade. The models used in this task and their performance (accuracy) are as follows:\n",
    "\n",
    "- Logistic Regression (LG): 78%\n",
    "- Support Vector Machine (SVM): 85%\n",
    "- Decision Tree (DT): 99%\n",
    "- K-Nearest Neighbors (KNN): 99%\n",
    "- Random Forest (RF): 99.6%\n",
    "- Naive Bayes (NB): 91%\n",
    "- XGBoost (XGB): 100%\n",
    "## 5.Model Evaluation\n",
    "The performance of each model was evaluated using accuracy scores, which measure the percentage of correct predictions on the test set. The XGBoost model achieved the highest accuracy of 100%, indicating perfect performance in classifying milk quality.\n",
    "\n",
    "## 6.Best Model Selection\n",
    "Based on the evaluation results, XGBoost, with an accuracy of 100%, is identified as the best-performing model for this milk quality detection task.\n",
    "## Columns in the Dataset\n",
    "\n",
    "Here is a detailed description of the columns used in the milk quality detection dataset:\n",
    "\n",
    "- **pH**: The pH value of the milk sample, indicating its acidity or alkalinity.\n",
    "- **Temperature**: The temperature of the milk sample in degrees Celsius (°C).\n",
    "- **Taste**: A binary feature representing whether the milk has a pleasant taste (1 = Yes, 0 = No).\n",
    "-**Odor**: A binary feature representing whether the milk has a pleasant odor (1 = Yes, 0 = No).\n",
    "- **Fat**: A binary feature indicating whether the fat content in the milk is acceptable (1 = Yes, 0 = No).\n",
    "- **Turbidity**: A binary feature indicating the turbidity of the milk (1 = Yes, 0 = No), where turbidity refers to the cloudiness or haziness of the milk.\n",
    "- **Colour**: A numerical value representing the intensity of the milk's color, which may vary based on the milk's quality.\n",
    "- **Grade**: The quality grade of the milk, categorized into three classes:\n",
    "   - 1: High: The best quality milk.\n",
    "   - 2: Medium: Moderate quality milk.\n",
    "   - 3 : Low: Poor quality milk.\n",
    "\n",
    "By analyzing important attributes like pH, temperature, taste, odor, fat content, turbidity, and color, machine learning models can classify milk into different quality grades. The XGBoost model is the most effective in this dataset, achieving perfect classification accuracy."
   ]
  },
  {
   "cell_type": "code",
   "execution_count": null,
   "id": "2483e067-38b5-4a31-af63-552dd819fb23",
   "metadata": {},
   "outputs": [],
   "source": []
  }
 ],
 "metadata": {
  "kernelspec": {
   "display_name": "Python 3 (ipykernel)",
   "language": "python",
   "name": "python3"
  },
  "language_info": {
   "codemirror_mode": {
    "name": "ipython",
    "version": 3
   },
   "file_extension": ".py",
   "mimetype": "text/x-python",
   "name": "python",
   "nbconvert_exporter": "python",
   "pygments_lexer": "ipython3",
   "version": "3.11.7"
  }
 },
 "nbformat": 4,
 "nbformat_minor": 5
}
